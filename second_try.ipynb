{
 "cells": [
  {
   "cell_type": "code",
   "execution_count": 3,
   "id": "bfabdf38",
   "metadata": {},
   "outputs": [
    {
     "name": "stdout",
     "output_type": "stream",
     "text": [
      "============================================================\n",
      "OPTIMIZED MODE: P. cubensis References from Files\n",
      "============================================================\n",
      "Reading references from: 03_Sequences_Paper/References/\n",
      "============================================================\n",
      "\n",
      "Building reference panels from FASTA files...\n",
      "  PsiD: 1 sequence(s) -> /Users/felix/Documents/20251015_Meeting_PsiloProteins_Felix/05_codex/reference_panels/Proteins_PsiD/PsiD_refs.faa\n",
      "  PsiK: 1 sequence(s) -> /Users/felix/Documents/20251015_Meeting_PsiloProteins_Felix/05_codex/reference_panels/Proteins_PsiK/PsiK_refs.faa\n",
      "  PsiM: 1 sequence(s) -> /Users/felix/Documents/20251015_Meeting_PsiloProteins_Felix/05_codex/reference_panels/Proteins_PsiM/PsiM_refs.faa\n",
      "  PsiH: 1 sequence(s) -> /Users/felix/Documents/20251015_Meeting_PsiloProteins_Felix/05_codex/reference_panels/Proteins_PsiH/PsiH_refs.faa\n",
      "\n",
      "Reference panels created: 4/4 enzymes\n",
      "============================================================\n",
      "\n",
      "Setup complete! Ready to extract genes.\n"
     ]
    }
   ],
   "source": [
    "# === SETUP & CONFIG (Using References folder) ===\n",
    "\n",
    "from pathlib import Path\n",
    "from Bio import SeqIO\n",
    "from Bio.Seq import Seq\n",
    "from Bio.SeqRecord import SeqRecord\n",
    "import re, gzip, json, subprocess, sys\n",
    "\n",
    "print(\"=\"*60)\n",
    "print(\"OPTIMIZED MODE: P. cubensis References from Files\")\n",
    "print(\"=\"*60)\n",
    "print(\"Reading references from: 03_Sequences_Paper/References/\")\n",
    "print(\"=\"*60 + \"\\n\")\n",
    "\n",
    "# --- Project roots ---\n",
    "BASE = Path.cwd().resolve()\n",
    "DATA_CANDIDATES = [\n",
    "    BASE / \"03_Sequences_Paper\",\n",
    "    BASE.parent / \"03_Sequences_Paper\",\n",
    "]\n",
    "for candidate in DATA_CANDIDATES:\n",
    "    if candidate.exists():\n",
    "        DATA = candidate\n",
    "        break\n",
    "else:\n",
    "    raise FileNotFoundError(\"Unable to locate the 03_Sequences_Paper directory relative to this notebook.\")\n",
    "\n",
    "def resolve_dir(parent: Path, name: str) -> Path:\n",
    "    \"\"\"Resolve directory with optional whitespace handling\"\"\"\n",
    "    direct = parent / name\n",
    "    if direct.exists():\n",
    "        return direct\n",
    "    normalized = [child for child in parent.iterdir() if child.name.strip() == name]\n",
    "    if normalized:\n",
    "        return normalized[0]\n",
    "    raise FileNotFoundError(f'Expected directory \"{name}\" under {parent}')\n",
    "\n",
    "# --- Input folders ---\n",
    "SCAFF_DIR = resolve_dir(DATA, \"Assembly_scaffolds\")\n",
    "REF_SOURCE_DIR = resolve_dir(DATA, \"References\")  # Your reference FASTA files\n",
    "\n",
    "# --- Output folders ---\n",
    "REF_DIR = BASE / \"reference_panels\"\n",
    "OUT_DIR = BASE / \"cds_extraction_outputs\"\n",
    "REF_DIR.mkdir(parents=True, exist_ok=True)\n",
    "OUT_DIR.mkdir(parents=True, exist_ok=True)\n",
    "\n",
    "# --- Enzymes we care about ---\n",
    "ENZYMES = (\"PsiD\", \"PsiK\", \"PsiM\", \"PsiH\")\n",
    "\n",
    "# --- Build reference panels from your FASTA files ---\n",
    "print(\"Building reference panels from FASTA files...\")\n",
    "\n",
    "REFS = {}\n",
    "for enzyme in ENZYMES:\n",
    "    # Create output directory for this enzyme\n",
    "    enzyme_dir = REF_DIR / f\"Proteins_{enzyme}\"\n",
    "    enzyme_dir.mkdir(parents=True, exist_ok=True)\n",
    "\n",
    "    # Look for reference file for this enzyme\n",
    "    ref_file = REF_SOURCE_DIR / f\"{enzyme}_Psilocybe_cubensis.fasta\"\n",
    "\n",
    "    if not ref_file.exists():\n",
    "        print(f\"WARNING: Reference file not found: {ref_file}\")\n",
    "        continue\n",
    "\n",
    "    # Read the reference FASTA file\n",
    "    records = list(SeqIO.parse(ref_file, \"fasta\"))\n",
    "\n",
    "    if not records:\n",
    "        print(f\"WARNING: No sequences found in {ref_file}\")\n",
    "        continue\n",
    "\n",
    "    # Write to reference panel\n",
    "    output_fasta = enzyme_dir / f\"{enzyme}_refs.faa\"\n",
    "    SeqIO.write(records, output_fasta, \"fasta\")\n",
    "\n",
    "    REFS[enzyme] = output_fasta\n",
    "    print(f\"  {enzyme}: {len(records)} sequence(s) -> {output_fasta}\")\n",
    "\n",
    "print(f\"\\nReference panels created: {len(REFS)}/{len(ENZYMES)} enzymes\")\n",
    "print(\"=\"*60 + \"\\n\")\n",
    "\n",
    "# Verify all enzymes have references\n",
    "missing = set(ENZYMES) - set(REFS.keys())\n",
    "if missing:\n",
    "    raise FileNotFoundError(f\"Missing references for: {', '.join(missing)}\")\n",
    "\n",
    "print(\"Setup complete! Ready to extract genes.\")\n"
   ]
  },
  {
   "cell_type": "code",
   "execution_count": 14,
   "id": "bf7ab137",
   "metadata": {},
   "outputs": [
    {
     "name": "stdout",
     "output_type": "stream",
     "text": [
      "Extraction parameters: BESTN=1, PERCENT=30\n",
      "Single reference mode + bestn=1 = ~3-4x faster!\n",
      "\n",
      "============================================================\n",
      "TESTING: Single Species Extraction\n",
      "============================================================\n",
      "\n",
      "Test species: Psilocybe_baeocystis_WTU-F-011245.scaffolds.fasta\n",
      "\n",
      "[Psilocybe_baeocystis_WTU-F-011245.scaffolds] Processing genome with 111,256 scaffolds...\n"
     ]
    },
    {
     "data": {
      "application/vnd.jupyter.widget-view+json": {
       "model_id": "b33e5bfd96224acaaaafeba6506e4a83",
       "version_major": 2,
       "version_minor": 0
      },
      "text/plain": [
       "Psilocybe_baeocystis_WTU-F-011245.scaffolds:   0%|          | 0/4 [00:00<?, ?it/s]"
      ]
     },
     "metadata": {},
     "output_type": "display_data"
    },
    {
     "name": "stdout",
     "output_type": "stream",
     "text": [
      "  [Psilocybe_baeocystis_WTU-F-011245.scaffolds] Processing PsiD... done (4.0s)\n",
      "  [Psilocybe_baeocystis_WTU-F-011245.scaffolds] Processing PsiK... done (3.8s)\n",
      "  [Psilocybe_baeocystis_WTU-F-011245.scaffolds] Processing PsiM... done (3.7s)\n",
      "  [Psilocybe_baeocystis_WTU-F-011245.scaffolds] Processing PsiH... done (5.4s)\n",
      "[Psilocybe_baeocystis_WTU-F-011245.scaffolds] Done! Output → /Users/felix/Documents/20251015_Meeting_PsiloProteins_Felix/05_codex/cds_extraction_outputs/Psilocybe_baeocystis_WTU-F-011245.scaffolds\n",
      "\n",
      "============================================================\n",
      "VALIDATION: Comparing with Example Outputs\n",
      "============================================================\n",
      "\n",
      "📋 PsiD CDS Comparison:\n",
      "   Our length:     618 bp\n",
      "   Example length: 618 bp\n",
      "   ✅ PERFECT MATCH - CDS sequences identical!\n",
      "\n",
      "📋 PsiD Protein Comparison:\n",
      "   Our length:     206 aa\n",
      "   Example length: 206 aa\n",
      "   ✅ PERFECT MATCH - Protein sequences identical!\n",
      "\n",
      "============================================================\n",
      "Validation complete!\n",
      "============================================================\n",
      "\n"
     ]
    }
   ],
   "source": [
    "# === CELL 2: Single-Species Extraction (OPTIMIZED) ===\n",
    "\n",
    "from Bio.Seq import Seq\n",
    "from Bio.SeqRecord import SeqRecord\n",
    "import time\n",
    "\n",
    "try:\n",
    "    from tqdm.auto import tqdm\n",
    "    TQDM_AVAILABLE = True\n",
    "except ImportError:\n",
    "    TQDM_AVAILABLE = False\n",
    "    print(\"Warning: tqdm not installed. Progress bars disabled. Install with: pip install tqdm\")\n",
    "\n",
    "# --- OPTIMIZED PARAMETERS FOR SPEED ---\n",
    "BESTN   = 1     # Best hit only (3x faster than bestn=3)\n",
    "PERCENT = 30    # Minimal percent identity cutoff\n",
    "\n",
    "# Optional soft length bands (AA) to prefer intact ORFs\n",
    "AA_BANDS = {\n",
    "    \"PsiD\": (350, 600),   # TDC typically ~480 aa\n",
    "    \"PsiK\": (250, 420),   # kinase\n",
    "    \"PsiM\": (180, 320),   # methyltransferase\n",
    "    \"PsiH\": (400, 650),   # P450 ~510 aa\n",
    "}\n",
    "\n",
    "print(f\"Extraction parameters: BESTN={BESTN}, PERCENT={PERCENT}\")\n",
    "print(f\"Single reference mode + bestn=1 = ~3-4x faster!\\n\")\n",
    "\n",
    "def run(cmd):\n",
    "    p = subprocess.run(cmd, stdout=subprocess.PIPE, stderr=subprocess.PIPE, text=True)\n",
    "    if p.returncode != 0:\n",
    "        raise RuntimeError(f\"Command failed: {' '.join(map(str,cmd))}\\nSTDERR:\\n{p.stderr}\")\n",
    "    return p.stdout\n",
    "\n",
    "def index_fasta_dict(fasta_path):\n",
    "    return {rec.id: str(rec.seq).upper().replace(\"-\", \"\") for rec in SeqIO.parse(fasta_path, \"fasta\")}\n",
    "\n",
    "def reverse_complement(seq):\n",
    "    return str(Seq(seq).reverse_complement())\n",
    "\n",
    "def translate_orf(seq):\n",
    "    prot = str(Seq(seq).translate(to_stop=False))\n",
    "    in_frame = (len(seq) % 3 == 0)\n",
    "    has_internal_stop = \"*\" in prot[:-1]\n",
    "    return prot, in_frame, has_internal_stop\n",
    "\n",
    "def parse_exonerate_gff(gff_text):\n",
    "    \"\"\"\n",
    "    Parse exonerate --showtargetgff output.\n",
    "    Returns list of hits dicts with keys: seqid,strand,score,exons(list of (s,e,phase))\n",
    "    \"\"\"\n",
    "    lines = [ln for ln in gff_text.splitlines() if ln and not ln.startswith(\"#\")]\n",
    "    hits, current = [], None\n",
    "    for ln in lines:\n",
    "        if \"\\t\" not in ln: \n",
    "            continue\n",
    "        seqid, source, feature, start, end, score, strand, phase, attrs = ln.split(\"\\t\")\n",
    "        start, end = int(start), int(end)\n",
    "        score = 0.0 if score == \".\" else float(score)\n",
    "        f = feature.lower()\n",
    "        if f == \"gene\":\n",
    "            if current and current.get(\"exons\"):\n",
    "                hits.append(current)\n",
    "            current = {\"seqid\": seqid, \"strand\": strand, \"score\": score, \"exons\": [], \"attrs\": attrs}\n",
    "        elif f == \"cds\":\n",
    "            if current is None:\n",
    "                current = {\"seqid\": seqid, \"strand\": strand, \"score\": score, \"exons\": [], \"attrs\": attrs}\n",
    "            ph = 0 if phase == \".\" else int(phase)\n",
    "            current[\"exons\"].append((start, end, ph))\n",
    "    if current and current.get(\"exons\"):\n",
    "        hits.append(current)\n",
    "    for h in hits:\n",
    "        h[\"exons\"].sort(key=lambda x: x[0])\n",
    "    return hits\n",
    "\n",
    "def stitch_cds(genome_dict, hit):\n",
    "    seq_parts = [genome_dict[hit[\"seqid\"]][s-1:e] for (s,e,ph) in hit[\"exons\"]]\n",
    "    cds = \"\".join(seq_parts)\n",
    "    if hit[\"strand\"] == \"-\":\n",
    "        cds = reverse_complement(cds)\n",
    "    # trim to multiple of 3 if needed\n",
    "    if len(cds) % 3 != 0:\n",
    "        cds = cds[:len(cds) - (len(cds) % 3)]\n",
    "    return cds\n",
    "\n",
    "def exonerate_protein2genome(ref_faa, scaff_fa, bestn=BESTN, minpct=PERCENT):\n",
    "    return run([\n",
    "        \"exonerate\", \"--model\", \"protein2genome\",\n",
    "        \"--showtargetgff\", \"yes\", \"--showalignment\", \"no\", \"--showvulgar\", \"no\",\n",
    "        \"--bestn\", str(bestn), \"--percent\", str(minpct),\n",
    "        str(ref_faa), str(scaff_fa)\n",
    "    ])\n",
    "\n",
    "def score_candidate(enzyme, prot, in_frame, has_stop, score_raw, nt_len):\n",
    "    \"\"\"Lower is better; prefer in-frame, no stops, within AA band, higher score, longer.\"\"\"\n",
    "    aa_len = len(prot.rstrip(\"*\"))\n",
    "    band_pen = 0\n",
    "    if AA_BANDS.get(enzyme):\n",
    "        lo, hi = AA_BANDS[enzyme]\n",
    "        if not (lo <= aa_len <= hi):\n",
    "            band_pen = 1\n",
    "    return (\n",
    "        int(has_stop),          # 0 preferred\n",
    "        int(not in_frame),      # 0 preferred\n",
    "        band_pen,               # 0 preferred\n",
    "        -score_raw,             # higher exonerate score preferred\n",
    "        -nt_len,                # longer CDS preferred\n",
    "    )\n",
    "\n",
    "def run_species(scaff_fa_path, out_dir=OUT_DIR, pbar=None, verbose=True):\n",
    "    \"\"\"Extract PsiD/K/M/H for one species FASTA; returns a summary dict.\"\"\"\n",
    "    species = Path(scaff_fa_path).stem\n",
    "    genome = index_fasta_dict(scaff_fa_path)\n",
    "    species_out = out_dir / species\n",
    "    species_out.mkdir(parents=True, exist_ok=True)\n",
    "    summary = {\"species\": species, \"results\": []}\n",
    "\n",
    "    # Count scaffolds for info\n",
    "    n_scaffolds = len(genome)\n",
    "    if verbose and pbar is None:\n",
    "        print(f\"[{species}] Processing genome with {n_scaffolds:,} scaffolds...\")\n",
    "\n",
    "    # Create enzyme-level progress bar if tqdm available\n",
    "    enzyme_iter = REFS.items()\n",
    "    if TQDM_AVAILABLE and pbar is None:  # only show enzyme bar in single-species mode\n",
    "        enzyme_iter = tqdm(enzyme_iter, desc=f\"{species}\", leave=False, total=len(REFS))\n",
    "\n",
    "    for enzyme, ref_path in enzyme_iter:\n",
    "        if verbose and pbar is None:\n",
    "            print(f\"  [{species}] Processing {enzyme}...\", end=\" \", flush=True)\n",
    "        \n",
    "        start_time = time.time()\n",
    "        candidates = []\n",
    "        \n",
    "        # Single reference mode - ref_path is a Path object, not a list\n",
    "        if not ref_path.exists():\n",
    "            if verbose and pbar is None:\n",
    "                print(f\"ERROR: Reference not found\")\n",
    "            summary[\"results\"].append({\n",
    "                \"enzyme\": enzyme,\n",
    "                \"status\": \"ERROR\",\n",
    "                \"error\": f\"Reference file not found: {ref_path}\"\n",
    "            })\n",
    "            continue\n",
    "        \n",
    "        gff_text = exonerate_protein2genome(ref_path, scaff_fa_path, bestn=BESTN, minpct=PERCENT)\n",
    "        for h in parse_exonerate_gff(gff_text):\n",
    "            cds = stitch_cds(genome, h)\n",
    "            if not cds:\n",
    "                continue\n",
    "            prot, in_frame, has_stop = translate_orf(cds)\n",
    "            cand = {\n",
    "                \"enzyme\": enzyme, \"score\": h[\"score\"], \"nt_len\": len(cds),\n",
    "                \"in_frame\": in_frame, \"has_stop\": has_stop, \"blocks\": len(h[\"exons\"]),\n",
    "                \"strand\": h[\"strand\"], \"seqid\": h[\"seqid\"], \"cds\": cds, \"prot\": prot\n",
    "            }\n",
    "            candidates.append(cand)\n",
    "        \n",
    "        elapsed = time.time() - start_time\n",
    "        if verbose and pbar is None:\n",
    "            print(f\"done ({elapsed:.1f}s)\", flush=True)\n",
    "\n",
    "        if not candidates:\n",
    "            summary[\"results\"].append({\"enzyme\": enzyme, \"status\": \"NO_HIT\"})\n",
    "            continue\n",
    "\n",
    "        # pick the best candidate (with bestn=1, usually only 1 candidate anyway)\n",
    "        best = sorted(\n",
    "            candidates,\n",
    "            key=lambda c: score_candidate(enzyme, c[\"prot\"], c[\"in_frame\"], c[\"has_stop\"], c[\"score\"], c[\"nt_len\"])\n",
    "        )[0]\n",
    "\n",
    "        # write outputs\n",
    "        cds_rec  = SeqRecord(Seq(best[\"cds\"]), id=f\"{species}|{enzyme}\", description=f\"score={best['score']};blocks={best['blocks']};strand={best['strand']}\")\n",
    "        prot_rec = SeqRecord(Seq(best[\"prot\"]), id=f\"{species}|{enzyme}\", description=f\"in_frame={best['in_frame']};has_stop={best['has_stop']}\")\n",
    "        SeqIO.write([cds_rec],  species_out / f\"{species}_{enzyme}.cds.fa\",  \"fasta\")\n",
    "        SeqIO.write([prot_rec], species_out / f\"{species}_{enzyme}.prot.fa\", \"fasta\")\n",
    "\n",
    "        status = \"OK\" if (best[\"in_frame\"] and not best[\"has_stop\"]) else \"CHECK_ORF\"\n",
    "        summary[\"results\"].append({\n",
    "            \"enzyme\": enzyme, \"status\": status, \"score\": best[\"score\"],\n",
    "            \"nt_len\": best[\"nt_len\"], \"blocks\": best[\"blocks\"], \"strand\": best[\"strand\"], \"seqid\": best[\"seqid\"]\n",
    "        })\n",
    "\n",
    "    # write per-species JSON summary\n",
    "    with open((species_out / f\"{species}_summary.json\"), \"w\") as fh:\n",
    "        json.dump(summary, fh, indent=2)\n",
    "    \n",
    "    # Update batch progress bar if provided\n",
    "    if pbar is not None:\n",
    "        pbar.update(1)\n",
    "    else:\n",
    "        print(f\"[{species}] Done! Output → {species_out}\")\n",
    "    \n",
    "    return summary\n",
    "\n",
    "# === EXAMPLE: run one species ===\n",
    "print(\"=\"*60)\n",
    "print(\"TESTING: Single Species Extraction\")\n",
    "print(\"=\"*60 + \"\\n\")\n",
    "\n",
    "one_species = sorted(SCAFF_DIR.glob(\"Psilocybe_baeocystis*.fa*\"))[0]\n",
    "print(f\"Test species: {one_species.name}\\n\")\n",
    "test_summary = run_species(one_species, OUT_DIR)\n",
    "\n",
    "# === VALIDATION: Compare with Example Outputs ===\n",
    "print(\"\\n\" + \"=\"*60)\n",
    "print(\"VALIDATION: Comparing with Example Outputs\")\n",
    "print(\"=\"*60 + \"\\n\")\n",
    "\n",
    "EXAMPLE_DIR = BASE.parent / \"02_ColabResults_Example\"\n",
    "if EXAMPLE_DIR.exists():\n",
    "    species_name = one_species.stem\n",
    "    our_out = OUT_DIR / species_name\n",
    "    \n",
    "    # Only PsiD has example output\n",
    "    enzyme = \"PsiD\"\n",
    "    \n",
    "    # Compare CDS\n",
    "    our_cds = our_out / f\"{species_name}_{enzyme}.cds.fa\"\n",
    "    example_cds = EXAMPLE_DIR / \"P_baeocystis_PsiD.cds.fa\"\n",
    "    \n",
    "    # Compare Protein\n",
    "    our_prot = our_out / f\"{species_name}_{enzyme}.prot.fa\"\n",
    "    example_prot = EXAMPLE_DIR / \"P_baeocystis_PsiD.prot.fa\"\n",
    "    \n",
    "    if our_cds.exists() and example_cds.exists():\n",
    "        our_cds_seq = str(list(SeqIO.parse(our_cds, \"fasta\"))[0].seq)\n",
    "        example_cds_seq = str(list(SeqIO.parse(example_cds, \"fasta\"))[0].seq)\n",
    "        \n",
    "        print(f\"📋 {enzyme} CDS Comparison:\")\n",
    "        print(f\"   Our length:     {len(our_cds_seq):,} bp\")\n",
    "        print(f\"   Example length: {len(example_cds_seq):,} bp\")\n",
    "        \n",
    "        if our_cds_seq == example_cds_seq:\n",
    "            print(f\"   ✅ PERFECT MATCH - CDS sequences identical!\\n\")\n",
    "        else:\n",
    "            # Check if they're close\n",
    "            from difflib import SequenceMatcher\n",
    "            similarity = SequenceMatcher(None, our_cds_seq, example_cds_seq).ratio()\n",
    "            print(f\"   ⚠️  Sequences differ (similarity: {similarity*100:.1f}%)\")\n",
    "            \n",
    "            # Show first difference\n",
    "            for i, (a, b) in enumerate(zip(our_cds_seq, example_cds_seq)):\n",
    "                if a != b:\n",
    "                    print(f\"   First difference at position {i}: {a} vs {b}\\n\")\n",
    "                    break\n",
    "    \n",
    "    if our_prot.exists() and example_prot.exists():\n",
    "        our_prot_seq = str(list(SeqIO.parse(our_prot, \"fasta\"))[0].seq)\n",
    "        example_prot_seq = str(list(SeqIO.parse(example_prot, \"fasta\"))[0].seq)\n",
    "        \n",
    "        print(f\"📋 {enzyme} Protein Comparison:\")\n",
    "        print(f\"   Our length:     {len(our_prot_seq)} aa\")\n",
    "        print(f\"   Example length: {len(example_prot_seq)} aa\")\n",
    "        \n",
    "        if our_prot_seq == example_prot_seq:\n",
    "            print(f\"   ✅ PERFECT MATCH - Protein sequences identical!\")\n",
    "        else:\n",
    "            similarity = SequenceMatcher(None, our_prot_seq, example_prot_seq).ratio()\n",
    "            print(f\"   ⚠️  Sequences differ (similarity: {similarity*100:.1f}%)\")\n",
    "            \n",
    "            # Show first difference\n",
    "            for i, (a, b) in enumerate(zip(our_prot_seq, example_prot_seq)):\n",
    "                if a != b:\n",
    "                    print(f\"   First difference at position {i}: {a} vs {b}\")\n",
    "                    break\n",
    "    \n",
    "    print(\"\\n\" + \"=\"*60)\n",
    "    print(\"Validation complete!\")\n",
    "    print(\"=\"*60 + \"\\n\")\n",
    "else:\n",
    "    print(f\"⚠️  Example directory not found: {EXAMPLE_DIR}\")\n",
    "    print(\"   Skipping validation comparison.\\n\")\n"
   ]
  },
  {
   "cell_type": "code",
   "execution_count": 15,
   "id": "c453dbea",
   "metadata": {},
   "outputs": [
    {
     "name": "stdout",
     "output_type": "stream",
     "text": [
      "Total species to process: 71\n",
      "Using 12 parallel threads\n",
      "============================================================\n",
      "\n"
     ]
    },
    {
     "data": {
      "application/vnd.jupyter.widget-view+json": {
       "model_id": "c6cb60f52c6243f3a1aff0f78590c701",
       "version_major": 2,
       "version_minor": 0
      },
      "text/plain": [
       "Processing species:   0%|          | 0/71 [00:00<?, ?species/s]"
      ]
     },
     "metadata": {},
     "output_type": "display_data"
    },
    {
     "data": {
      "application/vnd.jupyter.widget-view+json": {
       "model_id": "ed18914bf0e1419c852b0b96aa452c59",
       "version_major": 2,
       "version_minor": 0
      },
      "text/plain": [
       "Psilocybe_angustipleurocystidiata_ISOTYPE_NY-761597.scaffolds:   0%|          | 0/4 [00:00<?, ?it/s]"
      ]
     },
     "metadata": {},
     "output_type": "display_data"
    },
    {
     "data": {
      "application/vnd.jupyter.widget-view+json": {
       "model_id": "2284e34fcfcd49b4955453d8f3b34c5b",
       "version_major": 2,
       "version_minor": 0
      },
      "text/plain": [
       "Psilocybe_argentina_SFSU-F-029894.scaffolds:   0%|          | 0/4 [00:00<?, ?it/s]"
      ]
     },
     "metadata": {},
     "output_type": "display_data"
    },
    {
     "data": {
      "application/vnd.jupyter.widget-view+json": {
       "model_id": "60e00cb8f37447f49d8e3e8577a90629",
       "version_major": 2,
       "version_minor": 0
      },
      "text/plain": [
       "Psilocybe_azurescens_WTU-F19095-HOLOTYPE.scaffolds:   0%|          | 0/4 [00:00<?, ?it/s]"
      ]
     },
     "metadata": {},
     "output_type": "display_data"
    },
    {
     "data": {
      "application/vnd.jupyter.widget-view+json": {
       "model_id": "cac0c5ab84db420ca9308335b8402579",
       "version_major": 2,
       "version_minor": 0
      },
      "text/plain": [
       "Psilocybe_argentipes_NY-1595850.scaffolds:   0%|          | 0/4 [00:00<?, ?it/s]"
      ]
     },
     "metadata": {},
     "output_type": "display_data"
    },
    {
     "data": {
      "application/vnd.jupyter.widget-view+json": {
       "model_id": "31f94b7983ed4e8d9ffa5749e6d74dac",
       "version_major": 2,
       "version_minor": 0
      },
      "text/plain": [
       "Psilocybe_azurescens_Lg-bg-ut.scaffolds:   0%|          | 0/4 [00:00<?, ?it/s]"
      ]
     },
     "metadata": {},
     "output_type": "display_data"
    },
    {
     "data": {
      "application/vnd.jupyter.widget-view+json": {
       "model_id": "569015858f534e3c8231b7cf922ddc7d",
       "version_major": 2,
       "version_minor": 0
      },
      "text/plain": [
       "Psilocybe_bohemica_SFSU-F-029930.scaffolds:   0%|          | 0/4 [00:01<?, ?it/s]"
      ]
     },
     "metadata": {},
     "output_type": "display_data"
    },
    {
     "data": {
      "application/vnd.jupyter.widget-view+json": {
       "model_id": "789645a3c4d34abf974d2da6dabf3876",
       "version_major": 2,
       "version_minor": 0
      },
      "text/plain": [
       "Psilocybe_arcana_ISOTYPE_SFSU-F-000737.scaffolds:   0%|          | 0/4 [00:00<?, ?it/s]"
      ]
     },
     "metadata": {},
     "output_type": "display_data"
    },
    {
     "data": {
      "application/vnd.jupyter.widget-view+json": {
       "model_id": "77554d7b199a4385acc853feeb5d6a47",
       "version_major": 2,
       "version_minor": 0
      },
      "text/plain": [
       "Psilocybe_baeocystis_WTU-F-011245.scaffolds:   0%|          | 0/4 [00:00<?, ?it/s]"
      ]
     },
     "metadata": {},
     "output_type": "display_data"
    },
    {
     "data": {
      "application/vnd.jupyter.widget-view+json": {
       "model_id": "0b262386dc2b461f8c9d7046079a5cc3",
       "version_major": 2,
       "version_minor": 0
      },
      "text/plain": [
       "Psilocybe_aztecorum_var_bonetii_NY-1595856.scaffolds:   0%|          | 0/4 [00:00<?, ?it/s]"
      ]
     },
     "metadata": {},
     "output_type": "display_data"
    },
    {
     "data": {
      "application/vnd.jupyter.widget-view+json": {
       "model_id": "dfc1bb33b05f49b59a8a8d3efcb77e85",
       "version_major": 2,
       "version_minor": 0
      },
      "text/plain": [
       "Psilocybe_aztecorum_SFSU-F-029933.scaffolds:   0%|          | 0/4 [00:00<?, ?it/s]"
      ]
     },
     "metadata": {},
     "output_type": "display_data"
    },
    {
     "data": {
      "application/vnd.jupyter.widget-view+json": {
       "model_id": "b2d66eef317747adb345769de58e6a94",
       "version_major": 2,
       "version_minor": 0
      },
      "text/plain": [
       "Psilocybe_acutissima_GAM00011063.scaffolds:   0%|          | 0/4 [00:00<?, ?it/s]"
      ]
     },
     "metadata": {},
     "output_type": "display_data"
    },
    {
     "data": {
      "application/vnd.jupyter.widget-view+json": {
       "model_id": "3c51218f3724411e96a28208bf874f35",
       "version_major": 2,
       "version_minor": 0
      },
      "text/plain": [
       "Psilocybe_apelliculosa_UBC-F17545.scaffolds:   0%|          | 0/4 [00:00<?, ?it/s]"
      ]
     },
     "metadata": {},
     "output_type": "display_data"
    },
    {
     "name": "stdout",
     "output_type": "stream",
     "text": [
      "[Psilocybe_azurescens_WTU-F19095-HOLOTYPE.scaffolds] Done! Output → /Users/felix/Documents/20251015_Meeting_PsiloProteins_Felix/05_codex/cds_extraction_outputs/Psilocybe_azurescens_WTU-F19095-HOLOTYPE.scaffolds\n"
     ]
    },
    {
     "data": {
      "application/vnd.jupyter.widget-view+json": {
       "model_id": "69f80828d5eb408d85715510dfac4a50",
       "version_major": 2,
       "version_minor": 0
      },
      "text/plain": [
       "Psilocybe_caerulescens_NY-1920304.scaffolds:   0%|          | 0/4 [00:00<?, ?it/s]"
      ]
     },
     "metadata": {},
     "output_type": "display_data"
    },
    {
     "name": "stdout",
     "output_type": "stream",
     "text": [
      "[Psilocybe_argentipes_NY-1595850.scaffolds] Done! Output → /Users/felix/Documents/20251015_Meeting_PsiloProteins_Felix/05_codex/cds_extraction_outputs/Psilocybe_argentipes_NY-1595850.scaffolds\n",
      "[Psilocybe_argentina_SFSU-F-029894.scaffolds] Done! Output → /Users/felix/Documents/20251015_Meeting_PsiloProteins_Felix/05_codex/cds_extraction_outputs/Psilocybe_argentina_SFSU-F-029894.scaffolds\n",
      "[Psilocybe_angustipleurocystidiata_ISOTYPE_NY-761597.scaffolds] Done! Output → /Users/felix/Documents/20251015_Meeting_PsiloProteins_Felix/05_codex/cds_extraction_outputs/Psilocybe_angustipleurocystidiata_ISOTYPE_NY-761597.scaffolds\n"
     ]
    },
    {
     "data": {
      "application/vnd.jupyter.widget-view+json": {
       "model_id": "7d7563467b7e42b39dfcda81cee439ee",
       "version_major": 2,
       "version_minor": 0
      },
      "text/plain": [
       "Psilocybe_caerulipes_PUL00030154.scaffolds:   0%|          | 0/4 [00:00<?, ?it/s]"
      ]
     },
     "metadata": {},
     "output_type": "display_data"
    },
    {
     "data": {
      "application/vnd.jupyter.widget-view+json": {
       "model_id": "2a9713bcceb041f0ba5a3b0f88883bd1",
       "version_major": 2,
       "version_minor": 0
      },
      "text/plain": [
       "Psilocybe_callosa_NY-1595861.scaffolds:   0%|          | 0/4 [00:00<?, ?it/s]"
      ]
     },
     "metadata": {},
     "output_type": "display_data"
    },
    {
     "name": "stdout",
     "output_type": "stream",
     "text": [
      "[Psilocybe_bohemica_SFSU-F-029930.scaffolds] Done! Output → /Users/felix/Documents/20251015_Meeting_PsiloProteins_Felix/05_codex/cds_extraction_outputs/Psilocybe_bohemica_SFSU-F-029930.scaffolds\n",
      "[Psilocybe_arcana_ISOTYPE_SFSU-F-000737.scaffolds] Done! Output → /Users/felix/Documents/20251015_Meeting_PsiloProteins_Felix/05_codex/cds_extraction_outputs/Psilocybe_arcana_ISOTYPE_SFSU-F-000737.scaffolds\n",
      "[Psilocybe_baeocystis_WTU-F-011245.scaffolds] Done! Output → /Users/felix/Documents/20251015_Meeting_PsiloProteins_Felix/05_codex/cds_extraction_outputs/Psilocybe_baeocystis_WTU-F-011245.scaffolds\n"
     ]
    },
    {
     "data": {
      "application/vnd.jupyter.widget-view+json": {
       "model_id": "a32fc6c7b23b49609091c6c781e4cdb1",
       "version_major": 2,
       "version_minor": 0
      },
      "text/plain": [
       "Psilocybe_chionophila_OSC-113991.scaffolds:   0%|          | 0/4 [00:00<?, ?it/s]"
      ]
     },
     "metadata": {},
     "output_type": "display_data"
    },
    {
     "name": "stdout",
     "output_type": "stream",
     "text": [
      "[Psilocybe_azurescens_Lg-bg-ut.scaffolds] Done! Output → /Users/felix/Documents/20251015_Meeting_PsiloProteins_Felix/05_codex/cds_extraction_outputs/Psilocybe_azurescens_Lg-bg-ut.scaffolds\n"
     ]
    },
    {
     "data": {
      "application/vnd.jupyter.widget-view+json": {
       "model_id": "ecab4e23866f465398cd50a18ffa768a",
       "version_major": 2,
       "version_minor": 0
      },
      "text/plain": [
       "Psilocybe_columbiana_ISOTYPE_NY-761607.scaffolds:   0%|          | 0/4 [00:00<?, ?it/s]"
      ]
     },
     "metadata": {},
     "output_type": "display_data"
    },
    {
     "name": "stdout",
     "output_type": "stream",
     "text": [
      "[Psilocybe_aztecorum_SFSU-F-029933.scaffolds] Done! Output → /Users/felix/Documents/20251015_Meeting_PsiloProteins_Felix/05_codex/cds_extraction_outputs/Psilocybe_aztecorum_SFSU-F-029933.scaffolds\n"
     ]
    },
    {
     "data": {
      "application/vnd.jupyter.widget-view+json": {
       "model_id": "11eb8fc2a71f4b4787cb60d90e07b49a",
       "version_major": 2,
       "version_minor": 0
      },
      "text/plain": [
       "Psilocybe_clavata_ISOTYPE_NY-761604.scaffolds:   0%|          | 0/4 [00:00<?, ?it/s]"
      ]
     },
     "metadata": {},
     "output_type": "display_data"
    },
    {
     "data": {
      "application/vnd.jupyter.widget-view+json": {
       "model_id": "c4f44bdbed094dd5909fbdfe144118b0",
       "version_major": 2,
       "version_minor": 0
      },
      "text/plain": [
       "Psilocybe_cubensis_IBUG-4367.scaffolds:   0%|          | 0/4 [00:00<?, ?it/s]"
      ]
     },
     "metadata": {},
     "output_type": "display_data"
    },
    {
     "data": {
      "application/vnd.jupyter.widget-view+json": {
       "model_id": "bbf3c3123ae142cd96861c2ffac653c7",
       "version_major": 2,
       "version_minor": 0
      },
      "text/plain": [
       "Psilocybe_caerulescens_var_mazatecorum_SFSU-F-029971.scaffolds:   0%|          | 0/4 [00:00<?, ?it/s]"
      ]
     },
     "metadata": {},
     "output_type": "display_data"
    },
    {
     "data": {
      "application/vnd.jupyter.widget-view+json": {
       "model_id": "acc7998bd20f4207be912a08be589e30",
       "version_major": 2,
       "version_minor": 0
      },
      "text/plain": [
       "Psilocybe_congolensis_ISOTYPE_NY-1652567.scaffolds:   0%|          | 0/4 [00:00<?, ?it/s]"
      ]
     },
     "metadata": {},
     "output_type": "display_data"
    },
    {
     "name": "stdout",
     "output_type": "stream",
     "text": [
      "[Psilocybe_caerulescens_NY-1920304.scaffolds] Done! Output → /Users/felix/Documents/20251015_Meeting_PsiloProteins_Felix/05_codex/cds_extraction_outputs/Psilocybe_caerulescens_NY-1920304.scaffolds\n",
      "[Psilocybe_aztecorum_var_bonetii_NY-1595856.scaffolds] Done! Output → /Users/felix/Documents/20251015_Meeting_PsiloProteins_Felix/05_codex/cds_extraction_outputs/Psilocybe_aztecorum_var_bonetii_NY-1595856.scaffolds\n"
     ]
    },
    {
     "data": {
      "application/vnd.jupyter.widget-view+json": {
       "model_id": "4629b3fa28ad4b3fadd2dc42de456094",
       "version_major": 2,
       "version_minor": 0
      },
      "text/plain": [
       "Psilocybe_cyanescens_WTU-F-011306.scaffolds:   0%|          | 0/4 [00:00<?, ?it/s]"
      ]
     },
     "metadata": {},
     "output_type": "display_data"
    },
    {
     "data": {
      "application/vnd.jupyter.widget-view+json": {
       "model_id": "07a1a789c07d485ea037e1e05d461ed0",
       "version_major": 2,
       "version_minor": 0
      },
      "text/plain": [
       "Psilocybe_cyanofibrillosa_ISOTYPE_NY-761605.scaffolds:   0%|          | 0/4 [00:00<?, ?it/s]"
      ]
     },
     "metadata": {},
     "output_type": "display_data"
    },
    {
     "name": "stdout",
     "output_type": "stream",
     "text": [
      "[Psilocybe_cubensis_IBUG-4367.scaffolds] Done! Output → /Users/felix/Documents/20251015_Meeting_PsiloProteins_Felix/05_codex/cds_extraction_outputs/Psilocybe_cubensis_IBUG-4367.scaffolds\n"
     ]
    },
    {
     "data": {
      "application/vnd.jupyter.widget-view+json": {
       "model_id": "e9c57414fe844b2abcf6dd00d19a2ae5",
       "version_major": 2,
       "version_minor": 0
      },
      "text/plain": [
       "Psilocybe_fagicola_var_mesocystidiata_NY-761608.scaffolds:   0%|          | 0/4 [00:00<?, ?it/s]"
      ]
     },
     "metadata": {},
     "output_type": "display_data"
    },
    {
     "name": "stdout",
     "output_type": "stream",
     "text": [
      "[Psilocybe_columbiana_ISOTYPE_NY-761607.scaffolds] Done! Output → /Users/felix/Documents/20251015_Meeting_PsiloProteins_Felix/05_codex/cds_extraction_outputs/Psilocybe_columbiana_ISOTYPE_NY-761607.scaffolds\n"
     ]
    },
    {
     "data": {
      "application/vnd.jupyter.widget-view+json": {
       "model_id": "4a3f1d3c6cde42c09d1ee4f2a1860c90",
       "version_major": 2,
       "version_minor": 0
      },
      "text/plain": [
       "Psilocybe_fimetaria_UBC-F30923.scaffolds:   0%|          | 0/4 [00:00<?, ?it/s]"
      ]
     },
     "metadata": {},
     "output_type": "display_data"
    },
    {
     "name": "stdout",
     "output_type": "stream",
     "text": [
      "[Psilocybe_caerulipes_PUL00030154.scaffolds] Done! Output → /Users/felix/Documents/20251015_Meeting_PsiloProteins_Felix/05_codex/cds_extraction_outputs/Psilocybe_caerulipes_PUL00030154.scaffolds\n",
      "[Psilocybe_cyanescens_WTU-F-011306.scaffolds] Done! Output → /Users/felix/Documents/20251015_Meeting_PsiloProteins_Felix/05_codex/cds_extraction_outputs/Psilocybe_cyanescens_WTU-F-011306.scaffolds\n",
      "[Psilocybe_chionophila_OSC-113991.scaffolds] Done! Output → /Users/felix/Documents/20251015_Meeting_PsiloProteins_Felix/05_codex/cds_extraction_outputs/Psilocybe_chionophila_OSC-113991.scaffolds\n"
     ]
    },
    {
     "data": {
      "application/vnd.jupyter.widget-view+json": {
       "model_id": "6550c49a95d64129bdd9a33031b876e5",
       "version_major": 2,
       "version_minor": 0
      },
      "text/plain": [
       "Psilocybe_galindii_ISOTYPE_NY-761609.scaffolds:   0%|          | 0/4 [00:00<?, ?it/s]"
      ]
     },
     "metadata": {},
     "output_type": "display_data"
    },
    {
     "data": {
      "application/vnd.jupyter.widget-view+json": {
       "model_id": "d8963dd18fa14df4ba9ce6c9dc6787a0",
       "version_major": 2,
       "version_minor": 0
      },
      "text/plain": [
       "Psilocybe_fuliginosa_NY-1901148.scaffolds:   0%|          | 0/4 [00:00<?, ?it/s]"
      ]
     },
     "metadata": {},
     "output_type": "display_data"
    },
    {
     "name": "stdout",
     "output_type": "stream",
     "text": [
      "[Psilocybe_callosa_NY-1595861.scaffolds] Done! Output → /Users/felix/Documents/20251015_Meeting_PsiloProteins_Felix/05_codex/cds_extraction_outputs/Psilocybe_callosa_NY-1595861.scaffolds\n"
     ]
    },
    {
     "data": {
      "application/vnd.jupyter.widget-view+json": {
       "model_id": "6eba8561280f4248b9c15e2a432e8be2",
       "version_major": 2,
       "version_minor": 0
      },
      "text/plain": [
       "Psilocybe_guilartensis_PARATYPE_CFMR-PR-5680.scaffolds:   0%|          | 0/4 [00:00<?, ?it/s]"
      ]
     },
     "metadata": {},
     "output_type": "display_data"
    },
    {
     "data": {
      "application/vnd.jupyter.widget-view+json": {
       "model_id": "1b07d021fc444453bdf275be08edb693",
       "version_major": 2,
       "version_minor": 0
      },
      "text/plain": [
       "Psilocybe_heimii_ISOTYPE_NY-761610.scaffolds:   0%|          | 0/4 [00:00<?, ?it/s]"
      ]
     },
     "metadata": {},
     "output_type": "display_data"
    },
    {
     "name": "stdout",
     "output_type": "stream",
     "text": [
      "[Psilocybe_acutissima_GAM00011063.scaffolds] Done! Output → /Users/felix/Documents/20251015_Meeting_PsiloProteins_Felix/05_codex/cds_extraction_outputs/Psilocybe_acutissima_GAM00011063.scaffolds\n"
     ]
    },
    {
     "data": {
      "application/vnd.jupyter.widget-view+json": {
       "model_id": "91f973700f094ba3a2ef27ad45269d15",
       "version_major": 2,
       "version_minor": 0
      },
      "text/plain": [
       "Psilocybe_hoogshageni_SFSU-F-029980.scaffolds:   0%|          | 0/4 [00:00<?, ?it/s]"
      ]
     },
     "metadata": {},
     "output_type": "display_data"
    },
    {
     "name": "stdout",
     "output_type": "stream",
     "text": [
      "[Psilocybe_apelliculosa_UBC-F17545.scaffolds] Done! Output → /Users/felix/Documents/20251015_Meeting_PsiloProteins_Felix/05_codex/cds_extraction_outputs/Psilocybe_apelliculosa_UBC-F17545.scaffolds\n",
      "[Psilocybe_cyanofibrillosa_ISOTYPE_NY-761605.scaffolds] Done! Output → /Users/felix/Documents/20251015_Meeting_PsiloProteins_Felix/05_codex/cds_extraction_outputs/Psilocybe_cyanofibrillosa_ISOTYPE_NY-761605.scaffolds\n"
     ]
    },
    {
     "data": {
      "application/vnd.jupyter.widget-view+json": {
       "model_id": "efe199a6fe54462aad4c584b47c10934",
       "version_major": 2,
       "version_minor": 0
      },
      "text/plain": [
       "Psilocybe_hoogshagenii_var_convexa_ISOTYPE_NY-761612.scaffolds:   0%|          | 0/4 [00:00<?, ?it/s]"
      ]
     },
     "metadata": {},
     "output_type": "display_data"
    },
    {
     "data": {
      "application/vnd.jupyter.widget-view+json": {
       "model_id": "a0e26943ee13491e9cc3de273cb2a887",
       "version_major": 2,
       "version_minor": 0
      },
      "text/plain": [
       "Psilocybe_hopii_ISOTYPE_XAL-#.scaffolds:   0%|          | 0/4 [00:00<?, ?it/s]"
      ]
     },
     "metadata": {},
     "output_type": "display_data"
    },
    {
     "name": "stdout",
     "output_type": "stream",
     "text": [
      "\n",
      "✗ ERROR in Psilocybe_fuliginosa_NY-1901148.scaffolds: Command failed: exonerate --model protein2genome --showtargetgff yes --showalignment no --showvulgar no --bestn 1 --percent 30 /Users/felix/Documents/20251015_Meeting_PsiloProteins_Felix/05_codex/reference_panels/Proteins_PsiM/PsiM_refs.faa /Users/felix/Documents/20251015_Meeting_PsiloProteins_Felix/03_Sequences_Paper/Assembly_scaffolds/Psilocybe_fuliginosa_NY-1901148.scaffolds.fasta\n",
      "STDERR:\n",
      "\n"
     ]
    },
    {
     "data": {
      "application/vnd.jupyter.widget-view+json": {
       "model_id": "8f74c87caa294dc2a46ea214badf8e90",
       "version_major": 2,
       "version_minor": 0
      },
      "text/plain": [
       "Psilocybe_laticystis_UBC-F16759.scaffolds:   0%|          | 0/4 [00:00<?, ?it/s]"
      ]
     },
     "metadata": {},
     "output_type": "display_data"
    },
    {
     "name": "stdout",
     "output_type": "stream",
     "text": [
      "[Psilocybe_fagicola_var_mesocystidiata_NY-761608.scaffolds] Done! Output → /Users/felix/Documents/20251015_Meeting_PsiloProteins_Felix/05_codex/cds_extraction_outputs/Psilocybe_fagicola_var_mesocystidiata_NY-761608.scaffolds\n"
     ]
    },
    {
     "data": {
      "application/vnd.jupyter.widget-view+json": {
       "model_id": "673c86fb57ee41c89bf8da1621461cf6",
       "version_major": 2,
       "version_minor": 0
      },
      "text/plain": [
       "Psilocybe_lazoi_ISOTYPE_NY-761614.scaffolds:   0%|          | 0/4 [00:00<?, ?it/s]"
      ]
     },
     "metadata": {},
     "output_type": "display_data"
    },
    {
     "name": "stdout",
     "output_type": "stream",
     "text": [
      "[Psilocybe_clavata_ISOTYPE_NY-761604.scaffolds] Done! Output → /Users/felix/Documents/20251015_Meeting_PsiloProteins_Felix/05_codex/cds_extraction_outputs/Psilocybe_clavata_ISOTYPE_NY-761604.scaffolds\n"
     ]
    },
    {
     "data": {
      "application/vnd.jupyter.widget-view+json": {
       "model_id": "0773c44144cb4c0da07ded3063aad44f",
       "version_major": 2,
       "version_minor": 0
      },
      "text/plain": [
       "Psilocybe_liniformans_var_americana_NY-1797145.scaffolds:   0%|          | 0/4 [00:00<?, ?it/s]"
      ]
     },
     "metadata": {},
     "output_type": "display_data"
    },
    {
     "name": "stdout",
     "output_type": "stream",
     "text": [
      "[Psilocybe_heimii_ISOTYPE_NY-761610.scaffolds] Done! Output → /Users/felix/Documents/20251015_Meeting_PsiloProteins_Felix/05_codex/cds_extraction_outputs/Psilocybe_heimii_ISOTYPE_NY-761610.scaffolds\n"
     ]
    },
    {
     "data": {
      "application/vnd.jupyter.widget-view+json": {
       "model_id": "e027c2d622f9485983bbb95ba79e9e95",
       "version_major": 2,
       "version_minor": 0
      },
      "text/plain": [
       "Psilocybe_magica_OSC-111954.scaffolds:   0%|          | 0/4 [00:00<?, ?it/s]"
      ]
     },
     "metadata": {},
     "output_type": "display_data"
    },
    {
     "name": "stdout",
     "output_type": "stream",
     "text": [
      "[Psilocybe_fimetaria_UBC-F30923.scaffolds] Done! Output → /Users/felix/Documents/20251015_Meeting_PsiloProteins_Felix/05_codex/cds_extraction_outputs/Psilocybe_fimetaria_UBC-F30923.scaffolds\n"
     ]
    },
    {
     "data": {
      "application/vnd.jupyter.widget-view+json": {
       "model_id": "21292b79d3b24510a4bcf3e959e9d65f",
       "version_major": 2,
       "version_minor": 0
      },
      "text/plain": [
       "Psilocybe_mexicana_IBUG-13593.scaffolds:   0%|          | 0/4 [00:00<?, ?it/s]"
      ]
     },
     "metadata": {},
     "output_type": "display_data"
    },
    {
     "name": "stdout",
     "output_type": "stream",
     "text": [
      "[Psilocybe_galindii_ISOTYPE_NY-761609.scaffolds] Done! Output → /Users/felix/Documents/20251015_Meeting_PsiloProteins_Felix/05_codex/cds_extraction_outputs/Psilocybe_galindii_ISOTYPE_NY-761609.scaffolds\n"
     ]
    },
    {
     "data": {
      "application/vnd.jupyter.widget-view+json": {
       "model_id": "5c46ee6f5262434f86af229ebcaab428",
       "version_major": 2,
       "version_minor": 0
      },
      "text/plain": [
       "Psilocybe_montana_OSC-113978.scaffolds:   0%|          | 0/4 [00:00<?, ?it/s]"
      ]
     },
     "metadata": {},
     "output_type": "display_data"
    },
    {
     "name": "stdout",
     "output_type": "stream",
     "text": [
      "[Psilocybe_hoogshageni_SFSU-F-029980.scaffolds] Done! Output → /Users/felix/Documents/20251015_Meeting_PsiloProteins_Felix/05_codex/cds_extraction_outputs/Psilocybe_hoogshageni_SFSU-F-029980.scaffolds\n"
     ]
    },
    {
     "data": {
      "application/vnd.jupyter.widget-view+json": {
       "model_id": "39de292d6e234672a1d879922409e9d3",
       "version_major": 2,
       "version_minor": 0
      },
      "text/plain": [
       "Psilocybe_moravica_ISOTYPE_SFSU-F-000732.scaffolds:   0%|          | 0/4 [00:00<?, ?it/s]"
      ]
     },
     "metadata": {},
     "output_type": "display_data"
    },
    {
     "name": "stdout",
     "output_type": "stream",
     "text": [
      "[Psilocybe_hopii_ISOTYPE_XAL-#.scaffolds] Done! Output → /Users/felix/Documents/20251015_Meeting_PsiloProteins_Felix/05_codex/cds_extraction_outputs/Psilocybe_hopii_ISOTYPE_XAL-#.scaffolds\n"
     ]
    },
    {
     "data": {
      "application/vnd.jupyter.widget-view+json": {
       "model_id": "c3ca96bc41b54259abd2a91911a7fd6f",
       "version_major": 2,
       "version_minor": 0
      },
      "text/plain": [
       "Psilocybe_muliercula_GAM00011071.scaffolds:   0%|          | 0/4 [00:00<?, ?it/s]"
      ]
     },
     "metadata": {},
     "output_type": "display_data"
    },
    {
     "name": "stdout",
     "output_type": "stream",
     "text": [
      "[Psilocybe_guilartensis_PARATYPE_CFMR-PR-5680.scaffolds] Done! Output → /Users/felix/Documents/20251015_Meeting_PsiloProteins_Felix/05_codex/cds_extraction_outputs/Psilocybe_guilartensis_PARATYPE_CFMR-PR-5680.scaffolds\n"
     ]
    },
    {
     "data": {
      "application/vnd.jupyter.widget-view+json": {
       "model_id": "177835d527f94f0297c12d7d45a025eb",
       "version_major": 2,
       "version_minor": 0
      },
      "text/plain": [
       "Psilocybe_ovoideocystidiata_ISOTYPE_XAL-51B.scaffolds:   0%|          | 0/4 [00:00<?, ?it/s]"
      ]
     },
     "metadata": {},
     "output_type": "display_data"
    },
    {
     "name": "stdout",
     "output_type": "stream",
     "text": [
      "[Psilocybe_congolensis_ISOTYPE_NY-1652567.scaffolds] Done! Output → /Users/felix/Documents/20251015_Meeting_PsiloProteins_Felix/05_codex/cds_extraction_outputs/Psilocybe_congolensis_ISOTYPE_NY-1652567.scaffolds\n",
      "[Psilocybe_mexicana_IBUG-13593.scaffolds] Done! Output → /Users/felix/Documents/20251015_Meeting_PsiloProteins_Felix/05_codex/cds_extraction_outputs/Psilocybe_mexicana_IBUG-13593.scaffolds\n"
     ]
    },
    {
     "data": {
      "application/vnd.jupyter.widget-view+json": {
       "model_id": "2b02050986ff4b06bd2c79641e654103",
       "version_major": 2,
       "version_minor": 0
      },
      "text/plain": [
       "Psilocybe_pelliculosa_WTU-F-012331.scaffolds:   0%|          | 0/4 [00:00<?, ?it/s]"
      ]
     },
     "metadata": {},
     "output_type": "display_data"
    },
    {
     "name": "stdout",
     "output_type": "stream",
     "text": [
      "\n",
      "✗ ERROR in Psilocybe_moravica_ISOTYPE_SFSU-F-000732.scaffolds: Command failed: exonerate --model protein2genome --showtargetgff yes --showalignment no --showvulgar no --bestn 1 --percent 30 /Users/felix/Documents/20251015_Meeting_PsiloProteins_Felix/05_codex/reference_panels/Proteins_PsiK/PsiK_refs.faa /Users/felix/Documents/20251015_Meeting_PsiloProteins_Felix/03_Sequences_Paper/Assembly_scaffolds/Psilocybe_moravica_ISOTYPE_SFSU-F-000732.scaffolds.fasta\n",
      "STDERR:\n",
      "\n"
     ]
    },
    {
     "data": {
      "application/vnd.jupyter.widget-view+json": {
       "model_id": "2fc4ed9708134a569e3e0c8ab8ae761a",
       "version_major": 2,
       "version_minor": 0
      },
      "text/plain": [
       "Psilocybe_phyllogena_OSC-114015.scaffolds:   0%|          | 0/4 [00:00<?, ?it/s]"
      ]
     },
     "metadata": {},
     "output_type": "display_data"
    },
    {
     "data": {
      "application/vnd.jupyter.widget-view+json": {
       "model_id": "82d61d356fa341e4bcba6e9e82974a2e",
       "version_major": 2,
       "version_minor": 0
      },
      "text/plain": [
       "Psilocybe_pleurocystidiosa_ISOTYPE_NY-761619.scaffolds:   0%|          | 0/4 [00:00<?, ?it/s]"
      ]
     },
     "metadata": {},
     "output_type": "display_data"
    },
    {
     "name": "stdout",
     "output_type": "stream",
     "text": [
      "[Psilocybe_laticystis_UBC-F16759.scaffolds] Done! Output → /Users/felix/Documents/20251015_Meeting_PsiloProteins_Felix/05_codex/cds_extraction_outputs/Psilocybe_laticystis_UBC-F16759.scaffolds\n"
     ]
    },
    {
     "data": {
      "application/vnd.jupyter.widget-view+json": {
       "model_id": "6d1046675eb94723a73d6db54ace3150",
       "version_major": 2,
       "version_minor": 0
      },
      "text/plain": [
       "Psilocybe_polytrichophila_NY-1901129.scaffolds:   0%|          | 0/4 [00:00<?, ?it/s]"
      ]
     },
     "metadata": {},
     "output_type": "display_data"
    },
    {
     "name": "stdout",
     "output_type": "stream",
     "text": [
      "[Psilocybe_hoogshagenii_var_convexa_ISOTYPE_NY-761612.scaffolds] Done! Output → /Users/felix/Documents/20251015_Meeting_PsiloProteins_Felix/05_codex/cds_extraction_outputs/Psilocybe_hoogshagenii_var_convexa_ISOTYPE_NY-761612.scaffolds\n"
     ]
    },
    {
     "data": {
      "application/vnd.jupyter.widget-view+json": {
       "model_id": "ccb4ee3bfafb459bb5fd0c4e6e9d2268",
       "version_major": 2,
       "version_minor": 0
      },
      "text/plain": [
       "Psilocybe_portoricensis_CFMR-PR-4572.scaffolds:   0%|          | 0/4 [00:00<?, ?it/s]"
      ]
     },
     "metadata": {},
     "output_type": "display_data"
    },
    {
     "name": "stdout",
     "output_type": "stream",
     "text": [
      "[Psilocybe_lazoi_ISOTYPE_NY-761614.scaffolds] Done! Output → /Users/felix/Documents/20251015_Meeting_PsiloProteins_Felix/05_codex/cds_extraction_outputs/Psilocybe_lazoi_ISOTYPE_NY-761614.scaffolds\n",
      "[Psilocybe_montana_OSC-113978.scaffolds] Done! Output → /Users/felix/Documents/20251015_Meeting_PsiloProteins_Felix/05_codex/cds_extraction_outputs/Psilocybe_montana_OSC-113978.scaffolds\n",
      "\n",
      "✗ ERROR in Psilocybe_polytrichophila_NY-1901129.scaffolds: Command failed: exonerate --model protein2genome --showtargetgff yes --showalignment no --showvulgar no --bestn 1 --percent 30 /Users/felix/Documents/20251015_Meeting_PsiloProteins_Felix/05_codex/reference_panels/Proteins_PsiK/PsiK_refs.faa /Users/felix/Documents/20251015_Meeting_PsiloProteins_Felix/03_Sequences_Paper/Assembly_scaffolds/Psilocybe_polytrichophila_NY-1901129.scaffolds.fasta\n",
      "STDERR:\n",
      "\n"
     ]
    },
    {
     "data": {
      "application/vnd.jupyter.widget-view+json": {
       "model_id": "b6f2aa2f71dc4c94a54985d5b1560fb5",
       "version_major": 2,
       "version_minor": 0
      },
      "text/plain": [
       "Psilocybe_quebecensis_NY-1901130.scaffolds:   0%|          | 0/4 [00:00<?, ?it/s]"
      ]
     },
     "metadata": {},
     "output_type": "display_data"
    },
    {
     "data": {
      "application/vnd.jupyter.widget-view+json": {
       "model_id": "e07a7791a5e44cfe81ce4d7e81b3a788",
       "version_major": 2,
       "version_minor": 0
      },
      "text/plain": [
       "Psilocybe_rhomboidospora_CMMF003424.scaffolds:   0%|          | 0/4 [00:00<?, ?it/s]"
      ]
     },
     "metadata": {},
     "output_type": "display_data"
    },
    {
     "name": "stdout",
     "output_type": "stream",
     "text": [
      "[Psilocybe_magica_OSC-111954.scaffolds] Done! Output → /Users/felix/Documents/20251015_Meeting_PsiloProteins_Felix/05_codex/cds_extraction_outputs/Psilocybe_magica_OSC-111954.scaffolds\n"
     ]
    },
    {
     "data": {
      "application/vnd.jupyter.widget-view+json": {
       "model_id": "c2fc815a4a3b421d807083a9c6dac3f3",
       "version_major": 2,
       "version_minor": 0
      },
      "text/plain": [
       "Psilocybe_samuiensis_WTU-F-055014.scaffolds:   0%|          | 0/4 [00:00<?, ?it/s]"
      ]
     },
     "metadata": {},
     "output_type": "display_data"
    },
    {
     "data": {
      "application/vnd.jupyter.widget-view+json": {
       "model_id": "03cb4b1dd0a54cd0bb943a0dceab710c",
       "version_major": 2,
       "version_minor": 0
      },
      "text/plain": [
       "Psilocybe_sabulosa_UBC-F13505.scaffolds:   0%|          | 0/4 [00:00<?, ?it/s]"
      ]
     },
     "metadata": {},
     "output_type": "display_data"
    },
    {
     "name": "stdout",
     "output_type": "stream",
     "text": [
      "[Psilocybe_ovoideocystidiata_ISOTYPE_XAL-51B.scaffolds] Done! Output → /Users/felix/Documents/20251015_Meeting_PsiloProteins_Felix/05_codex/cds_extraction_outputs/Psilocybe_ovoideocystidiata_ISOTYPE_XAL-51B.scaffolds\n",
      "[Psilocybe_phyllogena_OSC-114015.scaffolds] Done! Output → /Users/felix/Documents/20251015_Meeting_PsiloProteins_Felix/05_codex/cds_extraction_outputs/Psilocybe_phyllogena_OSC-114015.scaffolds\n",
      "[Psilocybe_samuiensis_WTU-F-055014.scaffolds] Done! Output → /Users/felix/Documents/20251015_Meeting_PsiloProteins_Felix/05_codex/cds_extraction_outputs/Psilocybe_samuiensis_WTU-F-055014.scaffolds\n"
     ]
    },
    {
     "data": {
      "application/vnd.jupyter.widget-view+json": {
       "model_id": "eb1dc9f5a57c4b9184fe421b7a85190b",
       "version_major": 2,
       "version_minor": 0
      },
      "text/plain": [
       "Psilocybe_semilanceata_SFSU-F-029972.scaffolds:   0%|          | 0/4 [00:00<?, ?it/s]"
      ]
     },
     "metadata": {},
     "output_type": "display_data"
    },
    {
     "name": "stdout",
     "output_type": "stream",
     "text": [
      "[Psilocybe_pelliculosa_WTU-F-012331.scaffolds] Done! Output → /Users/felix/Documents/20251015_Meeting_PsiloProteins_Felix/05_codex/cds_extraction_outputs/Psilocybe_pelliculosa_WTU-F-012331.scaffolds\n"
     ]
    },
    {
     "data": {
      "application/vnd.jupyter.widget-view+json": {
       "model_id": "0e73faa75555480587bf1c4e0409c807",
       "version_major": 2,
       "version_minor": 0
      },
      "text/plain": [
       "Psilocybe_silvatica_VPI-F-0003693.scaffolds:   0%|          | 0/4 [00:00<?, ?it/s]"
      ]
     },
     "metadata": {},
     "output_type": "display_data"
    },
    {
     "data": {
      "application/vnd.jupyter.widget-view+json": {
       "model_id": "d5e5ccce95af494495f00974293d10fc",
       "version_major": 2,
       "version_minor": 0
      },
      "text/plain": [
       "Psilocybe_singeri_ISOTYPE_NY-761622.scaffolds:   0%|          | 0/4 [00:00<?, ?it/s]"
      ]
     },
     "metadata": {},
     "output_type": "display_data"
    },
    {
     "data": {
      "application/vnd.jupyter.widget-view+json": {
       "model_id": "4a3dc40ae2634f98979c55308ded6117",
       "version_major": 2,
       "version_minor": 0
      },
      "text/plain": [
       "Psilocybe_strictipes_WTU-F-011411.scaffolds:   0%|          | 0/4 [00:00<?, ?it/s]"
      ]
     },
     "metadata": {},
     "output_type": "display_data"
    },
    {
     "name": "stdout",
     "output_type": "stream",
     "text": [
      "[Psilocybe_pleurocystidiosa_ISOTYPE_NY-761619.scaffolds] Done! Output → /Users/felix/Documents/20251015_Meeting_PsiloProteins_Felix/05_codex/cds_extraction_outputs/Psilocybe_pleurocystidiosa_ISOTYPE_NY-761619.scaffolds\n"
     ]
    },
    {
     "data": {
      "application/vnd.jupyter.widget-view+json": {
       "model_id": "e5a75aa3d55b4ac7a50fd86ac11179a9",
       "version_major": 2,
       "version_minor": 0
      },
      "text/plain": [
       "Psilocybe_stuntzii_WTU-F-011520.scaffolds:   0%|          | 0/4 [00:00<?, ?it/s]"
      ]
     },
     "metadata": {},
     "output_type": "display_data"
    },
    {
     "name": "stdout",
     "output_type": "stream",
     "text": [
      "[Psilocybe_liniformans_var_americana_NY-1797145.scaffolds] Done! Output → /Users/felix/Documents/20251015_Meeting_PsiloProteins_Felix/05_codex/cds_extraction_outputs/Psilocybe_liniformans_var_americana_NY-1797145.scaffolds\n",
      "[Psilocybe_rhomboidospora_CMMF003424.scaffolds] Done! Output → /Users/felix/Documents/20251015_Meeting_PsiloProteins_Felix/05_codex/cds_extraction_outputs/Psilocybe_rhomboidospora_CMMF003424.scaffolds\n"
     ]
    },
    {
     "data": {
      "application/vnd.jupyter.widget-view+json": {
       "model_id": "01696168a9af4ef082b835c199456f9c",
       "version_major": 2,
       "version_minor": 0
      },
      "text/plain": [
       "Psilocybe_subcubensis_SFSU-29974.scaffolds:   0%|          | 0/4 [00:00<?, ?it/s]"
      ]
     },
     "metadata": {},
     "output_type": "display_data"
    },
    {
     "data": {
      "application/vnd.jupyter.widget-view+json": {
       "model_id": "167da6fe9ff24564ba785cb54dcddc2e",
       "version_major": 2,
       "version_minor": 0
      },
      "text/plain": [
       "Psilocybe_subcoprophila_UBC-F977.scaffolds:   0%|          | 0/4 [00:00<?, ?it/s]"
      ]
     },
     "metadata": {},
     "output_type": "display_data"
    },
    {
     "name": "stdout",
     "output_type": "stream",
     "text": [
      "[Psilocybe_sabulosa_UBC-F13505.scaffolds] Done! Output → /Users/felix/Documents/20251015_Meeting_PsiloProteins_Felix/05_codex/cds_extraction_outputs/Psilocybe_sabulosa_UBC-F13505.scaffolds\n"
     ]
    },
    {
     "data": {
      "application/vnd.jupyter.widget-view+json": {
       "model_id": "fdcad9654a6d4ca286cc0ab663e0d567",
       "version_major": 2,
       "version_minor": 0
      },
      "text/plain": [
       "Psilocybe_subfimetaria_SFSU-F-029945.scaffolds:   0%|          | 0/4 [00:00<?, ?it/s]"
      ]
     },
     "metadata": {},
     "output_type": "display_data"
    },
    {
     "name": "stdout",
     "output_type": "stream",
     "text": [
      "[Psilocybe_stuntzii_WTU-F-011520.scaffolds] Done! Output → /Users/felix/Documents/20251015_Meeting_PsiloProteins_Felix/05_codex/cds_extraction_outputs/Psilocybe_stuntzii_WTU-F-011520.scaffolds\n"
     ]
    },
    {
     "data": {
      "application/vnd.jupyter.widget-view+json": {
       "model_id": "fec83743ab7e40c68546e2b4237e7b49",
       "version_major": 2,
       "version_minor": 0
      },
      "text/plain": [
       "Psilocybe_subhoogshagenii_NY-915004.scaffolds:   0%|          | 0/4 [00:00<?, ?it/s]"
      ]
     },
     "metadata": {},
     "output_type": "display_data"
    },
    {
     "name": "stdout",
     "output_type": "stream",
     "text": [
      "[Psilocybe_subcubensis_SFSU-29974.scaffolds] Done! Output → /Users/felix/Documents/20251015_Meeting_PsiloProteins_Felix/05_codex/cds_extraction_outputs/Psilocybe_subcubensis_SFSU-29974.scaffolds\n"
     ]
    },
    {
     "data": {
      "application/vnd.jupyter.widget-view+json": {
       "model_id": "9d2344c22758447782ddc2e8c40e162a",
       "version_major": 2,
       "version_minor": 0
      },
      "text/plain": [
       "Psilocybe_subpsilocybioides_HOLOTYPE_CFMR-PR-5689.scaffolds:   0%|          | 0/4 [00:00<?, ?it/s]"
      ]
     },
     "metadata": {},
     "output_type": "display_data"
    },
    {
     "name": "stdout",
     "output_type": "stream",
     "text": [
      "[Psilocybe_strictipes_WTU-F-011411.scaffolds] Done! Output → /Users/felix/Documents/20251015_Meeting_PsiloProteins_Felix/05_codex/cds_extraction_outputs/Psilocybe_strictipes_WTU-F-011411.scaffolds\n"
     ]
    },
    {
     "data": {
      "application/vnd.jupyter.widget-view+json": {
       "model_id": "fe4a3a9bb92c48a6879da436677b181b",
       "version_major": 2,
       "version_minor": 0
      },
      "text/plain": [
       "Psilocybe_subviscida_VPI-F-0003697.scaffolds:   0%|          | 0/4 [00:00<?, ?it/s]"
      ]
     },
     "metadata": {},
     "output_type": "display_data"
    },
    {
     "name": "stdout",
     "output_type": "stream",
     "text": [
      "[Psilocybe_portoricensis_CFMR-PR-4572.scaffolds] Done! Output → /Users/felix/Documents/20251015_Meeting_PsiloProteins_Felix/05_codex/cds_extraction_outputs/Psilocybe_portoricensis_CFMR-PR-4572.scaffolds\n"
     ]
    },
    {
     "data": {
      "application/vnd.jupyter.widget-view+json": {
       "model_id": "cffa4234a2ed4a849b87db82528e6367",
       "version_major": 2,
       "version_minor": 0
      },
      "text/plain": [
       "Psilocybe_subyungensis_ISOTYPE_NY-1197500.scaffolds:   0%|          | 0/4 [00:00<?, ?it/s]"
      ]
     },
     "metadata": {},
     "output_type": "display_data"
    },
    {
     "name": "stdout",
     "output_type": "stream",
     "text": [
      "[Psilocybe_silvatica_VPI-F-0003693.scaffolds] Done! Output → /Users/felix/Documents/20251015_Meeting_PsiloProteins_Felix/05_codex/cds_extraction_outputs/Psilocybe_silvatica_VPI-F-0003693.scaffolds\n"
     ]
    },
    {
     "data": {
      "application/vnd.jupyter.widget-view+json": {
       "model_id": "07e5b443119540eb95f01588d2cf5ad2",
       "version_major": 2,
       "version_minor": 0
      },
      "text/plain": [
       "Psilocybe_tampanensis_UBC-F10177.scaffolds:   0%|          | 0/4 [00:00<?, ?it/s]"
      ]
     },
     "metadata": {},
     "output_type": "display_data"
    },
    {
     "name": "stdout",
     "output_type": "stream",
     "text": [
      "[Psilocybe_singeri_ISOTYPE_NY-761622.scaffolds] Done! Output → /Users/felix/Documents/20251015_Meeting_PsiloProteins_Felix/05_codex/cds_extraction_outputs/Psilocybe_singeri_ISOTYPE_NY-761622.scaffolds\n",
      "[Psilocybe_semilanceata_SFSU-F-029972.scaffolds] Done! Output → /Users/felix/Documents/20251015_Meeting_PsiloProteins_Felix/05_codex/cds_extraction_outputs/Psilocybe_semilanceata_SFSU-F-029972.scaffolds\n"
     ]
    },
    {
     "data": {
      "application/vnd.jupyter.widget-view+json": {
       "model_id": "a89de8b66a7c434ca5a4de4a8d64faea",
       "version_major": 2,
       "version_minor": 0
      },
      "text/plain": [
       "Psilocybe_tuberosa_WTU-F-011378.scaffolds:   0%|          | 0/4 [00:00<?, ?it/s]"
      ]
     },
     "metadata": {},
     "output_type": "display_data"
    },
    {
     "data": {
      "application/vnd.jupyter.widget-view+json": {
       "model_id": "e16f6a80790041f6bd52ae1d83bd2846",
       "version_major": 2,
       "version_minor": 0
      },
      "text/plain": [
       "Psilocybe_washingtonensis_WTU-F-055019.scaffolds:   0%|          | 0/4 [00:00<?, ?it/s]"
      ]
     },
     "metadata": {},
     "output_type": "display_data"
    },
    {
     "name": "stdout",
     "output_type": "stream",
     "text": [
      "[Psilocybe_subhoogshagenii_NY-915004.scaffolds] Done! Output → /Users/felix/Documents/20251015_Meeting_PsiloProteins_Felix/05_codex/cds_extraction_outputs/Psilocybe_subhoogshagenii_NY-915004.scaffolds\n"
     ]
    },
    {
     "data": {
      "application/vnd.jupyter.widget-view+json": {
       "model_id": "0092f85e1aa54f4d8ebbaa45ad27ad3a",
       "version_major": 2,
       "version_minor": 0
      },
      "text/plain": [
       "Psilocybe_weilii_ISOTYPE_WTU-F-063525.scaffolds:   0%|          | 0/4 [00:00<?, ?it/s]"
      ]
     },
     "metadata": {},
     "output_type": "display_data"
    },
    {
     "name": "stdout",
     "output_type": "stream",
     "text": [
      "[Psilocybe_subfimetaria_SFSU-F-029945.scaffolds] Done! Output → /Users/felix/Documents/20251015_Meeting_PsiloProteins_Felix/05_codex/cds_extraction_outputs/Psilocybe_subfimetaria_SFSU-F-029945.scaffolds\n",
      "[Psilocybe_tampanensis_UBC-F10177.scaffolds] Done! Output → /Users/felix/Documents/20251015_Meeting_PsiloProteins_Felix/05_codex/cds_extraction_outputs/Psilocybe_tampanensis_UBC-F10177.scaffolds\n"
     ]
    },
    {
     "data": {
      "application/vnd.jupyter.widget-view+json": {
       "model_id": "7ed0c8f7fcd747a88ebed91d262425da",
       "version_major": 2,
       "version_minor": 0
      },
      "text/plain": [
       "Psilocybe_xalapensis_ISOTYPE_NY-761630.scaffolds:   0%|          | 0/4 [00:00<?, ?it/s]"
      ]
     },
     "metadata": {},
     "output_type": "display_data"
    },
    {
     "data": {
      "application/vnd.jupyter.widget-view+json": {
       "model_id": "46fbc96374a5496d830e1eb085819bd5",
       "version_major": 2,
       "version_minor": 0
      },
      "text/plain": [
       "Psilocybe_wrightii_ISOTYPE_NY-761629.scaffolds:   0%|          | 0/4 [00:00<?, ?it/s]"
      ]
     },
     "metadata": {},
     "output_type": "display_data"
    },
    {
     "name": "stdout",
     "output_type": "stream",
     "text": [
      "[Psilocybe_muliercula_GAM00011071.scaffolds] Done! Output → /Users/felix/Documents/20251015_Meeting_PsiloProteins_Felix/05_codex/cds_extraction_outputs/Psilocybe_muliercula_GAM00011071.scaffolds\n"
     ]
    },
    {
     "data": {
      "application/vnd.jupyter.widget-view+json": {
       "model_id": "d7e32911e54c4a7d8c026ca5fe434206",
       "version_major": 2,
       "version_minor": 0
      },
      "text/plain": [
       "Psilocybe_yungensis_SFSU-29944.scaffolds:   0%|          | 0/4 [00:00<?, ?it/s]"
      ]
     },
     "metadata": {},
     "output_type": "display_data"
    },
    {
     "name": "stdout",
     "output_type": "stream",
     "text": [
      "[Psilocybe_weilii_ISOTYPE_WTU-F-063525.scaffolds] Done! Output → /Users/felix/Documents/20251015_Meeting_PsiloProteins_Felix/05_codex/cds_extraction_outputs/Psilocybe_weilii_ISOTYPE_WTU-F-063525.scaffolds\n"
     ]
    },
    {
     "data": {
      "application/vnd.jupyter.widget-view+json": {
       "model_id": "d2f2465264454550af3abb682d108aa1",
       "version_major": 2,
       "version_minor": 0
      },
      "text/plain": [
       "Psilocybe_zapotecorum_FFCL689.scaffolds:   0%|          | 0/4 [00:00<?, ?it/s]"
      ]
     },
     "metadata": {},
     "output_type": "display_data"
    },
    {
     "name": "stdout",
     "output_type": "stream",
     "text": [
      "[Psilocybe_subpsilocybioides_HOLOTYPE_CFMR-PR-5689.scaffolds] Done! Output → /Users/felix/Documents/20251015_Meeting_PsiloProteins_Felix/05_codex/cds_extraction_outputs/Psilocybe_subpsilocybioides_HOLOTYPE_CFMR-PR-5689.scaffolds\n",
      "[Psilocybe_subviscida_VPI-F-0003697.scaffolds] Done! Output → /Users/felix/Documents/20251015_Meeting_PsiloProteins_Felix/05_codex/cds_extraction_outputs/Psilocybe_subviscida_VPI-F-0003697.scaffolds\n"
     ]
    },
    {
     "data": {
      "application/vnd.jupyter.widget-view+json": {
       "model_id": "88f0dabaa4d0420e95925e28a10b61ef",
       "version_major": 2,
       "version_minor": 0
      },
      "text/plain": [
       "Psilocybe_zapotecorum_GAM00011076.scaffolds:   0%|          | 0/4 [00:00<?, ?it/s]"
      ]
     },
     "metadata": {},
     "output_type": "display_data"
    },
    {
     "name": "stdout",
     "output_type": "stream",
     "text": [
      "[Psilocybe_yungensis_SFSU-29944.scaffolds] Done! Output → /Users/felix/Documents/20251015_Meeting_PsiloProteins_Felix/05_codex/cds_extraction_outputs/Psilocybe_yungensis_SFSU-29944.scaffolds\n",
      "[Psilocybe_quebecensis_NY-1901130.scaffolds] Done! Output → /Users/felix/Documents/20251015_Meeting_PsiloProteins_Felix/05_codex/cds_extraction_outputs/Psilocybe_quebecensis_NY-1901130.scaffolds\n",
      "[Psilocybe_zapotecorum_FFCL689.scaffolds] Done! Output → /Users/felix/Documents/20251015_Meeting_PsiloProteins_Felix/05_codex/cds_extraction_outputs/Psilocybe_zapotecorum_FFCL689.scaffolds\n",
      "[Psilocybe_xalapensis_ISOTYPE_NY-761630.scaffolds] Done! Output → /Users/felix/Documents/20251015_Meeting_PsiloProteins_Felix/05_codex/cds_extraction_outputs/Psilocybe_xalapensis_ISOTYPE_NY-761630.scaffolds\n",
      "[Psilocybe_zapotecorum_GAM00011076.scaffolds] Done! Output → /Users/felix/Documents/20251015_Meeting_PsiloProteins_Felix/05_codex/cds_extraction_outputs/Psilocybe_zapotecorum_GAM00011076.scaffolds\n",
      "[Psilocybe_caerulescens_var_mazatecorum_SFSU-F-029971.scaffolds] Done! Output → /Users/felix/Documents/20251015_Meeting_PsiloProteins_Felix/05_codex/cds_extraction_outputs/Psilocybe_caerulescens_var_mazatecorum_SFSU-F-029971.scaffolds\n",
      "[Psilocybe_tuberosa_WTU-F-011378.scaffolds] Done! Output → /Users/felix/Documents/20251015_Meeting_PsiloProteins_Felix/05_codex/cds_extraction_outputs/Psilocybe_tuberosa_WTU-F-011378.scaffolds\n",
      "[Psilocybe_wrightii_ISOTYPE_NY-761629.scaffolds] Done! Output → /Users/felix/Documents/20251015_Meeting_PsiloProteins_Felix/05_codex/cds_extraction_outputs/Psilocybe_wrightii_ISOTYPE_NY-761629.scaffolds\n",
      "[Psilocybe_subyungensis_ISOTYPE_NY-1197500.scaffolds] Done! Output → /Users/felix/Documents/20251015_Meeting_PsiloProteins_Felix/05_codex/cds_extraction_outputs/Psilocybe_subyungensis_ISOTYPE_NY-1197500.scaffolds\n",
      "[Psilocybe_washingtonensis_WTU-F-055019.scaffolds] Done! Output → /Users/felix/Documents/20251015_Meeting_PsiloProteins_Felix/05_codex/cds_extraction_outputs/Psilocybe_washingtonensis_WTU-F-055019.scaffolds\n",
      "[Psilocybe_subcoprophila_UBC-F977.scaffolds] Done! Output → /Users/felix/Documents/20251015_Meeting_PsiloProteins_Felix/05_codex/cds_extraction_outputs/Psilocybe_subcoprophila_UBC-F977.scaffolds\n",
      "\n",
      "============================================================\n",
      "Batch processing complete!\n",
      "Total time: 0:05:27.265496\n",
      "Processed: 71 species\n",
      "Average: 4.6 seconds per species\n",
      "============================================================\n",
      "\n",
      "Generating QC reports...\n",
      "  ✓ Extraction log: /Users/felix/Documents/20251015_Meeting_PsiloProteins_Felix/05_codex/cds_extraction_outputs/extraction_log.json\n",
      "  ✓ Problems report: /Users/felix/Documents/20251015_Meeting_PsiloProteins_Felix/05_codex/cds_extraction_outputs/problems_report.tsv (89 issues)\n",
      "  ✓ Species summary: /Users/felix/Documents/20251015_Meeting_PsiloProteins_Felix/05_codex/cds_extraction_outputs/species_problem_summary.tsv (36 species with issues)\n",
      "\n",
      "============================================================\n",
      "QC Reports Complete!\n",
      "============================================================\n"
     ]
    }
   ],
   "source": [
    "# === CELL 3: Batch Processing with Parallel Execution ===\n",
    "\n",
    "import concurrent.futures as cf\n",
    "import os\n",
    "import csv\n",
    "from datetime import datetime\n",
    "from collections import Counter, defaultdict\n",
    "\n",
    "all_scaff = sorted(SCAFF_DIR.glob(\"*.fa*\"))\n",
    "print(f\"Total species to process: {len(all_scaff)}\")\n",
    "\n",
    "# ThreadPoolExecutor works in Jupyter (unlike ProcessPoolExecutor)\n",
    "# Good for I/O-bound tasks like running exonerate subprocesses\n",
    "max_workers = min(12, os.cpu_count() or 12)  # Adjust based on your system\n",
    "print(f\"Using {max_workers} parallel threads\")\n",
    "print(\"=\"*60 + \"\\n\")\n",
    "\n",
    "def process_one_species(scaff_path):\n",
    "    \"\"\"Worker function to process a single species\"\"\"\n",
    "    try:\n",
    "        return run_species(scaff_path, OUT_DIR, pbar=None, verbose=False)\n",
    "    except Exception as e:\n",
    "        import traceback\n",
    "        return {\n",
    "            \"species\": Path(scaff_path).stem,\n",
    "            \"error\": str(e),\n",
    "            \"traceback\": traceback.format_exc()\n",
    "        }\n",
    "\n",
    "started = datetime.now()\n",
    "summaries = []\n",
    "\n",
    "# Create progress bar\n",
    "if TQDM_AVAILABLE:\n",
    "    pbar = tqdm(total=len(all_scaff), desc=\"Processing species\", unit=\"species\")\n",
    "else:\n",
    "    pbar = None\n",
    "    print(f\"Processing {len(all_scaff)} species in parallel...\")\n",
    "\n",
    "# Parallel processing with ThreadPoolExecutor\n",
    "with cf.ThreadPoolExecutor(max_workers=max_workers) as executor:\n",
    "    # Submit all tasks\n",
    "    future_to_species = {\n",
    "        executor.submit(process_one_species, scaff): scaff.stem \n",
    "        for scaff in all_scaff\n",
    "    }\n",
    "    \n",
    "    # Collect results as they complete\n",
    "    for future in cf.as_completed(future_to_species):\n",
    "        species_name = future_to_species[future]\n",
    "        try:\n",
    "            result = future.result()\n",
    "            summaries.append(result)\n",
    "            \n",
    "            # Check for errors in result\n",
    "            if \"error\" in result:\n",
    "                print(f\"\\n✗ ERROR in {species_name}: {result['error']}\")\n",
    "            \n",
    "            # Update progress\n",
    "            if pbar:\n",
    "                pbar.update(1)\n",
    "            else:\n",
    "                print(f\"  [{len(summaries)}/{len(all_scaff)}] {species_name} - Done\")\n",
    "                \n",
    "        except Exception as exc:\n",
    "            print(f\"\\n✗ EXCEPTION in {species_name}: {exc}\")\n",
    "            summaries.append({\n",
    "                \"species\": species_name,\n",
    "                \"error\": str(exc)\n",
    "            })\n",
    "            if pbar:\n",
    "                pbar.update(1)\n",
    "\n",
    "if pbar:\n",
    "    pbar.close()\n",
    "\n",
    "elapsed = datetime.now() - started\n",
    "print(f\"\\n{'='*60}\")\n",
    "print(f\"Batch processing complete!\")\n",
    "print(f\"Total time: {elapsed}\")\n",
    "print(f\"Processed: {len(summaries)} species\")\n",
    "print(f\"Average: {elapsed.total_seconds() / len(summaries):.1f} seconds per species\")\n",
    "print(f\"{'='*60}\\n\")\n",
    "\n",
    "# === Generate QC Reports ===\n",
    "print(\"Generating QC reports...\")\n",
    "\n",
    "# Write extraction log\n",
    "log_file = OUT_DIR / \"extraction_log.json\"\n",
    "with open(log_file, \"w\") as fh:\n",
    "    json.dump({\n",
    "        \"timestamp\": started.isoformat(),\n",
    "        \"elapsed\": str(elapsed),\n",
    "        \"total_species\": len(all_scaff),\n",
    "        \"parallel_workers\": max_workers,\n",
    "        \"summaries\": summaries\n",
    "    }, fh, indent=2)\n",
    "print(f\"  ✓ Extraction log: {log_file}\")\n",
    "\n",
    "# Collect problems for QC reports\n",
    "problems = []\n",
    "species_problem_counts = defaultdict(lambda: {\"CHECK_ORF\": 0, \"NO_HIT\": 0, \"ERROR\": 0})\n",
    "\n",
    "for summary in summaries:\n",
    "    species = summary.get(\"species\", \"unknown\")\n",
    "    \n",
    "    # Handle species-level errors\n",
    "    if \"error\" in summary:\n",
    "        problems.append({\n",
    "            \"species\": species,\n",
    "            \"enzyme\": \"ALL\",\n",
    "            \"status\": \"ERROR\",\n",
    "            \"details\": summary[\"error\"]\n",
    "        })\n",
    "        species_problem_counts[species][\"ERROR\"] += 1\n",
    "        continue\n",
    "    \n",
    "    # Check each enzyme result\n",
    "    for result in summary.get(\"results\", []):\n",
    "        enzyme = result.get(\"enzyme\", \"unknown\")\n",
    "        status = result.get(\"status\", \"UNKNOWN\")\n",
    "        \n",
    "        if status in [\"CHECK_ORF\", \"NO_HIT\", \"ERROR\"]:\n",
    "            details = result.get(\"error\", f\"Status: {status}\")\n",
    "            problems.append({\n",
    "                \"species\": species,\n",
    "                \"enzyme\": enzyme,\n",
    "                \"status\": status,\n",
    "                \"details\": details\n",
    "            })\n",
    "            species_problem_counts[species][status] += 1\n",
    "\n",
    "# Write problems report\n",
    "if problems:\n",
    "    problems_tsv = OUT_DIR / \"problems_report.tsv\"\n",
    "    with open(problems_tsv, \"w\", newline=\"\") as fh:\n",
    "        writer = csv.DictWriter(fh, fieldnames=[\"species\", \"enzyme\", \"status\", \"details\"], delimiter=\"\\t\")\n",
    "        writer.writeheader()\n",
    "        writer.writerows(problems)\n",
    "    print(f\"  ✓ Problems report: {problems_tsv} ({len(problems)} issues)\")\n",
    "else:\n",
    "    print(\"  ✓ No problems found - all extractions OK!\")\n",
    "\n",
    "# Write species problem summary\n",
    "if species_problem_counts:\n",
    "    summary_tsv = OUT_DIR / \"species_problem_summary.tsv\"\n",
    "    with open(summary_tsv, \"w\", newline=\"\") as fh:\n",
    "        writer = csv.writer(fh, delimiter=\"\\t\")\n",
    "        writer.writerow([\"species\", \"total_problems\", \"CHECK_ORF\", \"NO_HIT\", \"ERROR\"])\n",
    "        for species in sorted(species_problem_counts.keys()):\n",
    "            counts = species_problem_counts[species]\n",
    "            total = sum(counts.values())\n",
    "            writer.writerow([species, total, counts[\"CHECK_ORF\"], counts[\"NO_HIT\"], counts[\"ERROR\"]])\n",
    "    print(f\"  ✓ Species summary: {summary_tsv} ({len(species_problem_counts)} species with issues)\")\n",
    "\n",
    "print(f\"\\n{'='*60}\")\n",
    "print(\"QC Reports Complete!\")\n",
    "print(f\"{'='*60}\")\n"
   ]
  },
  {
   "cell_type": "code",
   "execution_count": 4,
   "id": "8cea3e15",
   "metadata": {},
   "outputs": [
    {
     "name": "stdout",
     "output_type": "stream",
     "text": [
      "MAFFT alignments written to /Users/felix/Documents/20251015_Meeting_PsiloProteins_Felix/05_codex/mafft_alignments\n",
      "Enzymes aligned: PsiD, PsiH, PsiK, PsiM\n"
     ]
    }
   ],
   "source": [
    "# === CELL 4: Build MAFFT alignments & intron summary ===\n",
    "import json\n",
    "import shutil\n",
    "import subprocess\n",
    "import multiprocessing\n",
    "from collections import defaultdict\n",
    "\n",
    "import pandas as pd\n",
    "from Bio import SeqIO, AlignIO\n",
    "\n",
    "ALIGN_DIR = BASE / \"mafft_alignments\"\n",
    "ALIGN_DIR.mkdir(parents=True, exist_ok=True)\n",
    "\n",
    "mafft_bin = shutil.which(\"mafft\")\n",
    "if mafft_bin is None:\n",
    "    raise FileNotFoundError(\"MAFFT executable not found. Install MAFFT and ensure it is on PATH before running this cell.\")\n",
    "\n",
    "alignment_inputs = defaultdict(list)\n",
    "summary_rows = []\n",
    "\n",
    "for species_dir in sorted(OUT_DIR.iterdir()):\n",
    "    if not species_dir.is_dir():\n",
    "        continue\n",
    "    summary_path = species_dir / f\"{species_dir.name}_summary.json\"\n",
    "    if not summary_path.exists():\n",
    "        continue\n",
    "\n",
    "    with open(summary_path) as handle:\n",
    "        species_summary = json.load(handle)\n",
    "\n",
    "    species_name = species_summary.get(\"species\", species_dir.name)\n",
    "    for result in species_summary.get(\"results\", []):\n",
    "        enzyme = result.get(\"enzyme\")\n",
    "        if not enzyme:\n",
    "            continue\n",
    "\n",
    "        status = result.get(\"status\", \"UNKNOWN\")\n",
    "        blocks = result.get(\"blocks\") or 0\n",
    "        intron_count = max(blocks - 1, 0)\n",
    "\n",
    "        prot_path = species_dir / f\"{species_dir.name}_{enzyme}.prot.fa\"\n",
    "        cds_path = species_dir / f\"{species_dir.name}_{enzyme}.cds.fa\"\n",
    "\n",
    "        row = {\n",
    "            \"species\": species_name,\n",
    "            \"enzyme\": enzyme,\n",
    "            \"status\": status,\n",
    "            \"nt_len\": result.get(\"nt_len\"),\n",
    "            \"aa_len\": None,\n",
    "            \"blocks\": blocks,\n",
    "            \"introns\": intron_count,\n",
    "            \"strand\": result.get(\"strand\"),\n",
    "            \"seqid\": result.get(\"seqid\"),\n",
    "            \"prot_path\": str(prot_path if prot_path.exists() else \"\"),\n",
    "            \"cds_path\": str(cds_path if cds_path.exists() else \"\"),\n",
    "        }\n",
    "\n",
    "        if status in {\"NO_HIT\", \"ERROR\"} or not prot_path.exists():\n",
    "            summary_rows.append(row)\n",
    "            continue\n",
    "\n",
    "        record = next(SeqIO.parse(prot_path, \"fasta\"))\n",
    "        record.id = f\"{species_name}|{enzyme}\"\n",
    "        record.description = f\"status={status};introns={intron_count};nt_len={result.get('nt_len')}\"\n",
    "        row[\"aa_len\"] = len(record.seq)\n",
    "\n",
    "        alignment_inputs[enzyme].append(record)\n",
    "        summary_rows.append(row)\n",
    "\n",
    "# add reference sequences so each alignment is anchored to Ps. cubensis\n",
    "for enzyme, ref_path in REFS.items():\n",
    "    ref_records = list(SeqIO.parse(ref_path, \"fasta\"))\n",
    "    for rec in ref_records:\n",
    "        rec.id = f\"Reference|{rec.id}\"\n",
    "        rec.description = rec.description or \"reference\"\n",
    "    alignment_inputs[enzyme] = ref_records + alignment_inputs[enzyme]\n",
    "\n",
    "ALIGNMENTS = {}\n",
    "ALIGNMENT_PATHS = {}\n",
    "ALIGNMENT_TABLES = {}\n",
    "ALIGNMENT_LONG = {}\n",
    "threads = max(1, (multiprocessing.cpu_count() or 1) - 1)\n",
    "\n",
    "for enzyme, records in alignment_inputs.items():\n",
    "    if not records:\n",
    "        continue\n",
    "\n",
    "    input_fasta = ALIGN_DIR / f\"{enzyme}_mafft_input.faa\"\n",
    "    output_fasta = ALIGN_DIR / f\"{enzyme}_mafft_aligned.faa\"\n",
    "\n",
    "    SeqIO.write(records, input_fasta, \"fasta\")\n",
    "    cmd = [mafft_bin, \"--auto\", \"--thread\", str(threads), str(input_fasta)]\n",
    "    run = subprocess.run(cmd, stdout=subprocess.PIPE, stderr=subprocess.PIPE, text=True)\n",
    "    if run.returncode != 0:\n",
    "        raise RuntimeError(f\"MAFFT failed for {enzyme}:\\n{run.stderr}\")\n",
    "\n",
    "    output_fasta.write_text(run.stdout)\n",
    "    alignment = AlignIO.read(output_fasta, \"fasta\")\n",
    "    ALIGNMENTS[enzyme] = alignment\n",
    "    ALIGNMENT_PATHS[enzyme] = output_fasta\n",
    "\n",
    "    table = pd.DataFrame([list(rec.seq) for rec in alignment], index=[rec.id for rec in alignment])\n",
    "    table.columns = range(1, table.shape[1] + 1)\n",
    "    ALIGNMENT_TABLES[enzyme] = table\n",
    "\n",
    "    long_df = table.reset_index().melt(id_vars=\"index\", var_name=\"position\", value_name=\"residue\")\n",
    "    ALIGNMENT_LONG[enzyme] = long_df.rename(columns={\"index\": \"sequence_id\"})\n",
    "\n",
    "alignment_metadata = pd.DataFrame(summary_rows)\n",
    "alignment_metadata.to_csv(ALIGN_DIR / \"alignment_metadata.tsv\", sep=\"\\t\", index=False)\n",
    "\n",
    "print(f\"MAFFT alignments written to {ALIGN_DIR}\")\n",
    "print(\"Enzymes aligned:\", \", \".join(sorted(ALIGNMENTS)))\n"
   ]
  },
  {
   "cell_type": "code",
   "execution_count": 8,
   "id": "4d6b6a41",
   "metadata": {},
   "outputs": [
    {
     "data": {
      "application/vnd.jupyter.widget-view+json": {
       "model_id": "a758cb9c729c4bb4814b873966710c2b",
       "version_major": 2,
       "version_minor": 0
      },
      "text/plain": [
       "interactive(children=(Dropdown(description='enzyme', options=('PsiD', 'PsiH', 'PsiK', 'PsiM'), value='PsiD'), …"
      ]
     },
     "metadata": {},
     "output_type": "display_data"
    }
   ],
   "source": [
    "# === CELL 5: Plotly amino-acid alignment explorer ===\n",
    "import plotly.graph_objects as go\n",
    "from plotly.colors import qualitative\n",
    "\n",
    "try:\n",
    "    import ipywidgets as widgets\n",
    "    HAVE_WIDGETS = True\n",
    "except ImportError:\n",
    "    HAVE_WIDGETS = False\n",
    "    print(\"ipywidgets not found; install it for the dropdown interface (pip install ipywidgets)\")\n",
    "\n",
    "BASE_PALETTE = (\n",
    "    qualitative.Dark24\n",
    "    + qualitative.Light24\n",
    "    + qualitative.Set3\n",
    "    + qualitative.Bold\n",
    ")\n",
    "\n",
    "def plot_alignment(enzyme: str) -> go.Figure:\n",
    "    if enzyme not in ALIGNMENT_TABLES:\n",
    "        raise ValueError(f\"No alignment prepared for {enzyme}\")\n",
    "\n",
    "    table = ALIGNMENT_TABLES[enzyme].copy()\n",
    "    table.index = table.index.map(str)\n",
    "    seq_ids = table.index.tolist()\n",
    "    positions = table.columns.astype(int).tolist()\n",
    "    residues = table.astype(str).values\n",
    "\n",
    "    uniques = sorted({res for row in residues for res in row})\n",
    "    if \"-\" in uniques:\n",
    "        uniques.remove(\"-\")\n",
    "        uniques.append(\"-\")\n",
    "\n",
    "    color_lookup = {\n",
    "        symbol: BASE_PALETTE[i % len(BASE_PALETTE)]\n",
    "        for i, symbol in enumerate(uniques)\n",
    "    }\n",
    "    color_lookup.setdefault(\"-\", \"#e0e0e0\")\n",
    "\n",
    "    codes = {symbol: i for i, symbol in enumerate(uniques)}\n",
    "    z = [[codes[aa] for aa in row] for row in residues]\n",
    "    colorscale = [\n",
    "        (0 if len(uniques) == 1 else i / (len(uniques) - 1), color_lookup[symbol])\n",
    "        for i, symbol in enumerate(uniques)\n",
    "    ]\n",
    "    colorbar_ticks = list(codes.values())\n",
    "    colorbar_labels = list(codes.keys())\n",
    "\n",
    "    hover = [\n",
    "        [\n",
    "            f\"{seq_ids[r]}<br>Pos {positions[c]}<br>Residue: {residues[r][c]}\"\n",
    "            for c in range(len(positions))\n",
    "        ]\n",
    "        for r in range(len(seq_ids))\n",
    "    ]\n",
    "\n",
    "    meta = alignment_metadata[alignment_metadata[\"enzyme\"] == enzyme].copy()\n",
    "    meta.index = meta[\"species\"] + \"|\" + meta[\"enzyme\"]\n",
    "    intron_text = [f\"{meta.loc[s,'introns']} introns\"\n",
    "                   if s in meta.index else \"reference\"\n",
    "                   for s in seq_ids]\n",
    "\n",
    "    fig = go.Figure(\n",
    "        data=[\n",
    "            go.Heatmap(\n",
    "                z=z,\n",
    "                x=positions,\n",
    "                y=seq_ids,\n",
    "                colorscale=colorscale,\n",
    "                zmin=0,\n",
    "                zmax=len(uniques) - 1 if uniques else 1,\n",
    "                colorbar=dict(\n",
    "                    title=\"Residue\",\n",
    "                    tickvals=colorbar_ticks,\n",
    "                    ticktext=colorbar_labels,\n",
    "                ),\n",
    "                hoverinfo=\"text\",\n",
    "                text=hover,\n",
    "            ),\n",
    "            go.Scatter(\n",
    "                x=[positions[-1] + 5] * len(seq_ids),\n",
    "                y=seq_ids,\n",
    "                mode=\"text\",\n",
    "                text=intron_text,\n",
    "                name=\"Introns\",\n",
    "                showlegend=False,\n",
    "                textfont=dict(size=10, color=\"#303030\"),\n",
    "                hoverinfo=\"skip\",\n",
    "            ),\n",
    "        ]\n",
    "    )\n",
    "\n",
    "    reference_rows = [sid for sid in seq_ids if sid.startswith(\"Reference|\")]\n",
    "    for ref_id in reference_rows:\n",
    "        fig.add_hrect(\n",
    "            y0=ref_id,\n",
    "            y1=ref_id,\n",
    "            yref=\"y\",\n",
    "            line_width=1.5,\n",
    "            line_color=\"#222222\",\n",
    "            opacity=0.15,\n",
    "        )\n",
    "\n",
    "    fig.update_layout(\n",
    "        title=f\"{enzyme}: MAFFT amino-acid alignment ({len(seq_ids)} sequences)\",\n",
    "        xaxis=dict(title=\"Alignment position\"),\n",
    "        yaxis=dict(title=\"Sequence\", automargin=True),\n",
    "        margin=dict(l=150, r=180, t=60, b=60),\n",
    "        height=400 + 20 * len(seq_ids),\n",
    "    )\n",
    "    return fig\n",
    "\n",
    "def display_alignment(enzyme: str):\n",
    "    fig = plot_alignment(enzyme)\n",
    "    fig.show()\n",
    "\n",
    "if HAVE_WIDGETS:\n",
    "    widgets.interact(display_alignment, enzyme=sorted(ALIGNMENT_TABLES.keys()))\n",
    "else:\n",
    "    display_alignment(sorted(ALIGNMENT_TABLES.keys())[0])\n"
   ]
  },
  {
   "cell_type": "code",
   "execution_count": 15,
   "id": "50fb1b52",
   "metadata": {},
   "outputs": [
    {
     "data": {
      "application/vnd.jupyter.widget-view+json": {
       "model_id": "4a7d6585ba734fa2a8150e76ecdc1c22",
       "version_major": 2,
       "version_minor": 0
      },
      "text/plain": [
       "interactive(children=(Dropdown(description='enzyme', options=('PsiD', 'PsiH', 'PsiK', 'PsiM'), value='PsiD'), …"
      ]
     },
     "metadata": {},
     "output_type": "display_data"
    }
   ],
   "source": [
    "# === CELL 5 (rev): Publication-style Plotly heatmap ===\n",
    "import plotly.graph_objects as go\n",
    "from plotly.colors import hex_to_rgb\n",
    "try:\n",
    "    import ipywidgets as widgets\n",
    "    HAVE_WIDGETS = True\n",
    "except ImportError:\n",
    "    HAVE_WIDGETS = False\n",
    "    print(\"ipywidgets not installed; the dropdown selector will be unavailable.\")\n",
    "\n",
    "# Residue categories inspired by biochemical properties\n",
    "PROPERTY_MAP = {\n",
    "    \"Hydrophobic\": list(\"AILMVFWP\"),\n",
    "    \"Polar\": list(\"STNQCYG\"),\n",
    "    \"Positive\": list(\"KRH\"),\n",
    "    \"Negative\": list(\"DE\"),\n",
    "    \"Aromatic\": list(\"FYWH\"),\n",
    "    \"Special\": [\"G\", \"P\"],\n",
    "    \"Stop/Other\": [\"*\", \"X\", \"U\"],\n",
    "}\n",
    "CATEGORY_COLORS = {\n",
    "    \"Hydrophobic\": \"#1b9e77\",\n",
    "    \"Polar\": \"#66a61e\",\n",
    "    \"Positive\": \"#386cb0\",\n",
    "    \"Negative\": \"#ef3b2c\",\n",
    "    \"Aromatic\": \"#a6761d\",\n",
    "    \"Special\": \"#7570b3\",\n",
    "    \"Stop/Other\": \"#b8b8b8\",\n",
    "    \"Gap\": \"#e6e6e6\",\n",
    "}\n",
    "RESIDUE_TO_COLOR = {}\n",
    "for category, residues in PROPERTY_MAP.items():\n",
    "    for res in residues:\n",
    "        RESIDUE_TO_COLOR.setdefault(res, CATEGORY_COLORS[category])\n",
    "RESIDUE_TO_COLOR[\"-\"] = CATEGORY_COLORS[\"Gap\"]\n",
    "\n",
    "def _build_colorscale(symbols):\n",
    "    palette = []\n",
    "    for i, symbol in enumerate(symbols):\n",
    "        color = RESIDUE_TO_COLOR.get(symbol, CATEGORY_COLORS[\"Stop/Other\"])\n",
    "        if len(symbols) == 1:\n",
    "            palette.append((0.0, color))\n",
    "        else:\n",
    "            palette.append((i / (len(symbols) - 1), color))\n",
    "    return palette\n",
    "\n",
    "def _make_hover(seq_ids, positions, residues, metadata, enzyme):\n",
    "    hover = []\n",
    "    for r, seq in enumerate(seq_ids):\n",
    "        rows = []\n",
    "        introns = \"reference\"\n",
    "        if seq in metadata.index:\n",
    "            introns = f\"{metadata.loc[seq, 'introns']} introns\"\n",
    "        for c, pos in enumerate(positions):\n",
    "            residue = residues[r][c]\n",
    "            rows.append(\n",
    "                f\"<b>{seq}</b><br>Position {pos}<br>Residue: {residue}<br>{introns}\"\n",
    "            )\n",
    "        hover.append(rows)\n",
    "    return hover\n",
    "\n",
    "def _add_property_legend(fig):\n",
    "    for i, (category, color) in enumerate(CATEGORY_COLORS.items()):\n",
    "        if category == \"Gap\":\n",
    "            continue\n",
    "        fig.add_trace(\n",
    "            go.Scatter(\n",
    "                x=[None],\n",
    "                y=[None],\n",
    "                mode=\"markers\",\n",
    "                marker=dict(size=12, symbol=\"square\", color=color),\n",
    "                legendgroup=\"residue_legend\",\n",
    "                showlegend=True,\n",
    "                name=category,\n",
    "            )\n",
    "        )\n",
    "\n",
    "def plot_alignment_pretty(enzyme: str) -> go.Figure:\n",
    "    if enzyme not in ALIGNMENT_TABLES:\n",
    "        raise ValueError(f\"No MAFFT alignment found for {enzyme}\")\n",
    "\n",
    "    table = ALIGNMENT_TABLES[enzyme].copy()\n",
    "    seq_ids = table.index.map(str).tolist()\n",
    "    positions = table.columns.astype(int).tolist()\n",
    "    residues = table.astype(str).values\n",
    "\n",
    "    symbols = sorted({res for row in residues for res in row})\n",
    "    if \"-\" in symbols:\n",
    "        symbols.remove(\"-\")\n",
    "        symbols.append(\"-\")\n",
    "    colorscale = _build_colorscale(symbols)\n",
    "    symbol_to_idx = {sym: idx for idx, sym in enumerate(symbols)}\n",
    "    z = [[symbol_to_idx.get(res, symbol_to_idx[symbols[-1]]) for res in row] for row in residues]\n",
    "\n",
    "    meta = alignment_metadata[alignment_metadata[\"enzyme\"] == enzyme].copy()\n",
    "    meta.index = meta[\"species\"] + \"|\" + meta[\"enzyme\"]\n",
    "    hover = _make_hover(seq_ids, positions, residues, meta, enzyme)\n",
    "\n",
    "    fig = go.Figure(\n",
    "        go.Heatmap(\n",
    "            z=z,\n",
    "            x=positions,\n",
    "            y=seq_ids,\n",
    "            colorscale=colorscale,\n",
    "            zmin=0,\n",
    "            zmax=len(symbols) - 1 if symbols else 1,\n",
    "            hoverinfo=\"text\",\n",
    "            text=hover,\n",
    "            showscale=False,\n",
    "        )\n",
    "    )\n",
    "\n",
    "    annotations = []\n",
    "    for seq in seq_ids:\n",
    "        introns = \"reference\"\n",
    "        if seq in meta.index:\n",
    "            introns = f\"{meta.loc[seq, 'introns']} introns\"\n",
    "        annotations.append(\n",
    "            dict(\n",
    "                x=positions[-1] + max(positions) * 0.02,\n",
    "                y=seq,\n",
    "                text=introns,\n",
    "                showarrow=False,\n",
    "                font=dict(size=12, color=\"#4a4a4a\"),\n",
    "                xref=\"x\",\n",
    "                yref=\"y\",\n",
    "            )\n",
    "        )\n",
    "    fig.update_layout(annotations=annotations)\n",
    "\n",
    "    reference_rows = [sid for sid in seq_ids if sid.startswith(\"Reference|\")]\n",
    "    for ref_id in reference_rows:\n",
    "        fig.add_shape(\n",
    "            type=\"rect\",\n",
    "            xref=\"paper\",\n",
    "            yref=\"y\",\n",
    "            x0=0,\n",
    "            x1=1,\n",
    "            y0=ref_id,\n",
    "            y1=ref_id,\n",
    "            line=dict(color=\"#2f2f2f\", width=1.5),\n",
    "            fillcolor=\"rgba(0,0,0,0)\",\n",
    "        )\n",
    "\n",
    "    _add_property_legend(fig)\n",
    "    fig.update_layout(\n",
    "        title=dict(\n",
    "            text=f\"<b>{enzyme}</b> MAFFT alignment (amino acids)\",\n",
    "            x=0.02,\n",
    "            y=0.98,\n",
    "            xanchor=\"left\",\n",
    "            font=dict(family=\"Helvetica Neue\", size=22, color=\"#222222\"),\n",
    "        ),\n",
    "        template=\"simple_white\",\n",
    "        width=1700,  # widened figure\n",
    "        height=480 + 24 * len(seq_ids),\n",
    "        margin=dict(l=200, r=260, t=90, b=70),\n",
    "        font=dict(family=\"Helvetica Neue\", size=14, color=\"#222222\"),\n",
    "        legend=dict(\n",
    "            title=\"Residue class\",\n",
    "            orientation=\"h\",\n",
    "            yanchor=\"bottom\",\n",
    "            y=1.02,\n",
    "            xanchor=\"right\",\n",
    "            x=0.98,\n",
    "            font=dict(size=14),\n",
    "        ),\n",
    "    )\n",
    "    fig.update_xaxes(\n",
    "        title=\"Alignment position\",\n",
    "        showgrid=False,\n",
    "        zeroline=False,\n",
    "        ticks=\"outside\",\n",
    "        tickcolor=\"#8a8a8a\",\n",
    "        title_font=dict(size=16),\n",
    "    )\n",
    "    fig.update_yaxes(\n",
    "        title=\"Sequence\",\n",
    "        autorange=\"reversed\",\n",
    "        showgrid=False,\n",
    "        ticks=\"outside\",\n",
    "        tickcolor=\"#8a8a8a\",\n",
    "        title_font=dict(size=16),\n",
    "    )\n",
    "    return fig\n",
    "\n",
    "def display_alignment_pretty(enzyme: str):\n",
    "    fig = plot_alignment_pretty(enzyme)\n",
    "    fig.show(renderer=\"notebook\")\n",
    "\n",
    "if HAVE_WIDGETS:\n",
    "    widgets.interact(display_alignment_pretty, enzyme=sorted(ALIGNMENT_TABLES.keys()))\n",
    "else:\n",
    "    display_alignment_pretty(sorted(ALIGNMENT_TABLES.keys())[0])\n"
   ]
  },
  {
   "cell_type": "code",
   "execution_count": 16,
   "id": "0f697129",
   "metadata": {},
   "outputs": [
    {
     "data": {
      "application/vnd.jupyter.widget-view+json": {
       "model_id": "7447e8e67bc44090a2662f4f22d0341b",
       "version_major": 2,
       "version_minor": 0
      },
      "text/plain": [
       "VBox(children=(Dropdown(description='Enzyme', layout=Layout(width='220px'), options=('PsiD', 'PsiH', 'PsiK', '…"
      ]
     },
     "metadata": {},
     "output_type": "display_data"
    },
    {
     "name": "stdout",
     "output_type": "stream",
     "text": [
      "Saved interactive viewer to /Users/felix/Documents/20251015_Meeting_PsiloProteins_Felix/05_codex/mafft_alignments/alignment_viewer.html\n"
     ]
    }
   ],
   "source": [
    "from ipywidgets.embed import embed_minimal_html\n",
    "from IPython.display import display, clear_output\n",
    "\n",
    "# Build the widget\n",
    "enzyme_selector = widgets.Dropdown(\n",
    "    options=sorted(ALIGNMENT_TABLES.keys()),\n",
    "    description=\"Enzyme\",\n",
    "    layout=widgets.Layout(width=\"220px\"),\n",
    ")\n",
    "plot_output = widgets.Output()\n",
    "\n",
    "def update_plot(change):\n",
    "    fig = plot_alignment_pretty(change[\"new\"])\n",
    "    with plot_output:\n",
    "        clear_output(wait=True)\n",
    "        fig.show(renderer=\"notebook\")\n",
    "\n",
    "enzyme_selector.observe(update_plot, names=\"value\")\n",
    "update_plot({\"new\": enzyme_selector.value})\n",
    "\n",
    "alignment_viewer = widgets.VBox([enzyme_selector, plot_output])\n",
    "display(alignment_viewer)\n",
    "\n",
    "# Export the entire dropdown + plot\n",
    "export_path = ALIGN_DIR / \"alignment_viewer.html\"\n",
    "embed_minimal_html(export_path, alignment_viewer, title=\"Psilocybe Alignment Explorer\")\n",
    "print(\"Saved interactive viewer to\", export_path)\n"
   ]
  },
  {
   "cell_type": "code",
   "execution_count": 18,
   "id": "8bd4472e",
   "metadata": {},
   "outputs": [
    {
     "name": "stdout",
     "output_type": "stream",
     "text": [
      "Nucleotide MAFFT alignments stored in /Users/felix/Documents/20251015_Meeting_PsiloProteins_Felix/05_codex/mafft_alignments/nucleotide_alignments\n",
      "Enzymes aligned (nt): PsiD, PsiH, PsiK, PsiM\n"
     ]
    }
   ],
   "source": [
    "# === CELL 6: MAFFT nucleotide alignments (CDS) ===\n",
    "from collections import defaultdict\n",
    "from pathlib import Path\n",
    "from Bio import SeqIO, AlignIO\n",
    "from Bio.Seq import Seq\n",
    "\n",
    "NUC_ALIGN_DIR = ALIGN_DIR / \"nucleotide_alignments\"\n",
    "NUC_ALIGN_DIR.mkdir(parents=True, exist_ok=True)\n",
    "\n",
    "REFERENCE_KEYWORD = \"Psilocybe_cubensis\"\n",
    "\n",
    "nuc_inputs = defaultdict(list)\n",
    "meta_with_paths = alignment_metadata.dropna(subset=[\"cds_path\"])\n",
    "\n",
    "for _, row in meta_with_paths.iterrows():\n",
    "    if row[\"status\"] in {\"NO_HIT\", \"ERROR\"}:\n",
    "        continue\n",
    "    cds_path = Path(row[\"cds_path\"])\n",
    "    if not cds_path.exists():\n",
    "        continue\n",
    "\n",
    "    record = next(SeqIO.parse(str(cds_path), \"fasta\"))\n",
    "    record.seq = Seq(str(record.seq).upper())\n",
    "    record.id = f\"{row['species']}|{row['enzyme']}\"\n",
    "    record.description = (\n",
    "        f\"status={row['status']};introns={row['introns']};nt_len={row['nt_len']}\"\n",
    "    )\n",
    "    nuc_inputs[row[\"enzyme\"]].append(record)\n",
    "\n",
    "ALIGNMENTS_NT = {}\n",
    "ALIGNMENT_PATHS_NT = {}\n",
    "ALIGNMENT_TABLES_NT = {}\n",
    "ALIGNMENT_LONG_NT = {}\n",
    "\n",
    "for enzyme, records in nuc_inputs.items():\n",
    "    if not records:\n",
    "        continue\n",
    "\n",
    "    ref_records = [\n",
    "        rec for rec in records\n",
    "        if REFERENCE_KEYWORD.lower() in rec.id.lower()\n",
    "    ]\n",
    "    other_records = [\n",
    "        rec for rec in records\n",
    "        if REFERENCE_KEYWORD.lower() not in rec.id.lower()\n",
    "    ]\n",
    "    other_records.sort(key=lambda r: r.id)\n",
    "    ordered_records = ref_records + other_records\n",
    "\n",
    "    input_fasta = NUC_ALIGN_DIR / f\"{enzyme}_cds_input.fna\"\n",
    "    output_fasta = NUC_ALIGN_DIR / f\"{enzyme}_cds_aligned.fna\"\n",
    "\n",
    "    SeqIO.write(ordered_records, input_fasta, \"fasta\")\n",
    "    cmd = [mafft_bin, \"--auto\", \"--thread\", str(threads), str(input_fasta)]\n",
    "    run = subprocess.run(cmd, stdout=subprocess.PIPE, stderr=subprocess.PIPE, text=True)\n",
    "    if run.returncode != 0:\n",
    "        raise RuntimeError(f\"MAFFT failed for {enzyme} (nucleotide):\\n{run.stderr}\")\n",
    "\n",
    "    output_fasta.write_text(run.stdout)\n",
    "\n",
    "    alignment = AlignIO.read(output_fasta, \"fasta\")\n",
    "    ALIGNMENTS_NT[enzyme] = alignment\n",
    "    ALIGNMENT_PATHS_NT[enzyme] = output_fasta\n",
    "\n",
    "    table = pd.DataFrame(\n",
    "        [list(str(rec.seq)) for rec in alignment],\n",
    "        index=[rec.id for rec in alignment],\n",
    "    )\n",
    "    table.columns = range(1, table.shape[1] + 1)\n",
    "    ALIGNMENT_TABLES_NT[enzyme] = table\n",
    "\n",
    "    long_df = table.reset_index().melt(\n",
    "        id_vars=\"index\", var_name=\"position\", value_name=\"base\"\n",
    "    )\n",
    "    ALIGNMENT_LONG_NT[enzyme] = long_df.rename(columns={\"index\": \"sequence_id\"})\n",
    "\n",
    "print(\"Nucleotide MAFFT alignments stored in\", NUC_ALIGN_DIR)\n",
    "print(\"Enzymes aligned (nt):\", \", \".join(sorted(ALIGNMENTS_NT)))\n"
   ]
  },
  {
   "cell_type": "code",
   "execution_count": 22,
   "id": "49e07838",
   "metadata": {},
   "outputs": [
    {
     "data": {
      "application/vnd.jupyter.widget-view+json": {
       "model_id": "ccde64005fa643889c2bdb2aa23eea38",
       "version_major": 2,
       "version_minor": 0
      },
      "text/plain": [
       "interactive(children=(Dropdown(description='enzyme', options=('PsiD', 'PsiH', 'PsiK', 'PsiM'), value='PsiD'), …"
      ]
     },
     "metadata": {},
     "output_type": "display_data"
    }
   ],
   "source": [
    "# === CELL 7: Plotly nucleotide alignment explorer ===\n",
    "import plotly.graph_objects as go\n",
    "\n",
    "try:\n",
    "    widgets  # reuse existing import if already performed\n",
    "    HAVE_WIDGETS = HAVE_WIDGETS and True\n",
    "except (NameError, UnboundLocalError):\n",
    "    try:\n",
    "        import ipywidgets as widgets\n",
    "        HAVE_WIDGETS = True\n",
    "    except ImportError:\n",
    "        HAVE_WIDGETS = False\n",
    "        print(\"ipywidgets not installed; the dropdown selector will be unavailable.\")\n",
    "\n",
    "NUC_COLOR_MAP = {\n",
    "    \"A\": \"#1b9e77\",\n",
    "    \"C\": \"#d95f02\",\n",
    "    \"G\": \"#7570b3\",\n",
    "    \"T\": \"#e7298a\",\n",
    "    \"U\": \"#e7298a\",\n",
    "    \"N\": \"#555555\",\n",
    "    \"-\": \"#e6e6e6\",\n",
    "    \"R\": \"#a6761d\",  # A/G\n",
    "    \"Y\": \"#a6761d\",  # C/T\n",
    "    \"S\": \"#66a61e\",  # G/C\n",
    "    \"W\": \"#66a61e\",  # A/T\n",
    "    \"K\": \"#386cb0\",  # G/T\n",
    "    \"M\": \"#386cb0\",  # A/C\n",
    "    \"B\": \"#bdbdbd\",  # C/G/T\n",
    "    \"D\": \"#bdbdbd\",  # A/G/T\n",
    "    \"H\": \"#bdbdbd\",  # A/C/T\n",
    "    \"V\": \"#bdbdbd\",  # A/C/G\n",
    "    \"X\": \"#bdbdbd\",\n",
    "}\n",
    "DEFAULT_NUC_COLOR = \"#bdbdbd\"\n",
    "REFERENCE_ID_PREFIX = \"Reference|\"\n",
    "\n",
    "def _nuc_colorscale(symbols):\n",
    "    symbols = list(symbols)\n",
    "    if not symbols:\n",
    "        return [(0.0, \"#ffffff\"), (1.0, \"#ffffff\")]\n",
    "    if len(symbols) == 1:\n",
    "        col = NUC_COLOR_MAP.get(symbols[0], DEFAULT_NUC_COLOR)\n",
    "        return [(0.0, col), (1.0, col)]\n",
    "    return [\n",
    "        (i / (len(symbols) - 1), NUC_COLOR_MAP.get(sym, DEFAULT_NUC_COLOR))\n",
    "        for i, sym in enumerate(symbols)\n",
    "    ]\n",
    "\n",
    "def _nuc_hover(seq_ids, positions, bases, metadata):\n",
    "    hover = []\n",
    "    for r, seq in enumerate(seq_ids):\n",
    "        introns = \"reference\"\n",
    "        if seq in metadata.index:\n",
    "            introns = f\"{metadata.loc[seq, 'introns']} introns\"\n",
    "        row_hover = [\n",
    "            f\"<b>{seq}</b><br>Position {pos}<br>Base: {bases[r][c]}<br>{introns}\"\n",
    "            for c, pos in enumerate(positions)\n",
    "        ]\n",
    "        hover.append(row_hover)\n",
    "    return hover\n",
    "\n",
    "def _add_nuc_legend(fig):\n",
    "    for sym, color in NUC_COLOR_MAP.items():\n",
    "        fig.add_trace(\n",
    "            go.Scatter(\n",
    "                x=[None],\n",
    "                y=[None],\n",
    "                mode=\"markers\",\n",
    "                marker=dict(size=12, symbol=\"square\", color=color),\n",
    "                legendgroup=\"nt\",\n",
    "                showlegend=True,\n",
    "                name=sym,\n",
    "            )\n",
    "        )\n",
    "\n",
    "def plot_nt_alignment_pretty(enzyme: str) -> go.Figure:\n",
    "    if enzyme not in ALIGNMENT_TABLES_NT:\n",
    "        raise ValueError(f\"No nucleotide alignment found for {enzyme}\")\n",
    "\n",
    "    table = ALIGNMENT_TABLES_NT[enzyme].copy()\n",
    "    seq_ids = table.index.astype(str).tolist()\n",
    "    positions = table.columns.astype(int).tolist()\n",
    "    bases = table.applymap(lambda x: str(x).upper()).values\n",
    "\n",
    "    symbols = sorted({b for row in bases for b in row})\n",
    "    if \"-\" in symbols:\n",
    "        symbols.remove(\"-\")\n",
    "        symbols.append(\"-\")\n",
    "    colorscale = _nuc_colorscale(symbols)\n",
    "    symbol_to_idx = {sym: idx for idx, sym in enumerate(symbols)}\n",
    "    z = [[symbol_to_idx.get(b, symbol_to_idx[symbols[-1]]) for b in row] for row in bases]\n",
    "\n",
    "    meta = alignment_metadata[alignment_metadata[\"enzyme\"] == enzyme].copy()\n",
    "    meta.index = meta[\"species\"] + \"|\" + meta[\"enzyme\"]\n",
    "    hover = _nuc_hover(seq_ids, positions, bases, meta)\n",
    "\n",
    "    fig = go.Figure(\n",
    "        go.Heatmap(\n",
    "            z=z,\n",
    "            x=positions,\n",
    "            y=seq_ids,\n",
    "            colorscale=colorscale,\n",
    "            zmin=0,\n",
    "            zmax=len(symbols) - 1 if symbols else 1,\n",
    "            hoverinfo=\"text\",\n",
    "            text=hover,\n",
    "            showscale=False,\n",
    "        )\n",
    "    )\n",
    "\n",
    "    annotations = []\n",
    "    x_offset = positions[-1] + positions[-1] * 0.02\n",
    "    for seq in seq_ids:\n",
    "        introns = \"reference\"\n",
    "        if seq in meta.index:\n",
    "            introns = f\"{meta.loc[seq, 'introns']} introns\"\n",
    "        annotations.append(\n",
    "            dict(\n",
    "                x=x_offset,\n",
    "                y=seq,\n",
    "                text=introns,\n",
    "                showarrow=False,\n",
    "                font=dict(size=12, color=\"#4a4a4a\"),\n",
    "                xref=\"x\",\n",
    "                yref=\"y\",\n",
    "            )\n",
    "        )\n",
    "    fig.update_layout(annotations=annotations)\n",
    "\n",
    "    reference_ids = [sid for sid in seq_ids if sid.startswith(REFERENCE_ID_PREFIX)]\n",
    "    for ref_id in reference_ids:\n",
    "        idx = seq_ids.index(ref_id)\n",
    "        fig.add_hrect(\n",
    "            xref=\"paper\",\n",
    "            yref=\"y\",\n",
    "            x0=0,\n",
    "            x1=1,\n",
    "            y0=idx - 0.5,\n",
    "            y1=idx + 0.5,\n",
    "            line_width=1.5,\n",
    "            line_color=\"#2f2f2f\",\n",
    "            fillcolor=\"rgba(0,0,0,0)\",\n",
    "        )\n",
    "\n",
    "    _add_nuc_legend(fig)\n",
    "    fig.update_layout(\n",
    "        title=dict(\n",
    "            text=f\"<b>{enzyme}</b> MAFFT alignment (nucleotide CDS)\",\n",
    "            x=0.02,\n",
    "            y=0.98,\n",
    "            xanchor=\"left\",\n",
    "            font=dict(family=\"Helvetica Neue\", size=22, color=\"#222222\"),\n",
    "        ),\n",
    "        template=\"simple_white\",\n",
    "        width=1700,\n",
    "        height=480 + 24 * len(seq_ids),\n",
    "        margin=dict(l=200, r=260, t=90, b=70),\n",
    "        font=dict(family=\"Helvetica Neue\", size=14, color=\"#222222\"),\n",
    "        legend=dict(\n",
    "            title=\"Nucleotide\",\n",
    "            orientation=\"h\",\n",
    "            yanchor=\"bottom\",\n",
    "            y=1.02,\n",
    "            xanchor=\"right\",\n",
    "            x=0.98,\n",
    "            font=dict(size=14),\n",
    "        ),\n",
    "    )\n",
    "    fig.update_xaxes(\n",
    "        title=\"Alignment position\",\n",
    "        showgrid=False,\n",
    "        zeroline=False,\n",
    "        ticks=\"outside\",\n",
    "        tickcolor=\"#8a8a8a\",\n",
    "        title_font=dict(size=16),\n",
    "    )\n",
    "    fig.update_yaxes(\n",
    "        title=\"Sequence\",\n",
    "        autorange=\"reversed\",\n",
    "        showgrid=False,\n",
    "        ticks=\"outside\",\n",
    "        tickcolor=\"#8a8a8a\",\n",
    "        title_font=dict(size=16),\n",
    "    )\n",
    "    return fig\n",
    "\n",
    "def display_nt_alignment(enzyme: str):\n",
    "    fig = plot_nt_alignment_pretty(enzyme)\n",
    "    fig.show(renderer=\"notebook\")\n",
    "\n",
    "if HAVE_WIDGETS:\n",
    "    widgets.interact(display_nt_alignment, enzyme=sorted(ALIGNMENT_TABLES_NT.keys()))\n",
    "else:\n",
    "    display_nt_alignment(sorted(ALIGNMENT_TABLES_NT.keys())[0])\n"
   ]
  }
 ],
 "metadata": {
  "kernelspec": {
   "display_name": "AncSeq",
   "language": "python",
   "name": "python3"
  },
  "language_info": {
   "codemirror_mode": {
    "name": "ipython",
    "version": 3
   },
   "file_extension": ".py",
   "mimetype": "text/x-python",
   "name": "python",
   "nbconvert_exporter": "python",
   "pygments_lexer": "ipython3",
   "version": "3.9.24"
  }
 },
 "nbformat": 4,
 "nbformat_minor": 5
}
