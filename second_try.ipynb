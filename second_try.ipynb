{
 "cells": [
  {
   "cell_type": "code",
   "execution_count": 13,
   "id": "bfabdf38",
   "metadata": {},
   "outputs": [
    {
     "name": "stdout",
     "output_type": "stream",
     "text": [
      "============================================================\n",
      "OPTIMIZED MODE: P. cubensis References from Files\n",
      "============================================================\n",
      "Reading references from: 03_Sequences_Paper/References/\n",
      "============================================================\n",
      "\n",
      "Building reference panels from FASTA files...\n",
      "  PsiD: 1 sequence(s) -> /Users/felix/Documents/20251015_Meeting_PsiloProteins_Felix/05_codex/reference_panels/Proteins_PsiD/PsiD_refs.faa\n",
      "  PsiK: 1 sequence(s) -> /Users/felix/Documents/20251015_Meeting_PsiloProteins_Felix/05_codex/reference_panels/Proteins_PsiK/PsiK_refs.faa\n",
      "  PsiM: 1 sequence(s) -> /Users/felix/Documents/20251015_Meeting_PsiloProteins_Felix/05_codex/reference_panels/Proteins_PsiM/PsiM_refs.faa\n",
      "  PsiH: 1 sequence(s) -> /Users/felix/Documents/20251015_Meeting_PsiloProteins_Felix/05_codex/reference_panels/Proteins_PsiH/PsiH_refs.faa\n",
      "\n",
      "Reference panels created: 4/4 enzymes\n",
      "============================================================\n",
      "\n",
      "Setup complete! Ready to extract genes.\n"
     ]
    }
   ],
   "source": [
    "# === SETUP & CONFIG (Using References folder) ===\n",
    "\n",
    "from pathlib import Path\n",
    "from Bio import SeqIO\n",
    "from Bio.Seq import Seq\n",
    "from Bio.SeqRecord import SeqRecord\n",
    "import re, gzip, json, subprocess, sys\n",
    "\n",
    "print(\"=\"*60)\n",
    "print(\"OPTIMIZED MODE: P. cubensis References from Files\")\n",
    "print(\"=\"*60)\n",
    "print(\"Reading references from: 03_Sequences_Paper/References/\")\n",
    "print(\"=\"*60 + \"\\n\")\n",
    "\n",
    "# --- Project roots ---\n",
    "BASE = Path.cwd().resolve()\n",
    "DATA_CANDIDATES = [\n",
    "    BASE / \"03_Sequences_Paper\",\n",
    "    BASE.parent / \"03_Sequences_Paper\",\n",
    "]\n",
    "for candidate in DATA_CANDIDATES:\n",
    "    if candidate.exists():\n",
    "        DATA = candidate\n",
    "        break\n",
    "else:\n",
    "    raise FileNotFoundError(\"Unable to locate the 03_Sequences_Paper directory relative to this notebook.\")\n",
    "\n",
    "def resolve_dir(parent: Path, name: str) -> Path:\n",
    "    \"\"\"Resolve directory with optional whitespace handling\"\"\"\n",
    "    direct = parent / name\n",
    "    if direct.exists():\n",
    "        return direct\n",
    "    normalized = [child for child in parent.iterdir() if child.name.strip() == name]\n",
    "    if normalized:\n",
    "        return normalized[0]\n",
    "    raise FileNotFoundError(f'Expected directory \"{name}\" under {parent}')\n",
    "\n",
    "# --- Input folders ---\n",
    "SCAFF_DIR = resolve_dir(DATA, \"Assembly_scaffolds\")\n",
    "REF_SOURCE_DIR = resolve_dir(DATA, \"References\")  # Your reference FASTA files\n",
    "\n",
    "# --- Output folders ---\n",
    "REF_DIR = BASE / \"reference_panels\"\n",
    "OUT_DIR = BASE / \"cds_extraction_outputs\"\n",
    "REF_DIR.mkdir(parents=True, exist_ok=True)\n",
    "OUT_DIR.mkdir(parents=True, exist_ok=True)\n",
    "\n",
    "# --- Enzymes we care about ---\n",
    "ENZYMES = (\"PsiD\", \"PsiK\", \"PsiM\", \"PsiH\")\n",
    "\n",
    "# --- Build reference panels from your FASTA files ---\n",
    "print(\"Building reference panels from FASTA files...\")\n",
    "\n",
    "REFS = {}\n",
    "for enzyme in ENZYMES:\n",
    "    # Create output directory for this enzyme\n",
    "    enzyme_dir = REF_DIR / f\"Proteins_{enzyme}\"\n",
    "    enzyme_dir.mkdir(parents=True, exist_ok=True)\n",
    "\n",
    "    # Look for reference file for this enzyme\n",
    "    ref_file = REF_SOURCE_DIR / f\"{enzyme}_Psilocybe_cubensis.fasta\"\n",
    "\n",
    "    if not ref_file.exists():\n",
    "        print(f\"WARNING: Reference file not found: {ref_file}\")\n",
    "        continue\n",
    "\n",
    "    # Read the reference FASTA file\n",
    "    records = list(SeqIO.parse(ref_file, \"fasta\"))\n",
    "\n",
    "    if not records:\n",
    "        print(f\"WARNING: No sequences found in {ref_file}\")\n",
    "        continue\n",
    "\n",
    "    # Write to reference panel\n",
    "    output_fasta = enzyme_dir / f\"{enzyme}_refs.faa\"\n",
    "    SeqIO.write(records, output_fasta, \"fasta\")\n",
    "\n",
    "    REFS[enzyme] = output_fasta\n",
    "    print(f\"  {enzyme}: {len(records)} sequence(s) -> {output_fasta}\")\n",
    "\n",
    "print(f\"\\nReference panels created: {len(REFS)}/{len(ENZYMES)} enzymes\")\n",
    "print(\"=\"*60 + \"\\n\")\n",
    "\n",
    "# Verify all enzymes have references\n",
    "missing = set(ENZYMES) - set(REFS.keys())\n",
    "if missing:\n",
    "    raise FileNotFoundError(f\"Missing references for: {', '.join(missing)}\")\n",
    "\n",
    "print(\"Setup complete! Ready to extract genes.\")\n"
   ]
  },
  {
   "cell_type": "code",
   "execution_count": 14,
   "id": "bf7ab137",
   "metadata": {},
   "outputs": [
    {
     "name": "stdout",
     "output_type": "stream",
     "text": [
      "Extraction parameters: BESTN=1, PERCENT=30\n",
      "Single reference mode + bestn=1 = ~3-4x faster!\n",
      "\n",
      "============================================================\n",
      "TESTING: Single Species Extraction\n",
      "============================================================\n",
      "\n",
      "Test species: Psilocybe_baeocystis_WTU-F-011245.scaffolds.fasta\n",
      "\n",
      "[Psilocybe_baeocystis_WTU-F-011245.scaffolds] Processing genome with 111,256 scaffolds...\n"
     ]
    },
    {
     "data": {
      "application/vnd.jupyter.widget-view+json": {
       "model_id": "b33e5bfd96224acaaaafeba6506e4a83",
       "version_major": 2,
       "version_minor": 0
      },
      "text/plain": [
       "Psilocybe_baeocystis_WTU-F-011245.scaffolds:   0%|          | 0/4 [00:00<?, ?it/s]"
      ]
     },
     "metadata": {},
     "output_type": "display_data"
    },
    {
     "name": "stdout",
     "output_type": "stream",
     "text": [
      "  [Psilocybe_baeocystis_WTU-F-011245.scaffolds] Processing PsiD... done (4.0s)\n",
      "  [Psilocybe_baeocystis_WTU-F-011245.scaffolds] Processing PsiK... done (3.8s)\n",
      "  [Psilocybe_baeocystis_WTU-F-011245.scaffolds] Processing PsiM... done (3.7s)\n",
      "  [Psilocybe_baeocystis_WTU-F-011245.scaffolds] Processing PsiH... done (5.4s)\n",
      "[Psilocybe_baeocystis_WTU-F-011245.scaffolds] Done! Output → /Users/felix/Documents/20251015_Meeting_PsiloProteins_Felix/05_codex/cds_extraction_outputs/Psilocybe_baeocystis_WTU-F-011245.scaffolds\n",
      "\n",
      "============================================================\n",
      "VALIDATION: Comparing with Example Outputs\n",
      "============================================================\n",
      "\n",
      "📋 PsiD CDS Comparison:\n",
      "   Our length:     618 bp\n",
      "   Example length: 618 bp\n",
      "   ✅ PERFECT MATCH - CDS sequences identical!\n",
      "\n",
      "📋 PsiD Protein Comparison:\n",
      "   Our length:     206 aa\n",
      "   Example length: 206 aa\n",
      "   ✅ PERFECT MATCH - Protein sequences identical!\n",
      "\n",
      "============================================================\n",
      "Validation complete!\n",
      "============================================================\n",
      "\n"
     ]
    }
   ],
   "source": [
    "# === CELL 2: Single-Species Extraction (OPTIMIZED) ===\n",
    "\n",
    "from Bio.Seq import Seq\n",
    "from Bio.SeqRecord import SeqRecord\n",
    "import time\n",
    "\n",
    "try:\n",
    "    from tqdm.auto import tqdm\n",
    "    TQDM_AVAILABLE = True\n",
    "except ImportError:\n",
    "    TQDM_AVAILABLE = False\n",
    "    print(\"Warning: tqdm not installed. Progress bars disabled. Install with: pip install tqdm\")\n",
    "\n",
    "# --- OPTIMIZED PARAMETERS FOR SPEED ---\n",
    "BESTN   = 1     # Best hit only (3x faster than bestn=3)\n",
    "PERCENT = 30    # Minimal percent identity cutoff\n",
    "\n",
    "# Optional soft length bands (AA) to prefer intact ORFs\n",
    "AA_BANDS = {\n",
    "    \"PsiD\": (350, 600),   # TDC typically ~480 aa\n",
    "    \"PsiK\": (250, 420),   # kinase\n",
    "    \"PsiM\": (180, 320),   # methyltransferase\n",
    "    \"PsiH\": (400, 650),   # P450 ~510 aa\n",
    "}\n",
    "\n",
    "print(f\"Extraction parameters: BESTN={BESTN}, PERCENT={PERCENT}\")\n",
    "print(f\"Single reference mode + bestn=1 = ~3-4x faster!\\n\")\n",
    "\n",
    "def run(cmd):\n",
    "    p = subprocess.run(cmd, stdout=subprocess.PIPE, stderr=subprocess.PIPE, text=True)\n",
    "    if p.returncode != 0:\n",
    "        raise RuntimeError(f\"Command failed: {' '.join(map(str,cmd))}\\nSTDERR:\\n{p.stderr}\")\n",
    "    return p.stdout\n",
    "\n",
    "def index_fasta_dict(fasta_path):\n",
    "    return {rec.id: str(rec.seq).upper().replace(\"-\", \"\") for rec in SeqIO.parse(fasta_path, \"fasta\")}\n",
    "\n",
    "def reverse_complement(seq):\n",
    "    return str(Seq(seq).reverse_complement())\n",
    "\n",
    "def translate_orf(seq):\n",
    "    prot = str(Seq(seq).translate(to_stop=False))\n",
    "    in_frame = (len(seq) % 3 == 0)\n",
    "    has_internal_stop = \"*\" in prot[:-1]\n",
    "    return prot, in_frame, has_internal_stop\n",
    "\n",
    "def parse_exonerate_gff(gff_text):\n",
    "    \"\"\"\n",
    "    Parse exonerate --showtargetgff output.\n",
    "    Returns list of hits dicts with keys: seqid,strand,score,exons(list of (s,e,phase))\n",
    "    \"\"\"\n",
    "    lines = [ln for ln in gff_text.splitlines() if ln and not ln.startswith(\"#\")]\n",
    "    hits, current = [], None\n",
    "    for ln in lines:\n",
    "        if \"\\t\" not in ln: \n",
    "            continue\n",
    "        seqid, source, feature, start, end, score, strand, phase, attrs = ln.split(\"\\t\")\n",
    "        start, end = int(start), int(end)\n",
    "        score = 0.0 if score == \".\" else float(score)\n",
    "        f = feature.lower()\n",
    "        if f == \"gene\":\n",
    "            if current and current.get(\"exons\"):\n",
    "                hits.append(current)\n",
    "            current = {\"seqid\": seqid, \"strand\": strand, \"score\": score, \"exons\": [], \"attrs\": attrs}\n",
    "        elif f == \"cds\":\n",
    "            if current is None:\n",
    "                current = {\"seqid\": seqid, \"strand\": strand, \"score\": score, \"exons\": [], \"attrs\": attrs}\n",
    "            ph = 0 if phase == \".\" else int(phase)\n",
    "            current[\"exons\"].append((start, end, ph))\n",
    "    if current and current.get(\"exons\"):\n",
    "        hits.append(current)\n",
    "    for h in hits:\n",
    "        h[\"exons\"].sort(key=lambda x: x[0])\n",
    "    return hits\n",
    "\n",
    "def stitch_cds(genome_dict, hit):\n",
    "    seq_parts = [genome_dict[hit[\"seqid\"]][s-1:e] for (s,e,ph) in hit[\"exons\"]]\n",
    "    cds = \"\".join(seq_parts)\n",
    "    if hit[\"strand\"] == \"-\":\n",
    "        cds = reverse_complement(cds)\n",
    "    # trim to multiple of 3 if needed\n",
    "    if len(cds) % 3 != 0:\n",
    "        cds = cds[:len(cds) - (len(cds) % 3)]\n",
    "    return cds\n",
    "\n",
    "def exonerate_protein2genome(ref_faa, scaff_fa, bestn=BESTN, minpct=PERCENT):\n",
    "    return run([\n",
    "        \"exonerate\", \"--model\", \"protein2genome\",\n",
    "        \"--showtargetgff\", \"yes\", \"--showalignment\", \"no\", \"--showvulgar\", \"no\",\n",
    "        \"--bestn\", str(bestn), \"--percent\", str(minpct),\n",
    "        str(ref_faa), str(scaff_fa)\n",
    "    ])\n",
    "\n",
    "def score_candidate(enzyme, prot, in_frame, has_stop, score_raw, nt_len):\n",
    "    \"\"\"Lower is better; prefer in-frame, no stops, within AA band, higher score, longer.\"\"\"\n",
    "    aa_len = len(prot.rstrip(\"*\"))\n",
    "    band_pen = 0\n",
    "    if AA_BANDS.get(enzyme):\n",
    "        lo, hi = AA_BANDS[enzyme]\n",
    "        if not (lo <= aa_len <= hi):\n",
    "            band_pen = 1\n",
    "    return (\n",
    "        int(has_stop),          # 0 preferred\n",
    "        int(not in_frame),      # 0 preferred\n",
    "        band_pen,               # 0 preferred\n",
    "        -score_raw,             # higher exonerate score preferred\n",
    "        -nt_len,                # longer CDS preferred\n",
    "    )\n",
    "\n",
    "def run_species(scaff_fa_path, out_dir=OUT_DIR, pbar=None, verbose=True):\n",
    "    \"\"\"Extract PsiD/K/M/H for one species FASTA; returns a summary dict.\"\"\"\n",
    "    species = Path(scaff_fa_path).stem\n",
    "    genome = index_fasta_dict(scaff_fa_path)\n",
    "    species_out = out_dir / species\n",
    "    species_out.mkdir(parents=True, exist_ok=True)\n",
    "    summary = {\"species\": species, \"results\": []}\n",
    "\n",
    "    # Count scaffolds for info\n",
    "    n_scaffolds = len(genome)\n",
    "    if verbose and pbar is None:\n",
    "        print(f\"[{species}] Processing genome with {n_scaffolds:,} scaffolds...\")\n",
    "\n",
    "    # Create enzyme-level progress bar if tqdm available\n",
    "    enzyme_iter = REFS.items()\n",
    "    if TQDM_AVAILABLE and pbar is None:  # only show enzyme bar in single-species mode\n",
    "        enzyme_iter = tqdm(enzyme_iter, desc=f\"{species}\", leave=False, total=len(REFS))\n",
    "\n",
    "    for enzyme, ref_path in enzyme_iter:\n",
    "        if verbose and pbar is None:\n",
    "            print(f\"  [{species}] Processing {enzyme}...\", end=\" \", flush=True)\n",
    "        \n",
    "        start_time = time.time()\n",
    "        candidates = []\n",
    "        \n",
    "        # Single reference mode - ref_path is a Path object, not a list\n",
    "        if not ref_path.exists():\n",
    "            if verbose and pbar is None:\n",
    "                print(f\"ERROR: Reference not found\")\n",
    "            summary[\"results\"].append({\n",
    "                \"enzyme\": enzyme,\n",
    "                \"status\": \"ERROR\",\n",
    "                \"error\": f\"Reference file not found: {ref_path}\"\n",
    "            })\n",
    "            continue\n",
    "        \n",
    "        gff_text = exonerate_protein2genome(ref_path, scaff_fa_path, bestn=BESTN, minpct=PERCENT)\n",
    "        for h in parse_exonerate_gff(gff_text):\n",
    "            cds = stitch_cds(genome, h)\n",
    "            if not cds:\n",
    "                continue\n",
    "            prot, in_frame, has_stop = translate_orf(cds)\n",
    "            cand = {\n",
    "                \"enzyme\": enzyme, \"score\": h[\"score\"], \"nt_len\": len(cds),\n",
    "                \"in_frame\": in_frame, \"has_stop\": has_stop, \"blocks\": len(h[\"exons\"]),\n",
    "                \"strand\": h[\"strand\"], \"seqid\": h[\"seqid\"], \"cds\": cds, \"prot\": prot\n",
    "            }\n",
    "            candidates.append(cand)\n",
    "        \n",
    "        elapsed = time.time() - start_time\n",
    "        if verbose and pbar is None:\n",
    "            print(f\"done ({elapsed:.1f}s)\", flush=True)\n",
    "\n",
    "        if not candidates:\n",
    "            summary[\"results\"].append({\"enzyme\": enzyme, \"status\": \"NO_HIT\"})\n",
    "            continue\n",
    "\n",
    "        # pick the best candidate (with bestn=1, usually only 1 candidate anyway)\n",
    "        best = sorted(\n",
    "            candidates,\n",
    "            key=lambda c: score_candidate(enzyme, c[\"prot\"], c[\"in_frame\"], c[\"has_stop\"], c[\"score\"], c[\"nt_len\"])\n",
    "        )[0]\n",
    "\n",
    "        # write outputs\n",
    "        cds_rec  = SeqRecord(Seq(best[\"cds\"]), id=f\"{species}|{enzyme}\", description=f\"score={best['score']};blocks={best['blocks']};strand={best['strand']}\")\n",
    "        prot_rec = SeqRecord(Seq(best[\"prot\"]), id=f\"{species}|{enzyme}\", description=f\"in_frame={best['in_frame']};has_stop={best['has_stop']}\")\n",
    "        SeqIO.write([cds_rec],  species_out / f\"{species}_{enzyme}.cds.fa\",  \"fasta\")\n",
    "        SeqIO.write([prot_rec], species_out / f\"{species}_{enzyme}.prot.fa\", \"fasta\")\n",
    "\n",
    "        status = \"OK\" if (best[\"in_frame\"] and not best[\"has_stop\"]) else \"CHECK_ORF\"\n",
    "        summary[\"results\"].append({\n",
    "            \"enzyme\": enzyme, \"status\": status, \"score\": best[\"score\"],\n",
    "            \"nt_len\": best[\"nt_len\"], \"blocks\": best[\"blocks\"], \"strand\": best[\"strand\"], \"seqid\": best[\"seqid\"]\n",
    "        })\n",
    "\n",
    "    # write per-species JSON summary\n",
    "    with open((species_out / f\"{species}_summary.json\"), \"w\") as fh:\n",
    "        json.dump(summary, fh, indent=2)\n",
    "    \n",
    "    # Update batch progress bar if provided\n",
    "    if pbar is not None:\n",
    "        pbar.update(1)\n",
    "    else:\n",
    "        print(f\"[{species}] Done! Output → {species_out}\")\n",
    "    \n",
    "    return summary\n",
    "\n",
    "# === EXAMPLE: run one species ===\n",
    "print(\"=\"*60)\n",
    "print(\"TESTING: Single Species Extraction\")\n",
    "print(\"=\"*60 + \"\\n\")\n",
    "\n",
    "one_species = sorted(SCAFF_DIR.glob(\"Psilocybe_baeocystis*.fa*\"))[0]\n",
    "print(f\"Test species: {one_species.name}\\n\")\n",
    "test_summary = run_species(one_species, OUT_DIR)\n",
    "\n",
    "# === VALIDATION: Compare with Example Outputs ===\n",
    "print(\"\\n\" + \"=\"*60)\n",
    "print(\"VALIDATION: Comparing with Example Outputs\")\n",
    "print(\"=\"*60 + \"\\n\")\n",
    "\n",
    "EXAMPLE_DIR = BASE.parent / \"02_ColabResults_Example\"\n",
    "if EXAMPLE_DIR.exists():\n",
    "    species_name = one_species.stem\n",
    "    our_out = OUT_DIR / species_name\n",
    "    \n",
    "    # Only PsiD has example output\n",
    "    enzyme = \"PsiD\"\n",
    "    \n",
    "    # Compare CDS\n",
    "    our_cds = our_out / f\"{species_name}_{enzyme}.cds.fa\"\n",
    "    example_cds = EXAMPLE_DIR / \"P_baeocystis_PsiD.cds.fa\"\n",
    "    \n",
    "    # Compare Protein\n",
    "    our_prot = our_out / f\"{species_name}_{enzyme}.prot.fa\"\n",
    "    example_prot = EXAMPLE_DIR / \"P_baeocystis_PsiD.prot.fa\"\n",
    "    \n",
    "    if our_cds.exists() and example_cds.exists():\n",
    "        our_cds_seq = str(list(SeqIO.parse(our_cds, \"fasta\"))[0].seq)\n",
    "        example_cds_seq = str(list(SeqIO.parse(example_cds, \"fasta\"))[0].seq)\n",
    "        \n",
    "        print(f\"📋 {enzyme} CDS Comparison:\")\n",
    "        print(f\"   Our length:     {len(our_cds_seq):,} bp\")\n",
    "        print(f\"   Example length: {len(example_cds_seq):,} bp\")\n",
    "        \n",
    "        if our_cds_seq == example_cds_seq:\n",
    "            print(f\"   ✅ PERFECT MATCH - CDS sequences identical!\\n\")\n",
    "        else:\n",
    "            # Check if they're close\n",
    "            from difflib import SequenceMatcher\n",
    "            similarity = SequenceMatcher(None, our_cds_seq, example_cds_seq).ratio()\n",
    "            print(f\"   ⚠️  Sequences differ (similarity: {similarity*100:.1f}%)\")\n",
    "            \n",
    "            # Show first difference\n",
    "            for i, (a, b) in enumerate(zip(our_cds_seq, example_cds_seq)):\n",
    "                if a != b:\n",
    "                    print(f\"   First difference at position {i}: {a} vs {b}\\n\")\n",
    "                    break\n",
    "    \n",
    "    if our_prot.exists() and example_prot.exists():\n",
    "        our_prot_seq = str(list(SeqIO.parse(our_prot, \"fasta\"))[0].seq)\n",
    "        example_prot_seq = str(list(SeqIO.parse(example_prot, \"fasta\"))[0].seq)\n",
    "        \n",
    "        print(f\"📋 {enzyme} Protein Comparison:\")\n",
    "        print(f\"   Our length:     {len(our_prot_seq)} aa\")\n",
    "        print(f\"   Example length: {len(example_prot_seq)} aa\")\n",
    "        \n",
    "        if our_prot_seq == example_prot_seq:\n",
    "            print(f\"   ✅ PERFECT MATCH - Protein sequences identical!\")\n",
    "        else:\n",
    "            similarity = SequenceMatcher(None, our_prot_seq, example_prot_seq).ratio()\n",
    "            print(f\"   ⚠️  Sequences differ (similarity: {similarity*100:.1f}%)\")\n",
    "            \n",
    "            # Show first difference\n",
    "            for i, (a, b) in enumerate(zip(our_prot_seq, example_prot_seq)):\n",
    "                if a != b:\n",
    "                    print(f\"   First difference at position {i}: {a} vs {b}\")\n",
    "                    break\n",
    "    \n",
    "    print(\"\\n\" + \"=\"*60)\n",
    "    print(\"Validation complete!\")\n",
    "    print(\"=\"*60 + \"\\n\")\n",
    "else:\n",
    "    print(f\"⚠️  Example directory not found: {EXAMPLE_DIR}\")\n",
    "    print(\"   Skipping validation comparison.\\n\")\n"
   ]
  },
  {
   "cell_type": "code",
   "execution_count": 15,
   "id": "c453dbea",
   "metadata": {},
   "outputs": [
    {
     "name": "stdout",
     "output_type": "stream",
     "text": [
      "Total species to process: 71\n",
      "Using 12 parallel threads\n",
      "============================================================\n",
      "\n"
     ]
    },
    {
     "data": {
      "application/vnd.jupyter.widget-view+json": {
       "model_id": "c6cb60f52c6243f3a1aff0f78590c701",
       "version_major": 2,
       "version_minor": 0
      },
      "text/plain": [
       "Processing species:   0%|          | 0/71 [00:00<?, ?species/s]"
      ]
     },
     "metadata": {},
     "output_type": "display_data"
    },
    {
     "data": {
      "application/vnd.jupyter.widget-view+json": {
       "model_id": "ed18914bf0e1419c852b0b96aa452c59",
       "version_major": 2,
       "version_minor": 0
      },
      "text/plain": [
       "Psilocybe_angustipleurocystidiata_ISOTYPE_NY-761597.scaffolds:   0%|          | 0/4 [00:00<?, ?it/s]"
      ]
     },
     "metadata": {},
     "output_type": "display_data"
    },
    {
     "data": {
      "application/vnd.jupyter.widget-view+json": {
       "model_id": "2284e34fcfcd49b4955453d8f3b34c5b",
       "version_major": 2,
       "version_minor": 0
      },
      "text/plain": [
       "Psilocybe_argentina_SFSU-F-029894.scaffolds:   0%|          | 0/4 [00:00<?, ?it/s]"
      ]
     },
     "metadata": {},
     "output_type": "display_data"
    },
    {
     "data": {
      "application/vnd.jupyter.widget-view+json": {
       "model_id": "60e00cb8f37447f49d8e3e8577a90629",
       "version_major": 2,
       "version_minor": 0
      },
      "text/plain": [
       "Psilocybe_azurescens_WTU-F19095-HOLOTYPE.scaffolds:   0%|          | 0/4 [00:00<?, ?it/s]"
      ]
     },
     "metadata": {},
     "output_type": "display_data"
    },
    {
     "data": {
      "application/vnd.jupyter.widget-view+json": {
       "model_id": "cac0c5ab84db420ca9308335b8402579",
       "version_major": 2,
       "version_minor": 0
      },
      "text/plain": [
       "Psilocybe_argentipes_NY-1595850.scaffolds:   0%|          | 0/4 [00:00<?, ?it/s]"
      ]
     },
     "metadata": {},
     "output_type": "display_data"
    },
    {
     "data": {
      "application/vnd.jupyter.widget-view+json": {
       "model_id": "31f94b7983ed4e8d9ffa5749e6d74dac",
       "version_major": 2,
       "version_minor": 0
      },
      "text/plain": [
       "Psilocybe_azurescens_Lg-bg-ut.scaffolds:   0%|          | 0/4 [00:00<?, ?it/s]"
      ]
     },
     "metadata": {},
     "output_type": "display_data"
    },
    {
     "data": {
      "application/vnd.jupyter.widget-view+json": {
       "model_id": "569015858f534e3c8231b7cf922ddc7d",
       "version_major": 2,
       "version_minor": 0
      },
      "text/plain": [
       "Psilocybe_bohemica_SFSU-F-029930.scaffolds:   0%|          | 0/4 [00:01<?, ?it/s]"
      ]
     },
     "metadata": {},
     "output_type": "display_data"
    },
    {
     "data": {
      "application/vnd.jupyter.widget-view+json": {
       "model_id": "789645a3c4d34abf974d2da6dabf3876",
       "version_major": 2,
       "version_minor": 0
      },
      "text/plain": [
       "Psilocybe_arcana_ISOTYPE_SFSU-F-000737.scaffolds:   0%|          | 0/4 [00:00<?, ?it/s]"
      ]
     },
     "metadata": {},
     "output_type": "display_data"
    },
    {
     "data": {
      "application/vnd.jupyter.widget-view+json": {
       "model_id": "77554d7b199a4385acc853feeb5d6a47",
       "version_major": 2,
       "version_minor": 0
      },
      "text/plain": [
       "Psilocybe_baeocystis_WTU-F-011245.scaffolds:   0%|          | 0/4 [00:00<?, ?it/s]"
      ]
     },
     "metadata": {},
     "output_type": "display_data"
    },
    {
     "data": {
      "application/vnd.jupyter.widget-view+json": {
       "model_id": "0b262386dc2b461f8c9d7046079a5cc3",
       "version_major": 2,
       "version_minor": 0
      },
      "text/plain": [
       "Psilocybe_aztecorum_var_bonetii_NY-1595856.scaffolds:   0%|          | 0/4 [00:00<?, ?it/s]"
      ]
     },
     "metadata": {},
     "output_type": "display_data"
    },
    {
     "data": {
      "application/vnd.jupyter.widget-view+json": {
       "model_id": "dfc1bb33b05f49b59a8a8d3efcb77e85",
       "version_major": 2,
       "version_minor": 0
      },
      "text/plain": [
       "Psilocybe_aztecorum_SFSU-F-029933.scaffolds:   0%|          | 0/4 [00:00<?, ?it/s]"
      ]
     },
     "metadata": {},
     "output_type": "display_data"
    },
    {
     "data": {
      "application/vnd.jupyter.widget-view+json": {
       "model_id": "b2d66eef317747adb345769de58e6a94",
       "version_major": 2,
       "version_minor": 0
      },
      "text/plain": [
       "Psilocybe_acutissima_GAM00011063.scaffolds:   0%|          | 0/4 [00:00<?, ?it/s]"
      ]
     },
     "metadata": {},
     "output_type": "display_data"
    },
    {
     "data": {
      "application/vnd.jupyter.widget-view+json": {
       "model_id": "3c51218f3724411e96a28208bf874f35",
       "version_major": 2,
       "version_minor": 0
      },
      "text/plain": [
       "Psilocybe_apelliculosa_UBC-F17545.scaffolds:   0%|          | 0/4 [00:00<?, ?it/s]"
      ]
     },
     "metadata": {},
     "output_type": "display_data"
    },
    {
     "name": "stdout",
     "output_type": "stream",
     "text": [
      "[Psilocybe_azurescens_WTU-F19095-HOLOTYPE.scaffolds] Done! Output → /Users/felix/Documents/20251015_Meeting_PsiloProteins_Felix/05_codex/cds_extraction_outputs/Psilocybe_azurescens_WTU-F19095-HOLOTYPE.scaffolds\n"
     ]
    },
    {
     "data": {
      "application/vnd.jupyter.widget-view+json": {
       "model_id": "69f80828d5eb408d85715510dfac4a50",
       "version_major": 2,
       "version_minor": 0
      },
      "text/plain": [
       "Psilocybe_caerulescens_NY-1920304.scaffolds:   0%|          | 0/4 [00:00<?, ?it/s]"
      ]
     },
     "metadata": {},
     "output_type": "display_data"
    },
    {
     "name": "stdout",
     "output_type": "stream",
     "text": [
      "[Psilocybe_argentipes_NY-1595850.scaffolds] Done! Output → /Users/felix/Documents/20251015_Meeting_PsiloProteins_Felix/05_codex/cds_extraction_outputs/Psilocybe_argentipes_NY-1595850.scaffolds\n",
      "[Psilocybe_argentina_SFSU-F-029894.scaffolds] Done! Output → /Users/felix/Documents/20251015_Meeting_PsiloProteins_Felix/05_codex/cds_extraction_outputs/Psilocybe_argentina_SFSU-F-029894.scaffolds\n",
      "[Psilocybe_angustipleurocystidiata_ISOTYPE_NY-761597.scaffolds] Done! Output → /Users/felix/Documents/20251015_Meeting_PsiloProteins_Felix/05_codex/cds_extraction_outputs/Psilocybe_angustipleurocystidiata_ISOTYPE_NY-761597.scaffolds\n"
     ]
    },
    {
     "data": {
      "application/vnd.jupyter.widget-view+json": {
       "model_id": "7d7563467b7e42b39dfcda81cee439ee",
       "version_major": 2,
       "version_minor": 0
      },
      "text/plain": [
       "Psilocybe_caerulipes_PUL00030154.scaffolds:   0%|          | 0/4 [00:00<?, ?it/s]"
      ]
     },
     "metadata": {},
     "output_type": "display_data"
    },
    {
     "data": {
      "application/vnd.jupyter.widget-view+json": {
       "model_id": "2a9713bcceb041f0ba5a3b0f88883bd1",
       "version_major": 2,
       "version_minor": 0
      },
      "text/plain": [
       "Psilocybe_callosa_NY-1595861.scaffolds:   0%|          | 0/4 [00:00<?, ?it/s]"
      ]
     },
     "metadata": {},
     "output_type": "display_data"
    },
    {
     "name": "stdout",
     "output_type": "stream",
     "text": [
      "[Psilocybe_bohemica_SFSU-F-029930.scaffolds] Done! Output → /Users/felix/Documents/20251015_Meeting_PsiloProteins_Felix/05_codex/cds_extraction_outputs/Psilocybe_bohemica_SFSU-F-029930.scaffolds\n",
      "[Psilocybe_arcana_ISOTYPE_SFSU-F-000737.scaffolds] Done! Output → /Users/felix/Documents/20251015_Meeting_PsiloProteins_Felix/05_codex/cds_extraction_outputs/Psilocybe_arcana_ISOTYPE_SFSU-F-000737.scaffolds\n",
      "[Psilocybe_baeocystis_WTU-F-011245.scaffolds] Done! Output → /Users/felix/Documents/20251015_Meeting_PsiloProteins_Felix/05_codex/cds_extraction_outputs/Psilocybe_baeocystis_WTU-F-011245.scaffolds\n"
     ]
    },
    {
     "data": {
      "application/vnd.jupyter.widget-view+json": {
       "model_id": "a32fc6c7b23b49609091c6c781e4cdb1",
       "version_major": 2,
       "version_minor": 0
      },
      "text/plain": [
       "Psilocybe_chionophila_OSC-113991.scaffolds:   0%|          | 0/4 [00:00<?, ?it/s]"
      ]
     },
     "metadata": {},
     "output_type": "display_data"
    },
    {
     "name": "stdout",
     "output_type": "stream",
     "text": [
      "[Psilocybe_azurescens_Lg-bg-ut.scaffolds] Done! Output → /Users/felix/Documents/20251015_Meeting_PsiloProteins_Felix/05_codex/cds_extraction_outputs/Psilocybe_azurescens_Lg-bg-ut.scaffolds\n"
     ]
    },
    {
     "data": {
      "application/vnd.jupyter.widget-view+json": {
       "model_id": "ecab4e23866f465398cd50a18ffa768a",
       "version_major": 2,
       "version_minor": 0
      },
      "text/plain": [
       "Psilocybe_columbiana_ISOTYPE_NY-761607.scaffolds:   0%|          | 0/4 [00:00<?, ?it/s]"
      ]
     },
     "metadata": {},
     "output_type": "display_data"
    },
    {
     "name": "stdout",
     "output_type": "stream",
     "text": [
      "[Psilocybe_aztecorum_SFSU-F-029933.scaffolds] Done! Output → /Users/felix/Documents/20251015_Meeting_PsiloProteins_Felix/05_codex/cds_extraction_outputs/Psilocybe_aztecorum_SFSU-F-029933.scaffolds\n"
     ]
    },
    {
     "data": {
      "application/vnd.jupyter.widget-view+json": {
       "model_id": "11eb8fc2a71f4b4787cb60d90e07b49a",
       "version_major": 2,
       "version_minor": 0
      },
      "text/plain": [
       "Psilocybe_clavata_ISOTYPE_NY-761604.scaffolds:   0%|          | 0/4 [00:00<?, ?it/s]"
      ]
     },
     "metadata": {},
     "output_type": "display_data"
    },
    {
     "data": {
      "application/vnd.jupyter.widget-view+json": {
       "model_id": "c4f44bdbed094dd5909fbdfe144118b0",
       "version_major": 2,
       "version_minor": 0
      },
      "text/plain": [
       "Psilocybe_cubensis_IBUG-4367.scaffolds:   0%|          | 0/4 [00:00<?, ?it/s]"
      ]
     },
     "metadata": {},
     "output_type": "display_data"
    },
    {
     "data": {
      "application/vnd.jupyter.widget-view+json": {
       "model_id": "bbf3c3123ae142cd96861c2ffac653c7",
       "version_major": 2,
       "version_minor": 0
      },
      "text/plain": [
       "Psilocybe_caerulescens_var_mazatecorum_SFSU-F-029971.scaffolds:   0%|          | 0/4 [00:00<?, ?it/s]"
      ]
     },
     "metadata": {},
     "output_type": "display_data"
    },
    {
     "data": {
      "application/vnd.jupyter.widget-view+json": {
       "model_id": "acc7998bd20f4207be912a08be589e30",
       "version_major": 2,
       "version_minor": 0
      },
      "text/plain": [
       "Psilocybe_congolensis_ISOTYPE_NY-1652567.scaffolds:   0%|          | 0/4 [00:00<?, ?it/s]"
      ]
     },
     "metadata": {},
     "output_type": "display_data"
    },
    {
     "name": "stdout",
     "output_type": "stream",
     "text": [
      "[Psilocybe_caerulescens_NY-1920304.scaffolds] Done! Output → /Users/felix/Documents/20251015_Meeting_PsiloProteins_Felix/05_codex/cds_extraction_outputs/Psilocybe_caerulescens_NY-1920304.scaffolds\n",
      "[Psilocybe_aztecorum_var_bonetii_NY-1595856.scaffolds] Done! Output → /Users/felix/Documents/20251015_Meeting_PsiloProteins_Felix/05_codex/cds_extraction_outputs/Psilocybe_aztecorum_var_bonetii_NY-1595856.scaffolds\n"
     ]
    },
    {
     "data": {
      "application/vnd.jupyter.widget-view+json": {
       "model_id": "4629b3fa28ad4b3fadd2dc42de456094",
       "version_major": 2,
       "version_minor": 0
      },
      "text/plain": [
       "Psilocybe_cyanescens_WTU-F-011306.scaffolds:   0%|          | 0/4 [00:00<?, ?it/s]"
      ]
     },
     "metadata": {},
     "output_type": "display_data"
    },
    {
     "data": {
      "application/vnd.jupyter.widget-view+json": {
       "model_id": "07a1a789c07d485ea037e1e05d461ed0",
       "version_major": 2,
       "version_minor": 0
      },
      "text/plain": [
       "Psilocybe_cyanofibrillosa_ISOTYPE_NY-761605.scaffolds:   0%|          | 0/4 [00:00<?, ?it/s]"
      ]
     },
     "metadata": {},
     "output_type": "display_data"
    },
    {
     "name": "stdout",
     "output_type": "stream",
     "text": [
      "[Psilocybe_cubensis_IBUG-4367.scaffolds] Done! Output → /Users/felix/Documents/20251015_Meeting_PsiloProteins_Felix/05_codex/cds_extraction_outputs/Psilocybe_cubensis_IBUG-4367.scaffolds\n"
     ]
    },
    {
     "data": {
      "application/vnd.jupyter.widget-view+json": {
       "model_id": "e9c57414fe844b2abcf6dd00d19a2ae5",
       "version_major": 2,
       "version_minor": 0
      },
      "text/plain": [
       "Psilocybe_fagicola_var_mesocystidiata_NY-761608.scaffolds:   0%|          | 0/4 [00:00<?, ?it/s]"
      ]
     },
     "metadata": {},
     "output_type": "display_data"
    },
    {
     "name": "stdout",
     "output_type": "stream",
     "text": [
      "[Psilocybe_columbiana_ISOTYPE_NY-761607.scaffolds] Done! Output → /Users/felix/Documents/20251015_Meeting_PsiloProteins_Felix/05_codex/cds_extraction_outputs/Psilocybe_columbiana_ISOTYPE_NY-761607.scaffolds\n"
     ]
    },
    {
     "data": {
      "application/vnd.jupyter.widget-view+json": {
       "model_id": "4a3f1d3c6cde42c09d1ee4f2a1860c90",
       "version_major": 2,
       "version_minor": 0
      },
      "text/plain": [
       "Psilocybe_fimetaria_UBC-F30923.scaffolds:   0%|          | 0/4 [00:00<?, ?it/s]"
      ]
     },
     "metadata": {},
     "output_type": "display_data"
    },
    {
     "name": "stdout",
     "output_type": "stream",
     "text": [
      "[Psilocybe_caerulipes_PUL00030154.scaffolds] Done! Output → /Users/felix/Documents/20251015_Meeting_PsiloProteins_Felix/05_codex/cds_extraction_outputs/Psilocybe_caerulipes_PUL00030154.scaffolds\n",
      "[Psilocybe_cyanescens_WTU-F-011306.scaffolds] Done! Output → /Users/felix/Documents/20251015_Meeting_PsiloProteins_Felix/05_codex/cds_extraction_outputs/Psilocybe_cyanescens_WTU-F-011306.scaffolds\n",
      "[Psilocybe_chionophila_OSC-113991.scaffolds] Done! Output → /Users/felix/Documents/20251015_Meeting_PsiloProteins_Felix/05_codex/cds_extraction_outputs/Psilocybe_chionophila_OSC-113991.scaffolds\n"
     ]
    },
    {
     "data": {
      "application/vnd.jupyter.widget-view+json": {
       "model_id": "6550c49a95d64129bdd9a33031b876e5",
       "version_major": 2,
       "version_minor": 0
      },
      "text/plain": [
       "Psilocybe_galindii_ISOTYPE_NY-761609.scaffolds:   0%|          | 0/4 [00:00<?, ?it/s]"
      ]
     },
     "metadata": {},
     "output_type": "display_data"
    },
    {
     "data": {
      "application/vnd.jupyter.widget-view+json": {
       "model_id": "d8963dd18fa14df4ba9ce6c9dc6787a0",
       "version_major": 2,
       "version_minor": 0
      },
      "text/plain": [
       "Psilocybe_fuliginosa_NY-1901148.scaffolds:   0%|          | 0/4 [00:00<?, ?it/s]"
      ]
     },
     "metadata": {},
     "output_type": "display_data"
    },
    {
     "name": "stdout",
     "output_type": "stream",
     "text": [
      "[Psilocybe_callosa_NY-1595861.scaffolds] Done! Output → /Users/felix/Documents/20251015_Meeting_PsiloProteins_Felix/05_codex/cds_extraction_outputs/Psilocybe_callosa_NY-1595861.scaffolds\n"
     ]
    },
    {
     "data": {
      "application/vnd.jupyter.widget-view+json": {
       "model_id": "6eba8561280f4248b9c15e2a432e8be2",
       "version_major": 2,
       "version_minor": 0
      },
      "text/plain": [
       "Psilocybe_guilartensis_PARATYPE_CFMR-PR-5680.scaffolds:   0%|          | 0/4 [00:00<?, ?it/s]"
      ]
     },
     "metadata": {},
     "output_type": "display_data"
    },
    {
     "data": {
      "application/vnd.jupyter.widget-view+json": {
       "model_id": "1b07d021fc444453bdf275be08edb693",
       "version_major": 2,
       "version_minor": 0
      },
      "text/plain": [
       "Psilocybe_heimii_ISOTYPE_NY-761610.scaffolds:   0%|          | 0/4 [00:00<?, ?it/s]"
      ]
     },
     "metadata": {},
     "output_type": "display_data"
    },
    {
     "name": "stdout",
     "output_type": "stream",
     "text": [
      "[Psilocybe_acutissima_GAM00011063.scaffolds] Done! Output → /Users/felix/Documents/20251015_Meeting_PsiloProteins_Felix/05_codex/cds_extraction_outputs/Psilocybe_acutissima_GAM00011063.scaffolds\n"
     ]
    },
    {
     "data": {
      "application/vnd.jupyter.widget-view+json": {
       "model_id": "91f973700f094ba3a2ef27ad45269d15",
       "version_major": 2,
       "version_minor": 0
      },
      "text/plain": [
       "Psilocybe_hoogshageni_SFSU-F-029980.scaffolds:   0%|          | 0/4 [00:00<?, ?it/s]"
      ]
     },
     "metadata": {},
     "output_type": "display_data"
    },
    {
     "name": "stdout",
     "output_type": "stream",
     "text": [
      "[Psilocybe_apelliculosa_UBC-F17545.scaffolds] Done! Output → /Users/felix/Documents/20251015_Meeting_PsiloProteins_Felix/05_codex/cds_extraction_outputs/Psilocybe_apelliculosa_UBC-F17545.scaffolds\n",
      "[Psilocybe_cyanofibrillosa_ISOTYPE_NY-761605.scaffolds] Done! Output → /Users/felix/Documents/20251015_Meeting_PsiloProteins_Felix/05_codex/cds_extraction_outputs/Psilocybe_cyanofibrillosa_ISOTYPE_NY-761605.scaffolds\n"
     ]
    },
    {
     "data": {
      "application/vnd.jupyter.widget-view+json": {
       "model_id": "efe199a6fe54462aad4c584b47c10934",
       "version_major": 2,
       "version_minor": 0
      },
      "text/plain": [
       "Psilocybe_hoogshagenii_var_convexa_ISOTYPE_NY-761612.scaffolds:   0%|          | 0/4 [00:00<?, ?it/s]"
      ]
     },
     "metadata": {},
     "output_type": "display_data"
    },
    {
     "data": {
      "application/vnd.jupyter.widget-view+json": {
       "model_id": "a0e26943ee13491e9cc3de273cb2a887",
       "version_major": 2,
       "version_minor": 0
      },
      "text/plain": [
       "Psilocybe_hopii_ISOTYPE_XAL-#.scaffolds:   0%|          | 0/4 [00:00<?, ?it/s]"
      ]
     },
     "metadata": {},
     "output_type": "display_data"
    },
    {
     "name": "stdout",
     "output_type": "stream",
     "text": [
      "\n",
      "✗ ERROR in Psilocybe_fuliginosa_NY-1901148.scaffolds: Command failed: exonerate --model protein2genome --showtargetgff yes --showalignment no --showvulgar no --bestn 1 --percent 30 /Users/felix/Documents/20251015_Meeting_PsiloProteins_Felix/05_codex/reference_panels/Proteins_PsiM/PsiM_refs.faa /Users/felix/Documents/20251015_Meeting_PsiloProteins_Felix/03_Sequences_Paper/Assembly_scaffolds/Psilocybe_fuliginosa_NY-1901148.scaffolds.fasta\n",
      "STDERR:\n",
      "\n"
     ]
    },
    {
     "data": {
      "application/vnd.jupyter.widget-view+json": {
       "model_id": "8f74c87caa294dc2a46ea214badf8e90",
       "version_major": 2,
       "version_minor": 0
      },
      "text/plain": [
       "Psilocybe_laticystis_UBC-F16759.scaffolds:   0%|          | 0/4 [00:00<?, ?it/s]"
      ]
     },
     "metadata": {},
     "output_type": "display_data"
    },
    {
     "name": "stdout",
     "output_type": "stream",
     "text": [
      "[Psilocybe_fagicola_var_mesocystidiata_NY-761608.scaffolds] Done! Output → /Users/felix/Documents/20251015_Meeting_PsiloProteins_Felix/05_codex/cds_extraction_outputs/Psilocybe_fagicola_var_mesocystidiata_NY-761608.scaffolds\n"
     ]
    },
    {
     "data": {
      "application/vnd.jupyter.widget-view+json": {
       "model_id": "673c86fb57ee41c89bf8da1621461cf6",
       "version_major": 2,
       "version_minor": 0
      },
      "text/plain": [
       "Psilocybe_lazoi_ISOTYPE_NY-761614.scaffolds:   0%|          | 0/4 [00:00<?, ?it/s]"
      ]
     },
     "metadata": {},
     "output_type": "display_data"
    },
    {
     "name": "stdout",
     "output_type": "stream",
     "text": [
      "[Psilocybe_clavata_ISOTYPE_NY-761604.scaffolds] Done! Output → /Users/felix/Documents/20251015_Meeting_PsiloProteins_Felix/05_codex/cds_extraction_outputs/Psilocybe_clavata_ISOTYPE_NY-761604.scaffolds\n"
     ]
    },
    {
     "data": {
      "application/vnd.jupyter.widget-view+json": {
       "model_id": "0773c44144cb4c0da07ded3063aad44f",
       "version_major": 2,
       "version_minor": 0
      },
      "text/plain": [
       "Psilocybe_liniformans_var_americana_NY-1797145.scaffolds:   0%|          | 0/4 [00:00<?, ?it/s]"
      ]
     },
     "metadata": {},
     "output_type": "display_data"
    },
    {
     "name": "stdout",
     "output_type": "stream",
     "text": [
      "[Psilocybe_heimii_ISOTYPE_NY-761610.scaffolds] Done! Output → /Users/felix/Documents/20251015_Meeting_PsiloProteins_Felix/05_codex/cds_extraction_outputs/Psilocybe_heimii_ISOTYPE_NY-761610.scaffolds\n"
     ]
    },
    {
     "data": {
      "application/vnd.jupyter.widget-view+json": {
       "model_id": "e027c2d622f9485983bbb95ba79e9e95",
       "version_major": 2,
       "version_minor": 0
      },
      "text/plain": [
       "Psilocybe_magica_OSC-111954.scaffolds:   0%|          | 0/4 [00:00<?, ?it/s]"
      ]
     },
     "metadata": {},
     "output_type": "display_data"
    },
    {
     "name": "stdout",
     "output_type": "stream",
     "text": [
      "[Psilocybe_fimetaria_UBC-F30923.scaffolds] Done! Output → /Users/felix/Documents/20251015_Meeting_PsiloProteins_Felix/05_codex/cds_extraction_outputs/Psilocybe_fimetaria_UBC-F30923.scaffolds\n"
     ]
    },
    {
     "data": {
      "application/vnd.jupyter.widget-view+json": {
       "model_id": "21292b79d3b24510a4bcf3e959e9d65f",
       "version_major": 2,
       "version_minor": 0
      },
      "text/plain": [
       "Psilocybe_mexicana_IBUG-13593.scaffolds:   0%|          | 0/4 [00:00<?, ?it/s]"
      ]
     },
     "metadata": {},
     "output_type": "display_data"
    },
    {
     "name": "stdout",
     "output_type": "stream",
     "text": [
      "[Psilocybe_galindii_ISOTYPE_NY-761609.scaffolds] Done! Output → /Users/felix/Documents/20251015_Meeting_PsiloProteins_Felix/05_codex/cds_extraction_outputs/Psilocybe_galindii_ISOTYPE_NY-761609.scaffolds\n"
     ]
    },
    {
     "data": {
      "application/vnd.jupyter.widget-view+json": {
       "model_id": "5c46ee6f5262434f86af229ebcaab428",
       "version_major": 2,
       "version_minor": 0
      },
      "text/plain": [
       "Psilocybe_montana_OSC-113978.scaffolds:   0%|          | 0/4 [00:00<?, ?it/s]"
      ]
     },
     "metadata": {},
     "output_type": "display_data"
    },
    {
     "name": "stdout",
     "output_type": "stream",
     "text": [
      "[Psilocybe_hoogshageni_SFSU-F-029980.scaffolds] Done! Output → /Users/felix/Documents/20251015_Meeting_PsiloProteins_Felix/05_codex/cds_extraction_outputs/Psilocybe_hoogshageni_SFSU-F-029980.scaffolds\n"
     ]
    },
    {
     "data": {
      "application/vnd.jupyter.widget-view+json": {
       "model_id": "39de292d6e234672a1d879922409e9d3",
       "version_major": 2,
       "version_minor": 0
      },
      "text/plain": [
       "Psilocybe_moravica_ISOTYPE_SFSU-F-000732.scaffolds:   0%|          | 0/4 [00:00<?, ?it/s]"
      ]
     },
     "metadata": {},
     "output_type": "display_data"
    },
    {
     "name": "stdout",
     "output_type": "stream",
     "text": [
      "[Psilocybe_hopii_ISOTYPE_XAL-#.scaffolds] Done! Output → /Users/felix/Documents/20251015_Meeting_PsiloProteins_Felix/05_codex/cds_extraction_outputs/Psilocybe_hopii_ISOTYPE_XAL-#.scaffolds\n"
     ]
    },
    {
     "data": {
      "application/vnd.jupyter.widget-view+json": {
       "model_id": "c3ca96bc41b54259abd2a91911a7fd6f",
       "version_major": 2,
       "version_minor": 0
      },
      "text/plain": [
       "Psilocybe_muliercula_GAM00011071.scaffolds:   0%|          | 0/4 [00:00<?, ?it/s]"
      ]
     },
     "metadata": {},
     "output_type": "display_data"
    },
    {
     "name": "stdout",
     "output_type": "stream",
     "text": [
      "[Psilocybe_guilartensis_PARATYPE_CFMR-PR-5680.scaffolds] Done! Output → /Users/felix/Documents/20251015_Meeting_PsiloProteins_Felix/05_codex/cds_extraction_outputs/Psilocybe_guilartensis_PARATYPE_CFMR-PR-5680.scaffolds\n"
     ]
    },
    {
     "data": {
      "application/vnd.jupyter.widget-view+json": {
       "model_id": "177835d527f94f0297c12d7d45a025eb",
       "version_major": 2,
       "version_minor": 0
      },
      "text/plain": [
       "Psilocybe_ovoideocystidiata_ISOTYPE_XAL-51B.scaffolds:   0%|          | 0/4 [00:00<?, ?it/s]"
      ]
     },
     "metadata": {},
     "output_type": "display_data"
    },
    {
     "name": "stdout",
     "output_type": "stream",
     "text": [
      "[Psilocybe_congolensis_ISOTYPE_NY-1652567.scaffolds] Done! Output → /Users/felix/Documents/20251015_Meeting_PsiloProteins_Felix/05_codex/cds_extraction_outputs/Psilocybe_congolensis_ISOTYPE_NY-1652567.scaffolds\n",
      "[Psilocybe_mexicana_IBUG-13593.scaffolds] Done! Output → /Users/felix/Documents/20251015_Meeting_PsiloProteins_Felix/05_codex/cds_extraction_outputs/Psilocybe_mexicana_IBUG-13593.scaffolds\n"
     ]
    },
    {
     "data": {
      "application/vnd.jupyter.widget-view+json": {
       "model_id": "2b02050986ff4b06bd2c79641e654103",
       "version_major": 2,
       "version_minor": 0
      },
      "text/plain": [
       "Psilocybe_pelliculosa_WTU-F-012331.scaffolds:   0%|          | 0/4 [00:00<?, ?it/s]"
      ]
     },
     "metadata": {},
     "output_type": "display_data"
    },
    {
     "name": "stdout",
     "output_type": "stream",
     "text": [
      "\n",
      "✗ ERROR in Psilocybe_moravica_ISOTYPE_SFSU-F-000732.scaffolds: Command failed: exonerate --model protein2genome --showtargetgff yes --showalignment no --showvulgar no --bestn 1 --percent 30 /Users/felix/Documents/20251015_Meeting_PsiloProteins_Felix/05_codex/reference_panels/Proteins_PsiK/PsiK_refs.faa /Users/felix/Documents/20251015_Meeting_PsiloProteins_Felix/03_Sequences_Paper/Assembly_scaffolds/Psilocybe_moravica_ISOTYPE_SFSU-F-000732.scaffolds.fasta\n",
      "STDERR:\n",
      "\n"
     ]
    },
    {
     "data": {
      "application/vnd.jupyter.widget-view+json": {
       "model_id": "2fc4ed9708134a569e3e0c8ab8ae761a",
       "version_major": 2,
       "version_minor": 0
      },
      "text/plain": [
       "Psilocybe_phyllogena_OSC-114015.scaffolds:   0%|          | 0/4 [00:00<?, ?it/s]"
      ]
     },
     "metadata": {},
     "output_type": "display_data"
    },
    {
     "data": {
      "application/vnd.jupyter.widget-view+json": {
       "model_id": "82d61d356fa341e4bcba6e9e82974a2e",
       "version_major": 2,
       "version_minor": 0
      },
      "text/plain": [
       "Psilocybe_pleurocystidiosa_ISOTYPE_NY-761619.scaffolds:   0%|          | 0/4 [00:00<?, ?it/s]"
      ]
     },
     "metadata": {},
     "output_type": "display_data"
    },
    {
     "name": "stdout",
     "output_type": "stream",
     "text": [
      "[Psilocybe_laticystis_UBC-F16759.scaffolds] Done! Output → /Users/felix/Documents/20251015_Meeting_PsiloProteins_Felix/05_codex/cds_extraction_outputs/Psilocybe_laticystis_UBC-F16759.scaffolds\n"
     ]
    },
    {
     "data": {
      "application/vnd.jupyter.widget-view+json": {
       "model_id": "6d1046675eb94723a73d6db54ace3150",
       "version_major": 2,
       "version_minor": 0
      },
      "text/plain": [
       "Psilocybe_polytrichophila_NY-1901129.scaffolds:   0%|          | 0/4 [00:00<?, ?it/s]"
      ]
     },
     "metadata": {},
     "output_type": "display_data"
    },
    {
     "name": "stdout",
     "output_type": "stream",
     "text": [
      "[Psilocybe_hoogshagenii_var_convexa_ISOTYPE_NY-761612.scaffolds] Done! Output → /Users/felix/Documents/20251015_Meeting_PsiloProteins_Felix/05_codex/cds_extraction_outputs/Psilocybe_hoogshagenii_var_convexa_ISOTYPE_NY-761612.scaffolds\n"
     ]
    },
    {
     "data": {
      "application/vnd.jupyter.widget-view+json": {
       "model_id": "ccb4ee3bfafb459bb5fd0c4e6e9d2268",
       "version_major": 2,
       "version_minor": 0
      },
      "text/plain": [
       "Psilocybe_portoricensis_CFMR-PR-4572.scaffolds:   0%|          | 0/4 [00:00<?, ?it/s]"
      ]
     },
     "metadata": {},
     "output_type": "display_data"
    },
    {
     "name": "stdout",
     "output_type": "stream",
     "text": [
      "[Psilocybe_lazoi_ISOTYPE_NY-761614.scaffolds] Done! Output → /Users/felix/Documents/20251015_Meeting_PsiloProteins_Felix/05_codex/cds_extraction_outputs/Psilocybe_lazoi_ISOTYPE_NY-761614.scaffolds\n",
      "[Psilocybe_montana_OSC-113978.scaffolds] Done! Output → /Users/felix/Documents/20251015_Meeting_PsiloProteins_Felix/05_codex/cds_extraction_outputs/Psilocybe_montana_OSC-113978.scaffolds\n",
      "\n",
      "✗ ERROR in Psilocybe_polytrichophila_NY-1901129.scaffolds: Command failed: exonerate --model protein2genome --showtargetgff yes --showalignment no --showvulgar no --bestn 1 --percent 30 /Users/felix/Documents/20251015_Meeting_PsiloProteins_Felix/05_codex/reference_panels/Proteins_PsiK/PsiK_refs.faa /Users/felix/Documents/20251015_Meeting_PsiloProteins_Felix/03_Sequences_Paper/Assembly_scaffolds/Psilocybe_polytrichophila_NY-1901129.scaffolds.fasta\n",
      "STDERR:\n",
      "\n"
     ]
    },
    {
     "data": {
      "application/vnd.jupyter.widget-view+json": {
       "model_id": "b6f2aa2f71dc4c94a54985d5b1560fb5",
       "version_major": 2,
       "version_minor": 0
      },
      "text/plain": [
       "Psilocybe_quebecensis_NY-1901130.scaffolds:   0%|          | 0/4 [00:00<?, ?it/s]"
      ]
     },
     "metadata": {},
     "output_type": "display_data"
    },
    {
     "data": {
      "application/vnd.jupyter.widget-view+json": {
       "model_id": "e07a7791a5e44cfe81ce4d7e81b3a788",
       "version_major": 2,
       "version_minor": 0
      },
      "text/plain": [
       "Psilocybe_rhomboidospora_CMMF003424.scaffolds:   0%|          | 0/4 [00:00<?, ?it/s]"
      ]
     },
     "metadata": {},
     "output_type": "display_data"
    },
    {
     "name": "stdout",
     "output_type": "stream",
     "text": [
      "[Psilocybe_magica_OSC-111954.scaffolds] Done! Output → /Users/felix/Documents/20251015_Meeting_PsiloProteins_Felix/05_codex/cds_extraction_outputs/Psilocybe_magica_OSC-111954.scaffolds\n"
     ]
    },
    {
     "data": {
      "application/vnd.jupyter.widget-view+json": {
       "model_id": "c2fc815a4a3b421d807083a9c6dac3f3",
       "version_major": 2,
       "version_minor": 0
      },
      "text/plain": [
       "Psilocybe_samuiensis_WTU-F-055014.scaffolds:   0%|          | 0/4 [00:00<?, ?it/s]"
      ]
     },
     "metadata": {},
     "output_type": "display_data"
    },
    {
     "data": {
      "application/vnd.jupyter.widget-view+json": {
       "model_id": "03cb4b1dd0a54cd0bb943a0dceab710c",
       "version_major": 2,
       "version_minor": 0
      },
      "text/plain": [
       "Psilocybe_sabulosa_UBC-F13505.scaffolds:   0%|          | 0/4 [00:00<?, ?it/s]"
      ]
     },
     "metadata": {},
     "output_type": "display_data"
    },
    {
     "name": "stdout",
     "output_type": "stream",
     "text": [
      "[Psilocybe_ovoideocystidiata_ISOTYPE_XAL-51B.scaffolds] Done! Output → /Users/felix/Documents/20251015_Meeting_PsiloProteins_Felix/05_codex/cds_extraction_outputs/Psilocybe_ovoideocystidiata_ISOTYPE_XAL-51B.scaffolds\n",
      "[Psilocybe_phyllogena_OSC-114015.scaffolds] Done! Output → /Users/felix/Documents/20251015_Meeting_PsiloProteins_Felix/05_codex/cds_extraction_outputs/Psilocybe_phyllogena_OSC-114015.scaffolds\n",
      "[Psilocybe_samuiensis_WTU-F-055014.scaffolds] Done! Output → /Users/felix/Documents/20251015_Meeting_PsiloProteins_Felix/05_codex/cds_extraction_outputs/Psilocybe_samuiensis_WTU-F-055014.scaffolds\n"
     ]
    },
    {
     "data": {
      "application/vnd.jupyter.widget-view+json": {
       "model_id": "eb1dc9f5a57c4b9184fe421b7a85190b",
       "version_major": 2,
       "version_minor": 0
      },
      "text/plain": [
       "Psilocybe_semilanceata_SFSU-F-029972.scaffolds:   0%|          | 0/4 [00:00<?, ?it/s]"
      ]
     },
     "metadata": {},
     "output_type": "display_data"
    },
    {
     "name": "stdout",
     "output_type": "stream",
     "text": [
      "[Psilocybe_pelliculosa_WTU-F-012331.scaffolds] Done! Output → /Users/felix/Documents/20251015_Meeting_PsiloProteins_Felix/05_codex/cds_extraction_outputs/Psilocybe_pelliculosa_WTU-F-012331.scaffolds\n"
     ]
    },
    {
     "data": {
      "application/vnd.jupyter.widget-view+json": {
       "model_id": "0e73faa75555480587bf1c4e0409c807",
       "version_major": 2,
       "version_minor": 0
      },
      "text/plain": [
       "Psilocybe_silvatica_VPI-F-0003693.scaffolds:   0%|          | 0/4 [00:00<?, ?it/s]"
      ]
     },
     "metadata": {},
     "output_type": "display_data"
    },
    {
     "data": {
      "application/vnd.jupyter.widget-view+json": {
       "model_id": "d5e5ccce95af494495f00974293d10fc",
       "version_major": 2,
       "version_minor": 0
      },
      "text/plain": [
       "Psilocybe_singeri_ISOTYPE_NY-761622.scaffolds:   0%|          | 0/4 [00:00<?, ?it/s]"
      ]
     },
     "metadata": {},
     "output_type": "display_data"
    },
    {
     "data": {
      "application/vnd.jupyter.widget-view+json": {
       "model_id": "4a3dc40ae2634f98979c55308ded6117",
       "version_major": 2,
       "version_minor": 0
      },
      "text/plain": [
       "Psilocybe_strictipes_WTU-F-011411.scaffolds:   0%|          | 0/4 [00:00<?, ?it/s]"
      ]
     },
     "metadata": {},
     "output_type": "display_data"
    },
    {
     "name": "stdout",
     "output_type": "stream",
     "text": [
      "[Psilocybe_pleurocystidiosa_ISOTYPE_NY-761619.scaffolds] Done! Output → /Users/felix/Documents/20251015_Meeting_PsiloProteins_Felix/05_codex/cds_extraction_outputs/Psilocybe_pleurocystidiosa_ISOTYPE_NY-761619.scaffolds\n"
     ]
    },
    {
     "data": {
      "application/vnd.jupyter.widget-view+json": {
       "model_id": "e5a75aa3d55b4ac7a50fd86ac11179a9",
       "version_major": 2,
       "version_minor": 0
      },
      "text/plain": [
       "Psilocybe_stuntzii_WTU-F-011520.scaffolds:   0%|          | 0/4 [00:00<?, ?it/s]"
      ]
     },
     "metadata": {},
     "output_type": "display_data"
    },
    {
     "name": "stdout",
     "output_type": "stream",
     "text": [
      "[Psilocybe_liniformans_var_americana_NY-1797145.scaffolds] Done! Output → /Users/felix/Documents/20251015_Meeting_PsiloProteins_Felix/05_codex/cds_extraction_outputs/Psilocybe_liniformans_var_americana_NY-1797145.scaffolds\n",
      "[Psilocybe_rhomboidospora_CMMF003424.scaffolds] Done! Output → /Users/felix/Documents/20251015_Meeting_PsiloProteins_Felix/05_codex/cds_extraction_outputs/Psilocybe_rhomboidospora_CMMF003424.scaffolds\n"
     ]
    },
    {
     "data": {
      "application/vnd.jupyter.widget-view+json": {
       "model_id": "01696168a9af4ef082b835c199456f9c",
       "version_major": 2,
       "version_minor": 0
      },
      "text/plain": [
       "Psilocybe_subcubensis_SFSU-29974.scaffolds:   0%|          | 0/4 [00:00<?, ?it/s]"
      ]
     },
     "metadata": {},
     "output_type": "display_data"
    },
    {
     "data": {
      "application/vnd.jupyter.widget-view+json": {
       "model_id": "167da6fe9ff24564ba785cb54dcddc2e",
       "version_major": 2,
       "version_minor": 0
      },
      "text/plain": [
       "Psilocybe_subcoprophila_UBC-F977.scaffolds:   0%|          | 0/4 [00:00<?, ?it/s]"
      ]
     },
     "metadata": {},
     "output_type": "display_data"
    },
    {
     "name": "stdout",
     "output_type": "stream",
     "text": [
      "[Psilocybe_sabulosa_UBC-F13505.scaffolds] Done! Output → /Users/felix/Documents/20251015_Meeting_PsiloProteins_Felix/05_codex/cds_extraction_outputs/Psilocybe_sabulosa_UBC-F13505.scaffolds\n"
     ]
    },
    {
     "data": {
      "application/vnd.jupyter.widget-view+json": {
       "model_id": "fdcad9654a6d4ca286cc0ab663e0d567",
       "version_major": 2,
       "version_minor": 0
      },
      "text/plain": [
       "Psilocybe_subfimetaria_SFSU-F-029945.scaffolds:   0%|          | 0/4 [00:00<?, ?it/s]"
      ]
     },
     "metadata": {},
     "output_type": "display_data"
    },
    {
     "name": "stdout",
     "output_type": "stream",
     "text": [
      "[Psilocybe_stuntzii_WTU-F-011520.scaffolds] Done! Output → /Users/felix/Documents/20251015_Meeting_PsiloProteins_Felix/05_codex/cds_extraction_outputs/Psilocybe_stuntzii_WTU-F-011520.scaffolds\n"
     ]
    },
    {
     "data": {
      "application/vnd.jupyter.widget-view+json": {
       "model_id": "fec83743ab7e40c68546e2b4237e7b49",
       "version_major": 2,
       "version_minor": 0
      },
      "text/plain": [
       "Psilocybe_subhoogshagenii_NY-915004.scaffolds:   0%|          | 0/4 [00:00<?, ?it/s]"
      ]
     },
     "metadata": {},
     "output_type": "display_data"
    },
    {
     "name": "stdout",
     "output_type": "stream",
     "text": [
      "[Psilocybe_subcubensis_SFSU-29974.scaffolds] Done! Output → /Users/felix/Documents/20251015_Meeting_PsiloProteins_Felix/05_codex/cds_extraction_outputs/Psilocybe_subcubensis_SFSU-29974.scaffolds\n"
     ]
    },
    {
     "data": {
      "application/vnd.jupyter.widget-view+json": {
       "model_id": "9d2344c22758447782ddc2e8c40e162a",
       "version_major": 2,
       "version_minor": 0
      },
      "text/plain": [
       "Psilocybe_subpsilocybioides_HOLOTYPE_CFMR-PR-5689.scaffolds:   0%|          | 0/4 [00:00<?, ?it/s]"
      ]
     },
     "metadata": {},
     "output_type": "display_data"
    },
    {
     "name": "stdout",
     "output_type": "stream",
     "text": [
      "[Psilocybe_strictipes_WTU-F-011411.scaffolds] Done! Output → /Users/felix/Documents/20251015_Meeting_PsiloProteins_Felix/05_codex/cds_extraction_outputs/Psilocybe_strictipes_WTU-F-011411.scaffolds\n"
     ]
    },
    {
     "data": {
      "application/vnd.jupyter.widget-view+json": {
       "model_id": "fe4a3a9bb92c48a6879da436677b181b",
       "version_major": 2,
       "version_minor": 0
      },
      "text/plain": [
       "Psilocybe_subviscida_VPI-F-0003697.scaffolds:   0%|          | 0/4 [00:00<?, ?it/s]"
      ]
     },
     "metadata": {},
     "output_type": "display_data"
    },
    {
     "name": "stdout",
     "output_type": "stream",
     "text": [
      "[Psilocybe_portoricensis_CFMR-PR-4572.scaffolds] Done! Output → /Users/felix/Documents/20251015_Meeting_PsiloProteins_Felix/05_codex/cds_extraction_outputs/Psilocybe_portoricensis_CFMR-PR-4572.scaffolds\n"
     ]
    },
    {
     "data": {
      "application/vnd.jupyter.widget-view+json": {
       "model_id": "cffa4234a2ed4a849b87db82528e6367",
       "version_major": 2,
       "version_minor": 0
      },
      "text/plain": [
       "Psilocybe_subyungensis_ISOTYPE_NY-1197500.scaffolds:   0%|          | 0/4 [00:00<?, ?it/s]"
      ]
     },
     "metadata": {},
     "output_type": "display_data"
    },
    {
     "name": "stdout",
     "output_type": "stream",
     "text": [
      "[Psilocybe_silvatica_VPI-F-0003693.scaffolds] Done! Output → /Users/felix/Documents/20251015_Meeting_PsiloProteins_Felix/05_codex/cds_extraction_outputs/Psilocybe_silvatica_VPI-F-0003693.scaffolds\n"
     ]
    },
    {
     "data": {
      "application/vnd.jupyter.widget-view+json": {
       "model_id": "07e5b443119540eb95f01588d2cf5ad2",
       "version_major": 2,
       "version_minor": 0
      },
      "text/plain": [
       "Psilocybe_tampanensis_UBC-F10177.scaffolds:   0%|          | 0/4 [00:00<?, ?it/s]"
      ]
     },
     "metadata": {},
     "output_type": "display_data"
    },
    {
     "name": "stdout",
     "output_type": "stream",
     "text": [
      "[Psilocybe_singeri_ISOTYPE_NY-761622.scaffolds] Done! Output → /Users/felix/Documents/20251015_Meeting_PsiloProteins_Felix/05_codex/cds_extraction_outputs/Psilocybe_singeri_ISOTYPE_NY-761622.scaffolds\n",
      "[Psilocybe_semilanceata_SFSU-F-029972.scaffolds] Done! Output → /Users/felix/Documents/20251015_Meeting_PsiloProteins_Felix/05_codex/cds_extraction_outputs/Psilocybe_semilanceata_SFSU-F-029972.scaffolds\n"
     ]
    },
    {
     "data": {
      "application/vnd.jupyter.widget-view+json": {
       "model_id": "a89de8b66a7c434ca5a4de4a8d64faea",
       "version_major": 2,
       "version_minor": 0
      },
      "text/plain": [
       "Psilocybe_tuberosa_WTU-F-011378.scaffolds:   0%|          | 0/4 [00:00<?, ?it/s]"
      ]
     },
     "metadata": {},
     "output_type": "display_data"
    },
    {
     "data": {
      "application/vnd.jupyter.widget-view+json": {
       "model_id": "e16f6a80790041f6bd52ae1d83bd2846",
       "version_major": 2,
       "version_minor": 0
      },
      "text/plain": [
       "Psilocybe_washingtonensis_WTU-F-055019.scaffolds:   0%|          | 0/4 [00:00<?, ?it/s]"
      ]
     },
     "metadata": {},
     "output_type": "display_data"
    },
    {
     "name": "stdout",
     "output_type": "stream",
     "text": [
      "[Psilocybe_subhoogshagenii_NY-915004.scaffolds] Done! Output → /Users/felix/Documents/20251015_Meeting_PsiloProteins_Felix/05_codex/cds_extraction_outputs/Psilocybe_subhoogshagenii_NY-915004.scaffolds\n"
     ]
    },
    {
     "data": {
      "application/vnd.jupyter.widget-view+json": {
       "model_id": "0092f85e1aa54f4d8ebbaa45ad27ad3a",
       "version_major": 2,
       "version_minor": 0
      },
      "text/plain": [
       "Psilocybe_weilii_ISOTYPE_WTU-F-063525.scaffolds:   0%|          | 0/4 [00:00<?, ?it/s]"
      ]
     },
     "metadata": {},
     "output_type": "display_data"
    },
    {
     "name": "stdout",
     "output_type": "stream",
     "text": [
      "[Psilocybe_subfimetaria_SFSU-F-029945.scaffolds] Done! Output → /Users/felix/Documents/20251015_Meeting_PsiloProteins_Felix/05_codex/cds_extraction_outputs/Psilocybe_subfimetaria_SFSU-F-029945.scaffolds\n",
      "[Psilocybe_tampanensis_UBC-F10177.scaffolds] Done! Output → /Users/felix/Documents/20251015_Meeting_PsiloProteins_Felix/05_codex/cds_extraction_outputs/Psilocybe_tampanensis_UBC-F10177.scaffolds\n"
     ]
    },
    {
     "data": {
      "application/vnd.jupyter.widget-view+json": {
       "model_id": "7ed0c8f7fcd747a88ebed91d262425da",
       "version_major": 2,
       "version_minor": 0
      },
      "text/plain": [
       "Psilocybe_xalapensis_ISOTYPE_NY-761630.scaffolds:   0%|          | 0/4 [00:00<?, ?it/s]"
      ]
     },
     "metadata": {},
     "output_type": "display_data"
    },
    {
     "data": {
      "application/vnd.jupyter.widget-view+json": {
       "model_id": "46fbc96374a5496d830e1eb085819bd5",
       "version_major": 2,
       "version_minor": 0
      },
      "text/plain": [
       "Psilocybe_wrightii_ISOTYPE_NY-761629.scaffolds:   0%|          | 0/4 [00:00<?, ?it/s]"
      ]
     },
     "metadata": {},
     "output_type": "display_data"
    },
    {
     "name": "stdout",
     "output_type": "stream",
     "text": [
      "[Psilocybe_muliercula_GAM00011071.scaffolds] Done! Output → /Users/felix/Documents/20251015_Meeting_PsiloProteins_Felix/05_codex/cds_extraction_outputs/Psilocybe_muliercula_GAM00011071.scaffolds\n"
     ]
    },
    {
     "data": {
      "application/vnd.jupyter.widget-view+json": {
       "model_id": "d7e32911e54c4a7d8c026ca5fe434206",
       "version_major": 2,
       "version_minor": 0
      },
      "text/plain": [
       "Psilocybe_yungensis_SFSU-29944.scaffolds:   0%|          | 0/4 [00:00<?, ?it/s]"
      ]
     },
     "metadata": {},
     "output_type": "display_data"
    },
    {
     "name": "stdout",
     "output_type": "stream",
     "text": [
      "[Psilocybe_weilii_ISOTYPE_WTU-F-063525.scaffolds] Done! Output → /Users/felix/Documents/20251015_Meeting_PsiloProteins_Felix/05_codex/cds_extraction_outputs/Psilocybe_weilii_ISOTYPE_WTU-F-063525.scaffolds\n"
     ]
    },
    {
     "data": {
      "application/vnd.jupyter.widget-view+json": {
       "model_id": "d2f2465264454550af3abb682d108aa1",
       "version_major": 2,
       "version_minor": 0
      },
      "text/plain": [
       "Psilocybe_zapotecorum_FFCL689.scaffolds:   0%|          | 0/4 [00:00<?, ?it/s]"
      ]
     },
     "metadata": {},
     "output_type": "display_data"
    },
    {
     "name": "stdout",
     "output_type": "stream",
     "text": [
      "[Psilocybe_subpsilocybioides_HOLOTYPE_CFMR-PR-5689.scaffolds] Done! Output → /Users/felix/Documents/20251015_Meeting_PsiloProteins_Felix/05_codex/cds_extraction_outputs/Psilocybe_subpsilocybioides_HOLOTYPE_CFMR-PR-5689.scaffolds\n",
      "[Psilocybe_subviscida_VPI-F-0003697.scaffolds] Done! Output → /Users/felix/Documents/20251015_Meeting_PsiloProteins_Felix/05_codex/cds_extraction_outputs/Psilocybe_subviscida_VPI-F-0003697.scaffolds\n"
     ]
    },
    {
     "data": {
      "application/vnd.jupyter.widget-view+json": {
       "model_id": "88f0dabaa4d0420e95925e28a10b61ef",
       "version_major": 2,
       "version_minor": 0
      },
      "text/plain": [
       "Psilocybe_zapotecorum_GAM00011076.scaffolds:   0%|          | 0/4 [00:00<?, ?it/s]"
      ]
     },
     "metadata": {},
     "output_type": "display_data"
    },
    {
     "name": "stdout",
     "output_type": "stream",
     "text": [
      "[Psilocybe_yungensis_SFSU-29944.scaffolds] Done! Output → /Users/felix/Documents/20251015_Meeting_PsiloProteins_Felix/05_codex/cds_extraction_outputs/Psilocybe_yungensis_SFSU-29944.scaffolds\n",
      "[Psilocybe_quebecensis_NY-1901130.scaffolds] Done! Output → /Users/felix/Documents/20251015_Meeting_PsiloProteins_Felix/05_codex/cds_extraction_outputs/Psilocybe_quebecensis_NY-1901130.scaffolds\n",
      "[Psilocybe_zapotecorum_FFCL689.scaffolds] Done! Output → /Users/felix/Documents/20251015_Meeting_PsiloProteins_Felix/05_codex/cds_extraction_outputs/Psilocybe_zapotecorum_FFCL689.scaffolds\n",
      "[Psilocybe_xalapensis_ISOTYPE_NY-761630.scaffolds] Done! Output → /Users/felix/Documents/20251015_Meeting_PsiloProteins_Felix/05_codex/cds_extraction_outputs/Psilocybe_xalapensis_ISOTYPE_NY-761630.scaffolds\n",
      "[Psilocybe_zapotecorum_GAM00011076.scaffolds] Done! Output → /Users/felix/Documents/20251015_Meeting_PsiloProteins_Felix/05_codex/cds_extraction_outputs/Psilocybe_zapotecorum_GAM00011076.scaffolds\n",
      "[Psilocybe_caerulescens_var_mazatecorum_SFSU-F-029971.scaffolds] Done! Output → /Users/felix/Documents/20251015_Meeting_PsiloProteins_Felix/05_codex/cds_extraction_outputs/Psilocybe_caerulescens_var_mazatecorum_SFSU-F-029971.scaffolds\n",
      "[Psilocybe_tuberosa_WTU-F-011378.scaffolds] Done! Output → /Users/felix/Documents/20251015_Meeting_PsiloProteins_Felix/05_codex/cds_extraction_outputs/Psilocybe_tuberosa_WTU-F-011378.scaffolds\n",
      "[Psilocybe_wrightii_ISOTYPE_NY-761629.scaffolds] Done! Output → /Users/felix/Documents/20251015_Meeting_PsiloProteins_Felix/05_codex/cds_extraction_outputs/Psilocybe_wrightii_ISOTYPE_NY-761629.scaffolds\n",
      "[Psilocybe_subyungensis_ISOTYPE_NY-1197500.scaffolds] Done! Output → /Users/felix/Documents/20251015_Meeting_PsiloProteins_Felix/05_codex/cds_extraction_outputs/Psilocybe_subyungensis_ISOTYPE_NY-1197500.scaffolds\n",
      "[Psilocybe_washingtonensis_WTU-F-055019.scaffolds] Done! Output → /Users/felix/Documents/20251015_Meeting_PsiloProteins_Felix/05_codex/cds_extraction_outputs/Psilocybe_washingtonensis_WTU-F-055019.scaffolds\n",
      "[Psilocybe_subcoprophila_UBC-F977.scaffolds] Done! Output → /Users/felix/Documents/20251015_Meeting_PsiloProteins_Felix/05_codex/cds_extraction_outputs/Psilocybe_subcoprophila_UBC-F977.scaffolds\n",
      "\n",
      "============================================================\n",
      "Batch processing complete!\n",
      "Total time: 0:05:27.265496\n",
      "Processed: 71 species\n",
      "Average: 4.6 seconds per species\n",
      "============================================================\n",
      "\n",
      "Generating QC reports...\n",
      "  ✓ Extraction log: /Users/felix/Documents/20251015_Meeting_PsiloProteins_Felix/05_codex/cds_extraction_outputs/extraction_log.json\n",
      "  ✓ Problems report: /Users/felix/Documents/20251015_Meeting_PsiloProteins_Felix/05_codex/cds_extraction_outputs/problems_report.tsv (89 issues)\n",
      "  ✓ Species summary: /Users/felix/Documents/20251015_Meeting_PsiloProteins_Felix/05_codex/cds_extraction_outputs/species_problem_summary.tsv (36 species with issues)\n",
      "\n",
      "============================================================\n",
      "QC Reports Complete!\n",
      "============================================================\n"
     ]
    }
   ],
   "source": [
    "# === CELL 3: Batch Processing with Parallel Execution ===\n",
    "\n",
    "import concurrent.futures as cf\n",
    "import os\n",
    "import csv\n",
    "from datetime import datetime\n",
    "from collections import Counter, defaultdict\n",
    "\n",
    "all_scaff = sorted(SCAFF_DIR.glob(\"*.fa*\"))\n",
    "print(f\"Total species to process: {len(all_scaff)}\")\n",
    "\n",
    "# ThreadPoolExecutor works in Jupyter (unlike ProcessPoolExecutor)\n",
    "# Good for I/O-bound tasks like running exonerate subprocesses\n",
    "max_workers = min(12, os.cpu_count() or 12)  # Adjust based on your system\n",
    "print(f\"Using {max_workers} parallel threads\")\n",
    "print(\"=\"*60 + \"\\n\")\n",
    "\n",
    "def process_one_species(scaff_path):\n",
    "    \"\"\"Worker function to process a single species\"\"\"\n",
    "    try:\n",
    "        return run_species(scaff_path, OUT_DIR, pbar=None, verbose=False)\n",
    "    except Exception as e:\n",
    "        import traceback\n",
    "        return {\n",
    "            \"species\": Path(scaff_path).stem,\n",
    "            \"error\": str(e),\n",
    "            \"traceback\": traceback.format_exc()\n",
    "        }\n",
    "\n",
    "started = datetime.now()\n",
    "summaries = []\n",
    "\n",
    "# Create progress bar\n",
    "if TQDM_AVAILABLE:\n",
    "    pbar = tqdm(total=len(all_scaff), desc=\"Processing species\", unit=\"species\")\n",
    "else:\n",
    "    pbar = None\n",
    "    print(f\"Processing {len(all_scaff)} species in parallel...\")\n",
    "\n",
    "# Parallel processing with ThreadPoolExecutor\n",
    "with cf.ThreadPoolExecutor(max_workers=max_workers) as executor:\n",
    "    # Submit all tasks\n",
    "    future_to_species = {\n",
    "        executor.submit(process_one_species, scaff): scaff.stem \n",
    "        for scaff in all_scaff\n",
    "    }\n",
    "    \n",
    "    # Collect results as they complete\n",
    "    for future in cf.as_completed(future_to_species):\n",
    "        species_name = future_to_species[future]\n",
    "        try:\n",
    "            result = future.result()\n",
    "            summaries.append(result)\n",
    "            \n",
    "            # Check for errors in result\n",
    "            if \"error\" in result:\n",
    "                print(f\"\\n✗ ERROR in {species_name}: {result['error']}\")\n",
    "            \n",
    "            # Update progress\n",
    "            if pbar:\n",
    "                pbar.update(1)\n",
    "            else:\n",
    "                print(f\"  [{len(summaries)}/{len(all_scaff)}] {species_name} - Done\")\n",
    "                \n",
    "        except Exception as exc:\n",
    "            print(f\"\\n✗ EXCEPTION in {species_name}: {exc}\")\n",
    "            summaries.append({\n",
    "                \"species\": species_name,\n",
    "                \"error\": str(exc)\n",
    "            })\n",
    "            if pbar:\n",
    "                pbar.update(1)\n",
    "\n",
    "if pbar:\n",
    "    pbar.close()\n",
    "\n",
    "elapsed = datetime.now() - started\n",
    "print(f\"\\n{'='*60}\")\n",
    "print(f\"Batch processing complete!\")\n",
    "print(f\"Total time: {elapsed}\")\n",
    "print(f\"Processed: {len(summaries)} species\")\n",
    "print(f\"Average: {elapsed.total_seconds() / len(summaries):.1f} seconds per species\")\n",
    "print(f\"{'='*60}\\n\")\n",
    "\n",
    "# === Generate QC Reports ===\n",
    "print(\"Generating QC reports...\")\n",
    "\n",
    "# Write extraction log\n",
    "log_file = OUT_DIR / \"extraction_log.json\"\n",
    "with open(log_file, \"w\") as fh:\n",
    "    json.dump({\n",
    "        \"timestamp\": started.isoformat(),\n",
    "        \"elapsed\": str(elapsed),\n",
    "        \"total_species\": len(all_scaff),\n",
    "        \"parallel_workers\": max_workers,\n",
    "        \"summaries\": summaries\n",
    "    }, fh, indent=2)\n",
    "print(f\"  ✓ Extraction log: {log_file}\")\n",
    "\n",
    "# Collect problems for QC reports\n",
    "problems = []\n",
    "species_problem_counts = defaultdict(lambda: {\"CHECK_ORF\": 0, \"NO_HIT\": 0, \"ERROR\": 0})\n",
    "\n",
    "for summary in summaries:\n",
    "    species = summary.get(\"species\", \"unknown\")\n",
    "    \n",
    "    # Handle species-level errors\n",
    "    if \"error\" in summary:\n",
    "        problems.append({\n",
    "            \"species\": species,\n",
    "            \"enzyme\": \"ALL\",\n",
    "            \"status\": \"ERROR\",\n",
    "            \"details\": summary[\"error\"]\n",
    "        })\n",
    "        species_problem_counts[species][\"ERROR\"] += 1\n",
    "        continue\n",
    "    \n",
    "    # Check each enzyme result\n",
    "    for result in summary.get(\"results\", []):\n",
    "        enzyme = result.get(\"enzyme\", \"unknown\")\n",
    "        status = result.get(\"status\", \"UNKNOWN\")\n",
    "        \n",
    "        if status in [\"CHECK_ORF\", \"NO_HIT\", \"ERROR\"]:\n",
    "            details = result.get(\"error\", f\"Status: {status}\")\n",
    "            problems.append({\n",
    "                \"species\": species,\n",
    "                \"enzyme\": enzyme,\n",
    "                \"status\": status,\n",
    "                \"details\": details\n",
    "            })\n",
    "            species_problem_counts[species][status] += 1\n",
    "\n",
    "# Write problems report\n",
    "if problems:\n",
    "    problems_tsv = OUT_DIR / \"problems_report.tsv\"\n",
    "    with open(problems_tsv, \"w\", newline=\"\") as fh:\n",
    "        writer = csv.DictWriter(fh, fieldnames=[\"species\", \"enzyme\", \"status\", \"details\"], delimiter=\"\\t\")\n",
    "        writer.writeheader()\n",
    "        writer.writerows(problems)\n",
    "    print(f\"  ✓ Problems report: {problems_tsv} ({len(problems)} issues)\")\n",
    "else:\n",
    "    print(\"  ✓ No problems found - all extractions OK!\")\n",
    "\n",
    "# Write species problem summary\n",
    "if species_problem_counts:\n",
    "    summary_tsv = OUT_DIR / \"species_problem_summary.tsv\"\n",
    "    with open(summary_tsv, \"w\", newline=\"\") as fh:\n",
    "        writer = csv.writer(fh, delimiter=\"\\t\")\n",
    "        writer.writerow([\"species\", \"total_problems\", \"CHECK_ORF\", \"NO_HIT\", \"ERROR\"])\n",
    "        for species in sorted(species_problem_counts.keys()):\n",
    "            counts = species_problem_counts[species]\n",
    "            total = sum(counts.values())\n",
    "            writer.writerow([species, total, counts[\"CHECK_ORF\"], counts[\"NO_HIT\"], counts[\"ERROR\"]])\n",
    "    print(f\"  ✓ Species summary: {summary_tsv} ({len(species_problem_counts)} species with issues)\")\n",
    "\n",
    "print(f\"\\n{'='*60}\")\n",
    "print(\"QC Reports Complete!\")\n",
    "print(f\"{'='*60}\")\n"
   ]
  }
 ],
 "metadata": {
  "kernelspec": {
   "display_name": "AncSeq",
   "language": "python",
   "name": "python3"
  },
  "language_info": {
   "codemirror_mode": {
    "name": "ipython",
    "version": 3
   },
   "file_extension": ".py",
   "mimetype": "text/x-python",
   "name": "python",
   "nbconvert_exporter": "python",
   "pygments_lexer": "ipython3",
   "version": "3.9.24"
  }
 },
 "nbformat": 4,
 "nbformat_minor": 5
}
