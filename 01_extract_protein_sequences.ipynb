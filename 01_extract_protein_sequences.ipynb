{
 "cells": [
  {
   "cell_type": "markdown",
   "metadata": {},
   "source": [
    "# Protein Sequence Extraction from Genomic DNA\n",
    "\n",
    "**Goal:** Extract protein sequences for all 4 psilocybin BGC genes (PsiD, PsiK, PsiM, PsiH) from genomic DNA scaffolds\n",
    "\n",
    "**Workflow:** Replicate the Colab workflow from `01_Colab_codes_InputFiles/Codes/`\n",
    "\n",
    "1. ✅ Install tools (already done - conda environment `AncSeq`)\n",
    "2. Check input files\n",
    "3. Run exonerate (protein2genome) to extract CDS\n",
    "4. Translate CDS to protein\n",
    "5. Quality control\n",
    "6. Save results\n",
    "\n",
    "---"
   ]
  },
  {
   "cell_type": "markdown",
   "metadata": {},
   "source": [
    "## Setup"
   ]
  },
  {
   "cell_type": "code",
   "execution_count": null,
   "metadata": {},
   "outputs": [],
   "source": "import os\nimport subprocess\nfrom pathlib import Path\nfrom Bio import SeqIO\nfrom tqdm.notebook import tqdm\nimport time\n\n# Set paths\nPROJECT_DIR = Path.cwd().parent\nINPUT_DIR = PROJECT_DIR / \"01_Colab_codes_InputFiles\" / \"Files_paper_P_baeocystis\"\nEXAMPLE_OUTPUT = PROJECT_DIR / \"02_ColabResults_Example\"\nRESULTS_DIR = Path.cwd() / \"results\"\nRESULTS_DIR.mkdir(exist_ok=True)\n\nprint(f\"Project directory: {PROJECT_DIR}\")\nprint(f\"Input directory: {INPUT_DIR}\")\nprint(f\"Results directory: {RESULTS_DIR}\")\nprint(f\"\\nExample output directory: {EXAMPLE_OUTPUT}\")"
  },
  {
   "cell_type": "markdown",
   "metadata": {},
   "source": [
    "## Step 1: Check Input Files\n",
    "\n",
    "Based on `02_check_files.txt`"
   ]
  },
  {
   "cell_type": "code",
   "execution_count": null,
   "metadata": {},
   "outputs": [],
   "source": [
    "# List files in input directory\n",
    "!ls -lh \"$INPUT_DIR\"\n",
    "\n",
    "# Expected files:\n",
    "# 1. Reference protein: PsiD_Psilocybe_cubensis_reference.faa\n",
    "# 2. Genome scaffolds: Psilocybe_baeocystis_WTU-F-011245.scaffolds.fasta\n",
    "# 3. (Optional) GFF from paper: Psilocybe_baeocystis_WTU-F-011245-redundands.gff"
   ]
  },
  {
   "cell_type": "code",
   "execution_count": null,
   "metadata": {},
   "outputs": [],
   "source": [
    "# Check reference protein file\n",
    "reference_protein = INPUT_DIR / \"PsiD_Psilocybe_cubensis_reference.faa\"\n",
    "print(f\"Reference protein exists: {reference_protein.exists()}\")\n",
    "\n",
    "if reference_protein.exists():\n",
    "    for record in SeqIO.parse(reference_protein, \"fasta\"):\n",
    "        print(f\"\\nID: {record.id}\")\n",
    "        print(f\"Description: {record.description}\")\n",
    "        print(f\"Length: {len(record.seq)} aa\")\n",
    "        print(f\"Sequence preview: {str(record.seq)[:70]}...\")"
   ]
  },
  {
   "cell_type": "code",
   "execution_count": null,
   "metadata": {},
   "outputs": [],
   "source": [
    "# Check genome scaffold file\n",
    "genome_scaffolds = INPUT_DIR / \"Psilocybe_baeocystis_WTU-F-011245.scaffolds.fasta\"\n",
    "print(f\"Genome scaffolds exist: {genome_scaffolds.exists()}\")\n",
    "\n",
    "if genome_scaffolds.exists():\n",
    "    # Count scaffolds\n",
    "    scaffold_count = 0\n",
    "    total_length = 0\n",
    "    for record in SeqIO.parse(genome_scaffolds, \"fasta\"):\n",
    "        scaffold_count += 1\n",
    "        total_length += len(record.seq)\n",
    "    \n",
    "    print(f\"Number of scaffolds: {scaffold_count}\")\n",
    "    print(f\"Total genome length: {total_length:,} bp\")\n",
    "    print(f\"Average scaffold size: {total_length // scaffold_count:,} bp\")"
   ]
  },
  {
   "cell_type": "markdown",
   "metadata": {},
   "source": [
    "## Step 2: Run Exonerate (Extract CDS)\n",
    "\n",
    "Based on `03_exonerate_best_hit.txt`\n",
    "\n",
    "This extracts the coding sequence (CDS) by aligning the reference protein to the genome scaffolds."
   ]
  },
  {
   "cell_type": "code",
   "execution_count": null,
   "metadata": {},
   "outputs": [],
   "source": [
    "# Define output files\n",
    "output_cds = RESULTS_DIR / \"P_baeocystis_PsiD.cds.fa\"\n",
    "output_gff = RESULTS_DIR / \"P_baeocystis_PsiD.gff\"\n",
    "\n",
    "# Command 1: Extract CDS\n",
    "cmd_cds = f'''exonerate --model protein2genome \\\n",
    "  \"{reference_protein}\" \\\n",
    "  \"{genome_scaffolds}\" \\\n",
    "  --bestn 1 \\\n",
    "  --showalignment no --showvulgar no --verbose 0 \\\n",
    "  --ryo \">PsiD|%ti:%tab-%tae(%tS)\\\\n%tcs\\\\n\" > \"{output_cds}\"'''\n",
    "\n",
    "print(\"Running exonerate to extract CDS...\")\n",
    "print(f\"Command: {cmd_cds}\\n\")\n",
    "\n",
    "# Run command\n",
    "result = subprocess.run(cmd_cds, shell=True, capture_output=True, text=True)\n",
    "\n",
    "if result.returncode == 0:\n",
    "    print(\"✓ CDS extraction complete!\")\n",
    "    print(f\"  Output: {output_cds}\")\n",
    "else:\n",
    "    print(f\"✗ Error: {result.stderr}\")"
   ]
  },
  {
   "cell_type": "code",
   "execution_count": null,
   "metadata": {},
   "outputs": [],
   "source": [
    "# Command 2: Extract GFF annotation\n",
    "cmd_gff = f'''exonerate --model protein2genome \\\n",
    "  \"{reference_protein}\" \\\n",
    "  \"{genome_scaffolds}\" \\\n",
    "  --bestn 1 \\\n",
    "  --showalignment no --showvulgar no --verbose 0 \\\n",
    "  --showtargetgff yes > \"{output_gff}\"'''\n",
    "\n",
    "print(\"Running exonerate to extract GFF...\")\n",
    "print(f\"Command: {cmd_gff}\\n\")\n",
    "\n",
    "# Run command\n",
    "result = subprocess.run(cmd_gff, shell=True, capture_output=True, text=True)\n",
    "\n",
    "if result.returncode == 0:\n",
    "    print(\"✓ GFF extraction complete!\")\n",
    "    print(f\"  Output: {output_gff}\")\n",
    "else:\n",
    "    print(f\"✗ Error: {result.stderr}\")"
   ]
  },
  {
   "cell_type": "code",
   "execution_count": null,
   "metadata": {},
   "outputs": [],
   "source": [
    "# Check the extracted CDS\n",
    "print(\"Extracted CDS:\")\n",
    "if output_cds.exists():\n",
    "    for record in SeqIO.parse(output_cds, \"fasta\"):\n",
    "        print(f\"  ID: {record.id}\")\n",
    "        print(f\"  Length: {len(record.seq)} bp\")\n",
    "        print(f\"  Sequence preview: {str(record.seq)[:70]}...\")\n",
    "else:\n",
    "    print(\"  CDS file not found!\")"
   ]
  },
  {
   "cell_type": "markdown",
   "metadata": {},
   "source": [
    "## Step 3: Translate CDS to Protein\n",
    "\n",
    "Based on `04_translate.txt`\n",
    "\n",
    "Use EMBOSS transeq to translate the CDS to protein sequence."
   ]
  },
  {
   "cell_type": "code",
   "execution_count": null,
   "metadata": {},
   "outputs": [],
   "source": [
    "# Define output protein file\n",
    "output_protein = RESULTS_DIR / \"P_baeocystis_PsiD.prot.fa\"\n",
    "\n",
    "# Command: Translate CDS to protein (frame 1)\n",
    "cmd_translate = f'transeq -sequence \"{output_cds}\" -outseq \"{output_protein}\" -frame 1'\n",
    "\n",
    "print(\"Translating CDS to protein...\")\n",
    "print(f\"Command: {cmd_translate}\\n\")\n",
    "\n",
    "# Run command\n",
    "result = subprocess.run(cmd_translate, shell=True, capture_output=True, text=True)\n",
    "\n",
    "if result.returncode == 0:\n",
    "    print(\"✓ Translation complete!\")\n",
    "    print(f\"  Output: {output_protein}\")\n",
    "else:\n",
    "    print(f\"✗ Error: {result.stderr}\")"
   ]
  },
  {
   "cell_type": "code",
   "execution_count": null,
   "metadata": {},
   "outputs": [],
   "source": [
    "# Check the translated protein\n",
    "print(\"Translated Protein:\")\n",
    "if output_protein.exists():\n",
    "    for record in SeqIO.parse(output_protein, \"fasta\"):\n",
    "        print(f\"  ID: {record.id}\")\n",
    "        print(f\"  Length: {len(record.seq)} aa\")\n",
    "        print(f\"  Sequence: {str(record.seq)}\")\n",
    "else:\n",
    "    print(\"  Protein file not found!\")"
   ]
  },
  {
   "cell_type": "markdown",
   "metadata": {},
   "source": [
    "## Step 4: Quality Control\n",
    "\n",
    "Based on `05_quality_control.txt`\n",
    "\n",
    "Check for:\n",
    "1. Internal stop codons (should be none)\n",
    "2. Protein length"
   ]
  },
  {
   "cell_type": "code",
   "execution_count": null,
   "metadata": {},
   "outputs": [],
   "source": [
    "# Check for internal stop codons\n",
    "print(\"=\" * 60)\n",
    "print(\"QUALITY CONTROL\")\n",
    "print(\"=\" * 60)\n",
    "\n",
    "if output_protein.exists():\n",
    "    for record in SeqIO.parse(output_protein, \"fasta\"):\n",
    "        sequence = str(record.seq)\n",
    "        \n",
    "        # Check for internal stops (excluding terminal *)\n",
    "        internal_seq = sequence[:-1] if sequence.endswith('*') else sequence\n",
    "        stop_count = internal_seq.count('*')\n",
    "        \n",
    "        if stop_count == 0:\n",
    "            print(\"✅ No internal stop codons found\")\n",
    "        else:\n",
    "            print(f\"⚠️  WARNING: {stop_count} internal stop codon(s) found!\")\n",
    "            # Show positions\n",
    "            for i, aa in enumerate(internal_seq):\n",
    "                if aa == '*':\n",
    "                    print(f\"    Position {i+1}: STOP\")\n",
    "        \n",
    "        # Check protein length\n",
    "        protein_length = len(sequence)\n",
    "        print(f\"\\nProtein length: {protein_length} aa\")\n",
    "        \n",
    "        # Compare to reference\n",
    "        for ref_record in SeqIO.parse(reference_protein, \"fasta\"):\n",
    "            ref_length = len(ref_record.seq)\n",
    "            print(f\"Reference length: {ref_length} aa\")\n",
    "            \n",
    "            diff = protein_length - ref_length\n",
    "            if diff == 0:\n",
    "                print(\"✅ Length matches reference exactly\")\n",
    "            else:\n",
    "                print(f\"⚠️  Length difference: {diff:+d} aa ({abs(diff/ref_length*100):.1f}%)\")"
   ]
  },
  {
   "cell_type": "code",
   "execution_count": null,
   "metadata": {},
   "outputs": [],
   "source": [
    "# Preview the first few lines of the protein file\n",
    "print(\"\\nProtein FASTA file preview:\")\n",
    "!head -n 5 \"{output_protein}\""
   ]
  },
  {
   "cell_type": "markdown",
   "metadata": {},
   "source": [
    "## Step 5: Compare with Example Output\n",
    "\n",
    "Verify our results match the example from `02_ColabResults_Example/`"
   ]
  },
  {
   "cell_type": "code",
   "execution_count": null,
   "metadata": {},
   "outputs": [],
   "source": "# Compare ALL output files with examples\nprint(\"Comparing with example output:\")\nprint(\"=\" * 60)\n\n# 1. Compare PROTEIN sequences\nexample_protein = EXAMPLE_OUTPUT / \"P_baeocystis_PsiD.prot.fa\"\nprint(\"\\n1. PROTEIN COMPARISON:\")\nif example_protein.exists() and output_protein.exists():\n    our_seq = str(list(SeqIO.parse(output_protein, \"fasta\"))[0].seq)\n    example_seq = str(list(SeqIO.parse(example_protein, \"fasta\"))[0].seq)\n    \n    print(f\"   Our length: {len(our_seq)} aa\")\n    print(f\"   Example length: {len(example_seq)} aa\")\n    \n    if our_seq == example_seq:\n        print(\"   ✅ PROTEIN: Perfect match!\")\n    else:\n        print(\"   ⚠️  PROTEIN: Sequences differ\")\n        for i, (aa1, aa2) in enumerate(zip(our_seq, example_seq)):\n            if aa1 != aa2:\n                print(f\"      Position {i+1}: {aa1} vs {aa2}\")\n\n# 2. Compare CDS sequences\nexample_cds = EXAMPLE_OUTPUT / \"P_baeocystis_PsiD.cds.fa\"\nprint(\"\\n2. CDS COMPARISON:\")\nif example_cds.exists() and output_cds.exists():\n    our_cds = str(list(SeqIO.parse(output_cds, \"fasta\"))[0].seq)\n    example_cds_seq = str(list(SeqIO.parse(example_cds, \"fasta\"))[0].seq)\n    \n    print(f\"   Our length: {len(our_cds)} bp\")\n    print(f\"   Example length: {len(example_cds_seq)} bp\")\n    \n    if our_cds == example_cds_seq:\n        print(\"   ✅ CDS: Perfect match!\")\n    else:\n        print(f\"   ⚠️  CDS: Sequences differ ({sum(1 for a,b in zip(our_cds, example_cds_seq) if a!=b)} differences)\")\n\n# 3. Compare GFF files (just check if they exist and basic structure)\nexample_gff = EXAMPLE_OUTPUT / \"P_baeocystis_PsiD.gff\"\nprint(\"\\n3. GFF COMPARISON:\")\nif example_gff.exists() and output_gff.exists():\n    our_gff_lines = open(output_gff).readlines()\n    example_gff_lines = open(example_gff).readlines()\n    \n    print(f\"   Our GFF lines: {len(our_gff_lines)}\")\n    print(f\"   Example GFF lines: {len(example_gff_lines)}\")\n    \n    if our_gff_lines == example_gff_lines:\n        print(\"   ✅ GFF: Perfect match!\")\n    else:\n        print(f\"   ⚠️  GFF: Files differ\")\n\nprint(\"\\n\" + \"=\" * 60)\nprint(\"VERIFICATION COMPLETE\")"
  },
  {
   "cell_type": "markdown",
   "metadata": {},
   "source": [
    "## Summary\n",
    "\n",
    "**Output files created:**\n",
    "- CDS (DNA): `results/P_baeocystis_PsiD.cds.fa`\n",
    "- Protein: `results/P_baeocystis_PsiD.prot.fa`\n",
    "- GFF annotation: `results/P_baeocystis_PsiD.gff`\n",
    "\n",
    "**Next steps:**\n",
    "1. ✅ Verify this works for PsiD\n",
    "2. Replicate for other genes (PsiK, PsiM, PsiH)\n",
    "3. Batch process all species from `03_Sequences_Paper/`\n",
    "4. Combine all extracted proteins for phylogenetic analysis"
   ]
  },
  {
   "cell_type": "code",
   "source": "# If GFF differs, show the differences\nif example_gff.exists() and output_gff.exists():\n    our_gff_lines = open(output_gff).readlines()\n    example_gff_lines = open(example_gff).readlines()\n    \n    if our_gff_lines != example_gff_lines:\n        print(\"\\nGFF Differences (first 5 differences shown):\")\n        print(\"-\" * 60)\n        diff_count = 0\n        for i, (our_line, ex_line) in enumerate(zip(our_gff_lines, example_gff_lines)):\n            if our_line != ex_line and diff_count < 5:\n                print(f\"\\nLine {i+1}:\")\n                print(f\"  Ours:    {our_line.strip()}\")\n                print(f\"  Example: {ex_line.strip()}\")\n                diff_count += 1",
   "metadata": {},
   "execution_count": null,
   "outputs": []
  },
  {
   "cell_type": "markdown",
   "source": "---\n\n# Extract All 4 BGC Enzymes\n\nNow that we've validated the workflow with PsiD, let's extract all 4 enzymes from P. baeocystis:\n1. **PsiD** – Tryptophan decarboxylase\n2. **PsiK** – 4-Hydroxytryptamine kinase\n3. **PsiM** – Psilocybin methyltransferase\n4. **PsiH** – Tryptamine 4-monooxygenase\n\n---",
   "metadata": {}
  },
  {
   "cell_type": "code",
   "source": "# Define all 4 BGC genes with their reference proteins\nREF_PROTEIN_DIR = Path.cwd() / \"reference_proteins\"\n\nBGC_GENES = {\n    'PsiD': {\n        'name': 'Tryptophan decarboxylase',\n        'reference': INPUT_DIR / \"PsiD_Psilocybe_cubensis_reference.faa\",\n        'function': 'Converts tryptophan to tryptamine'\n    },\n    'PsiK': {\n        'name': '4-Hydroxytryptamine kinase',\n        'reference': REF_PROTEIN_DIR / \"PsiK_Psilocybe_cubensis_reference.faa\",\n        'function': 'Phosphorylates 4-hydroxytryptamine'\n    },\n    'PsiM': {\n        'name': 'Psilocybin methyltransferase',\n        'reference': REF_PROTEIN_DIR / \"PsiM_Psilocybe_cubensis_reference.faa\",\n        'function': 'N-methylates norbaeocystin to baeocystin and psilocybin'\n    },\n    'PsiH': {\n        'name': 'Tryptamine 4-monooxygenase',\n        'reference': REF_PROTEIN_DIR / \"PsiH_Psilocybe_cubensis_reference.faa\",\n        'function': 'Hydroxylates tryptamine at C-4 position'\n    }\n}\n\n# Verify all reference files exist\nprint(\"Checking reference protein files:\")\nfor gene, info in BGC_GENES.items():\n    exists = info['reference'].exists()\n    symbol = \"✅\" if exists else \"❌\"\n    print(f\"  {symbol} {gene}: {info['reference'].name}\")",
   "metadata": {},
   "execution_count": null,
   "outputs": []
  },
  {
   "cell_type": "markdown",
   "source": "## PsiD - Tryptophan Decarboxylase\n\nExtract PsiD protein from P. baeocystis genome",
   "metadata": {}
  },
  {
   "cell_type": "code",
   "source": "gene = 'PsiD'\nreference_protein = BGC_GENES[gene]['reference']\n\n# Define output files\noutput_cds = RESULTS_DIR / f\"P_baeocystis_{gene}.cds.fa\"\noutput_gff = RESULTS_DIR / f\"P_baeocystis_{gene}.gff\"\noutput_protein = RESULTS_DIR / f\"P_baeocystis_{gene}.prot.fa\"\n\nprint(f\"{'='*60}\")\nprint(f\"Processing {gene} - {BGC_GENES[gene]['name']}\")\nprint(f\"{'='*60}\\n\")\n\n# Create progress bar for 4 steps\nwith tqdm(total=4, desc=f\"{gene}\", bar_format='{desc}: {percentage:3.0f}%|{bar}| {n_fmt}/{total_fmt} [{elapsed}]') as pbar:\n    \n    # Step 1: Extract CDS\n    pbar.set_description(f\"{gene}: Extracting CDS\")\n    cmd_cds = f'''exonerate --model protein2genome \\\n  \"{reference_protein}\" \\\n  \"{genome_scaffolds}\" \\\n  --bestn 1 \\\n  --showalignment no --showvulgar no --verbose 0 \\\n  --ryo \">{gene}|%ti:%tab-%tae(%tS)\\\\n%tcs\\\\n\" > \"{output_cds}\"'''\n    \n    result = subprocess.run(cmd_cds, shell=True, capture_output=True, text=True)\n    if result.returncode == 0:\n        print(f\"   ✓ CDS extracted: {output_cds.name}\")\n    else:\n        print(f\"   ✗ Error: {result.stderr}\")\n    pbar.update(1)\n    \n    # Step 2: Extract GFF\n    pbar.set_description(f\"{gene}: Extracting GFF\")\n    cmd_gff = f'''exonerate --model protein2genome \\\n  \"{reference_protein}\" \\\n  \"{genome_scaffolds}\" \\\n  --bestn 1 \\\n  --showalignment no --showvulgar no --verbose 0 \\\n  --showtargetgff yes > \"{output_gff}\"'''\n    \n    result = subprocess.run(cmd_gff, shell=True, capture_output=True, text=True)\n    if result.returncode == 0:\n        print(f\"   ✓ GFF extracted: {output_gff.name}\")\n    pbar.update(1)\n    \n    # Step 3: Translate to protein\n    pbar.set_description(f\"{gene}: Translating\")\n    cmd_translate = f'transeq -sequence \"{output_cds}\" -outseq \"{output_protein}\" -frame 1'\n    result = subprocess.run(cmd_translate, shell=True, capture_output=True, text=True)\n    if result.returncode == 0:\n        print(f\"   ✓ Protein translated: {output_protein.name}\")\n    pbar.update(1)\n    \n    # Step 4: Quality Control\n    pbar.set_description(f\"{gene}: Quality check\")\n    if output_protein.exists():\n        for record in SeqIO.parse(output_protein, \"fasta\"):\n            sequence = str(record.seq)\n            internal_seq = sequence[:-1] if sequence.endswith('*') else sequence\n            stop_count = internal_seq.count('*')\n            \n            print(f\"\\n   Quality Control:\")\n            if stop_count == 0:\n                print(f\"   ✅ No internal stop codons\")\n            else:\n                print(f\"   ⚠️  {stop_count} internal stop codon(s) found!\")\n            \n            protein_length = len(sequence)\n            for ref_record in SeqIO.parse(reference_protein, \"fasta\"):\n                ref_length = len(ref_record.seq)\n                diff = protein_length - ref_length\n                if diff == 0:\n                    print(f\"   ✅ Length: {protein_length} aa (matches reference)\")\n                else:\n                    print(f\"   ⚠️  Length: {protein_length} aa (ref: {ref_length} aa, diff: {diff:+d})\")\n    pbar.update(1)\n    pbar.set_description(f\"{gene}: Complete\")\n\nprint(f\"\\n{'='*60}\\n\")",
   "metadata": {},
   "execution_count": null,
   "outputs": []
  },
  {
   "cell_type": "markdown",
   "source": "## PsiK – 4-Hydroxytryptamine Kinase\n\nExtract PsiK protein from P. baeocystis genome",
   "metadata": {}
  },
  {
   "cell_type": "code",
   "source": "gene = 'PsiK'\nreference_protein = BGC_GENES[gene]['reference']\n\n# Define output files\noutput_cds = RESULTS_DIR / f\"P_baeocystis_{gene}.cds.fa\"\noutput_gff = RESULTS_DIR / f\"P_baeocystis_{gene}.gff\"\noutput_protein = RESULTS_DIR / f\"P_baeocystis_{gene}.prot.fa\"\n\nprint(f\"{'='*60}\")\nprint(f\"Processing {gene} - {BGC_GENES[gene]['name']}\")\nprint(f\"{'='*60}\\n\")\n\n# Create progress bar for 4 steps\nwith tqdm(total=4, desc=f\"{gene}\", bar_format='{desc}: {percentage:3.0f}%|{bar}| {n_fmt}/{total_fmt} [{elapsed}]') as pbar:\n    \n    # Step 1: Extract CDS\n    pbar.set_description(f\"{gene}: Extracting CDS\")\n    cmd_cds = f'''exonerate --model protein2genome \\\n  \"{reference_protein}\" \\\n  \"{genome_scaffolds}\" \\\n  --bestn 1 \\\n  --showalignment no --showvulgar no --verbose 0 \\\n  --ryo \">{gene}|%ti:%tab-%tae(%tS)\\\\n%tcs\\\\n\" > \"{output_cds}\"'''\n    \n    result = subprocess.run(cmd_cds, shell=True, capture_output=True, text=True)\n    if result.returncode == 0:\n        print(f\"   ✓ CDS extracted: {output_cds.name}\")\n    else:\n        print(f\"   ✗ Error: {result.stderr}\")\n    pbar.update(1)\n    \n    # Step 2: Extract GFF\n    pbar.set_description(f\"{gene}: Extracting GFF\")\n    cmd_gff = f'''exonerate --model protein2genome \\\n  \"{reference_protein}\" \\\n  \"{genome_scaffolds}\" \\\n  --bestn 1 \\\n  --showalignment no --showvulgar no --verbose 0 \\\n  --showtargetgff yes > \"{output_gff}\"'''\n    \n    result = subprocess.run(cmd_gff, shell=True, capture_output=True, text=True)\n    if result.returncode == 0:\n        print(f\"   ✓ GFF extracted: {output_gff.name}\")\n    pbar.update(1)\n    \n    # Step 3: Translate to protein\n    pbar.set_description(f\"{gene}: Translating\")\n    cmd_translate = f'transeq -sequence \"{output_cds}\" -outseq \"{output_protein}\" -frame 1'\n    result = subprocess.run(cmd_translate, shell=True, capture_output=True, text=True)\n    if result.returncode == 0:\n        print(f\"   ✓ Protein translated: {output_protein.name}\")\n    pbar.update(1)\n    \n    # Step 4: Quality Control\n    pbar.set_description(f\"{gene}: Quality check\")\n    if output_protein.exists():\n        for record in SeqIO.parse(output_protein, \"fasta\"):\n            sequence = str(record.seq)\n            internal_seq = sequence[:-1] if sequence.endswith('*') else sequence\n            stop_count = internal_seq.count('*')\n            \n            print(f\"\\n   Quality Control:\")\n            if stop_count == 0:\n                print(f\"   ✅ No internal stop codons\")\n            else:\n                print(f\"   ⚠️  {stop_count} internal stop codon(s) found!\")\n            \n            protein_length = len(sequence)\n            for ref_record in SeqIO.parse(reference_protein, \"fasta\"):\n                ref_length = len(ref_record.seq)\n                diff = protein_length - ref_length\n                if diff == 0:\n                    print(f\"   ✅ Length: {protein_length} aa (matches reference)\")\n                else:\n                    print(f\"   ⚠️  Length: {protein_length} aa (ref: {ref_length} aa, diff: {diff:+d})\")\n    pbar.update(1)\n    pbar.set_description(f\"{gene}: Complete\")\n\nprint(f\"\\n{'='*60}\\n\")",
   "metadata": {},
   "execution_count": null,
   "outputs": []
  },
  {
   "cell_type": "markdown",
   "source": "## PsiM – Psilocybin Methyltransferase\n\nExtract PsiM protein from P. baeocystis genome",
   "metadata": {}
  },
  {
   "cell_type": "code",
   "source": "gene = 'PsiM'\nreference_protein = BGC_GENES[gene]['reference']\n\n# Define output files\noutput_cds = RESULTS_DIR / f\"P_baeocystis_{gene}.cds.fa\"\noutput_gff = RESULTS_DIR / f\"P_baeocystis_{gene}.gff\"\noutput_protein = RESULTS_DIR / f\"P_baeocystis_{gene}.prot.fa\"\n\nprint(f\"{'='*60}\")\nprint(f\"Processing {gene} - {BGC_GENES[gene]['name']}\")\nprint(f\"{'='*60}\\n\")\n\n# Create progress bar for 4 steps\nwith tqdm(total=4, desc=f\"{gene}\", bar_format='{desc}: {percentage:3.0f}%|{bar}| {n_fmt}/{total_fmt} [{elapsed}]') as pbar:\n    \n    # Step 1: Extract CDS\n    pbar.set_description(f\"{gene}: Extracting CDS\")\n    cmd_cds = f'''exonerate --model protein2genome \\\n  \"{reference_protein}\" \\\n  \"{genome_scaffolds}\" \\\n  --bestn 1 \\\n  --showalignment no --showvulgar no --verbose 0 \\\n  --ryo \">{gene}|%ti:%tab-%tae(%tS)\\\\n%tcs\\\\n\" > \"{output_cds}\"'''\n    \n    result = subprocess.run(cmd_cds, shell=True, capture_output=True, text=True)\n    if result.returncode == 0:\n        print(f\"   ✓ CDS extracted: {output_cds.name}\")\n    else:\n        print(f\"   ✗ Error: {result.stderr}\")\n    pbar.update(1)\n    \n    # Step 2: Extract GFF\n    pbar.set_description(f\"{gene}: Extracting GFF\")\n    cmd_gff = f'''exonerate --model protein2genome \\\n  \"{reference_protein}\" \\\n  \"{genome_scaffolds}\" \\\n  --bestn 1 \\\n  --showalignment no --showvulgar no --verbose 0 \\\n  --showtargetgff yes > \"{output_gff}\"'''\n    \n    result = subprocess.run(cmd_gff, shell=True, capture_output=True, text=True)\n    if result.returncode == 0:\n        print(f\"   ✓ GFF extracted: {output_gff.name}\")\n    pbar.update(1)\n    \n    # Step 3: Translate to protein\n    pbar.set_description(f\"{gene}: Translating\")\n    cmd_translate = f'transeq -sequence \"{output_cds}\" -outseq \"{output_protein}\" -frame 1'\n    result = subprocess.run(cmd_translate, shell=True, capture_output=True, text=True)\n    if result.returncode == 0:\n        print(f\"   ✓ Protein translated: {output_protein.name}\")\n    pbar.update(1)\n    \n    # Step 4: Quality Control\n    pbar.set_description(f\"{gene}: Quality check\")\n    if output_protein.exists():\n        for record in SeqIO.parse(output_protein, \"fasta\"):\n            sequence = str(record.seq)\n            internal_seq = sequence[:-1] if sequence.endswith('*') else sequence\n            stop_count = internal_seq.count('*')\n            \n            print(f\"\\n   Quality Control:\")\n            if stop_count == 0:\n                print(f\"   ✅ No internal stop codons\")\n            else:\n                print(f\"   ⚠️  {stop_count} internal stop codon(s) found!\")\n            \n            protein_length = len(sequence)\n            for ref_record in SeqIO.parse(reference_protein, \"fasta\"):\n                ref_length = len(ref_record.seq)\n                diff = protein_length - ref_length\n                if diff == 0:\n                    print(f\"   ✅ Length: {protein_length} aa (matches reference)\")\n                else:\n                    print(f\"   ⚠️  Length: {protein_length} aa (ref: {ref_length} aa, diff: {diff:+d})\")\n    pbar.update(1)\n    pbar.set_description(f\"{gene}: Complete\")\n\nprint(f\"\\n{'='*60}\\n\")",
   "metadata": {},
   "execution_count": null,
   "outputs": []
  },
  {
   "cell_type": "markdown",
   "source": "## PsiH – Tryptamine 4-Monooxygenase\n\nExtract PsiH protein from P. baeocystis genome",
   "metadata": {}
  },
  {
   "cell_type": "code",
   "source": "gene = 'PsiH'\nreference_protein = BGC_GENES[gene]['reference']\n\n# Define output files\noutput_cds = RESULTS_DIR / f\"P_baeocystis_{gene}.cds.fa\"\noutput_gff = RESULTS_DIR / f\"P_baeocystis_{gene}.gff\"\noutput_protein = RESULTS_DIR / f\"P_baeocystis_{gene}.prot.fa\"\n\nprint(f\"{'='*60}\")\nprint(f\"Processing {gene} - {BGC_GENES[gene]['name']}\")\nprint(f\"{'='*60}\\n\")\n\n# Create progress bar for 4 steps\nwith tqdm(total=4, desc=f\"{gene}\", bar_format='{desc}: {percentage:3.0f}%|{bar}| {n_fmt}/{total_fmt} [{elapsed}]') as pbar:\n    \n    # Step 1: Extract CDS\n    pbar.set_description(f\"{gene}: Extracting CDS\")\n    cmd_cds = f'''exonerate --model protein2genome \\\n  \"{reference_protein}\" \\\n  \"{genome_scaffolds}\" \\\n  --bestn 1 \\\n  --showalignment no --showvulgar no --verbose 0 \\\n  --ryo \">{gene}|%ti:%tab-%tae(%tS)\\\\n%tcs\\\\n\" > \"{output_cds}\"'''\n    \n    result = subprocess.run(cmd_cds, shell=True, capture_output=True, text=True)\n    if result.returncode == 0:\n        print(f\"   ✓ CDS extracted: {output_cds.name}\")\n    else:\n        print(f\"   ✗ Error: {result.stderr}\")\n    pbar.update(1)\n    \n    # Step 2: Extract GFF\n    pbar.set_description(f\"{gene}: Extracting GFF\")\n    cmd_gff = f'''exonerate --model protein2genome \\\n  \"{reference_protein}\" \\\n  \"{genome_scaffolds}\" \\\n  --bestn 1 \\\n  --showalignment no --showvulgar no --verbose 0 \\\n  --showtargetgff yes > \"{output_gff}\"'''\n    \n    result = subprocess.run(cmd_gff, shell=True, capture_output=True, text=True)\n    if result.returncode == 0:\n        print(f\"   ✓ GFF extracted: {output_gff.name}\")\n    pbar.update(1)\n    \n    # Step 3: Translate to protein\n    pbar.set_description(f\"{gene}: Translating\")\n    cmd_translate = f'transeq -sequence \"{output_cds}\" -outseq \"{output_protein}\" -frame 1'\n    result = subprocess.run(cmd_translate, shell=True, capture_output=True, text=True)\n    if result.returncode == 0:\n        print(f\"   ✓ Protein translated: {output_protein.name}\")\n    pbar.update(1)\n    \n    # Step 4: Quality Control\n    pbar.set_description(f\"{gene}: Quality check\")\n    if output_protein.exists():\n        for record in SeqIO.parse(output_protein, \"fasta\"):\n            sequence = str(record.seq)\n            internal_seq = sequence[:-1] if sequence.endswith('*') else sequence\n            stop_count = internal_seq.count('*')\n            \n            print(f\"\\n   Quality Control:\")\n            if stop_count == 0:\n                print(f\"   ✅ No internal stop codons\")\n            else:\n                print(f\"   ⚠️  {stop_count} internal stop codon(s) found!\")\n            \n            protein_length = len(sequence)\n            for ref_record in SeqIO.parse(reference_protein, \"fasta\"):\n                ref_length = len(ref_record.seq)\n                diff = protein_length - ref_length\n                if diff == 0:\n                    print(f\"   ✅ Length: {protein_length} aa (matches reference)\")\n                else:\n                    print(f\"   ⚠️  Length: {protein_length} aa (ref: {ref_length} aa, diff: {diff:+d})\")\n    pbar.update(1)\n    pbar.set_description(f\"{gene}: Complete\")\n\nprint(f\"\\n{'='*60}\\n\")",
   "metadata": {},
   "execution_count": null,
   "outputs": []
  },
  {
   "cell_type": "markdown",
   "source": "## Final Summary\n\nReview all extracted proteins",
   "metadata": {}
  },
  {
   "cell_type": "code",
   "source": "import pandas as pd\n\n# Collect results for all 4 genes\nresults = []\n\nfor gene in ['PsiD', 'PsiK', 'PsiM', 'PsiH']:\n    protein_file = RESULTS_DIR / f\"P_baeocystis_{gene}.prot.fa\"\n    \n    if protein_file.exists():\n        record = list(SeqIO.parse(protein_file, \"fasta\"))[0]\n        sequence = str(record.seq)\n        internal_seq = sequence[:-1] if sequence.endswith('*') else sequence\n        \n        # Get reference length\n        ref_file = BGC_GENES[gene]['reference']\n        ref_record = list(SeqIO.parse(ref_file, \"fasta\"))[0]\n        \n        results.append({\n            'Gene': gene,\n            'Enzyme': BGC_GENES[gene]['name'],\n            'Length (aa)': len(sequence),\n            'Reference (aa)': len(ref_record.seq),\n            'Difference': len(sequence) - len(ref_record.seq),\n            'Stop codons': internal_seq.count('*'),\n            'Status': '✅' if internal_seq.count('*') == 0 else '⚠️'\n        })\n\n# Display as table\ndf = pd.DataFrame(results)\nprint(\"\\n\" + \"=\"*80)\nprint(\"PROTEIN EXTRACTION SUMMARY - Psilocybe baeocystis\")\nprint(\"=\"*80 + \"\\n\")\nprint(df.to_string(index=False))\nprint(\"\\n\" + \"=\"*80)\nprint(f\"\\nTotal proteins extracted: {len(results)}/4\")\nprint(f\"Results saved in: {RESULTS_DIR}\")\nprint(\"=\"*80)",
   "metadata": {},
   "execution_count": null,
   "outputs": []
  },
  {
   "cell_type": "markdown",
   "source": "---\n\n# Batch Process All Species\n\nNow that we've validated the workflow on P. baeocystis, let's extract proteins from **all 71 species** in the dataset.\n\n**Goal:** Extract all 4 BGC proteins from all species for phylogenetic analysis\n\n---",
   "metadata": {}
  },
  {
   "cell_type": "markdown",
   "source": "## Setup Batch Processing",
   "metadata": {}
  },
  {
   "cell_type": "code",
   "source": "# Setup paths for batch processing\nSCAFFOLD_DIR = PROJECT_DIR / \"03_Sequences_Paper\" / \"Assembly_scaffolds\"\n\n# Create batch results directory\nBATCH_RESULTS_DIR = Path.cwd() / \"batch_results\"\nBATCH_RESULTS_DIR.mkdir(exist_ok=True)\n\n# Create subdirectories for each gene\nfor gene in ['PsiD', 'PsiK', 'PsiM', 'PsiH']:\n    (BATCH_RESULTS_DIR / gene).mkdir(exist_ok=True)\n\n# Get all scaffold files\nscaffold_files = sorted(list(SCAFFOLD_DIR.glob(\"*.scaffolds.fasta\")))\n\nprint(f\"Scaffold directory: {SCAFFOLD_DIR}\")\nprint(f\"Batch results directory: {BATCH_RESULTS_DIR}\")\nprint(f\"\\nFound {len(scaffold_files)} species scaffold files\")\nprint(f\"\\nFirst 5 species:\")\nfor i, scaffold_file in enumerate(scaffold_files[:5], 1):\n    species_name = scaffold_file.stem.replace('.scaffolds', '')\n    print(f\"  {i}. {species_name}\")",
   "metadata": {},
   "execution_count": null,
   "outputs": []
  },
  {
   "cell_type": "markdown",
   "source": "## Define Extraction Function",
   "metadata": {}
  },
  {
   "cell_type": "code",
   "source": "def extract_protein(species_name, scaffold_file, gene, reference_protein, output_dir):\n    \"\"\"\n    Extract a single protein from a genome scaffold.\n    \n    Returns:\n        dict: Results with status, protein length, and any warnings\n    \"\"\"\n    # Define output files\n    output_cds = output_dir / f\"{species_name}_{gene}.cds.fa\"\n    output_protein = output_dir / f\"{species_name}_{gene}.prot.fa\"\n    \n    results = {\n        'species': species_name,\n        'gene': gene,\n        'status': 'pending',\n        'protein_length': 0,\n        'stop_codons': 0,\n        'warnings': []\n    }\n    \n    try:\n        # Step 1: Extract CDS with exonerate\n        cmd_cds = f'''exonerate --model protein2genome \\\n  \"{reference_protein}\" \\\n  \"{scaffold_file}\" \\\n  --bestn 1 \\\n  --showalignment no --showvulgar no --verbose 0 \\\n  --ryo \">{gene}|%ti:%tab-%tae(%tS)\\\\n%tcs\\\\n\" > \"{output_cds}\"'''\n        \n        result = subprocess.run(cmd_cds, shell=True, capture_output=True, text=True, timeout=300)\n        \n        if result.returncode != 0:\n            results['status'] = 'failed_exonerate'\n            results['warnings'].append(f\"Exonerate failed: {result.stderr[:100]}\")\n            return results\n        \n        # Check if CDS was found\n        if not output_cds.exists() or output_cds.stat().st_size == 0:\n            results['status'] = 'no_match'\n            results['warnings'].append(\"No match found in genome\")\n            return results\n        \n        # Step 2: Translate to protein\n        cmd_translate = f'transeq -sequence \"{output_cds}\" -outseq \"{output_protein}\" -frame 1'\n        result = subprocess.run(cmd_translate, shell=True, capture_output=True, text=True, timeout=60)\n        \n        if result.returncode != 0:\n            results['status'] = 'failed_translate'\n            results['warnings'].append(f\"Translation failed: {result.stderr[:100]}\")\n            return results\n        \n        # Step 3: Quality control\n        if output_protein.exists():\n            record = list(SeqIO.parse(output_protein, \"fasta\"))[0]\n            sequence = str(record.seq)\n            \n            # Check for internal stop codons\n            internal_seq = sequence[:-1] if sequence.endswith('*') else sequence\n            stop_count = internal_seq.count('*')\n            \n            results['protein_length'] = len(sequence)\n            results['stop_codons'] = stop_count\n            \n            if stop_count > 0:\n                results['warnings'].append(f\"{stop_count} internal stop codon(s)\")\n            \n            if len(sequence) < 50:\n                results['warnings'].append(f\"Protein very short: {len(sequence)} aa\")\n            \n            results['status'] = 'success'\n        else:\n            results['status'] = 'failed_qc'\n            results['warnings'].append(\"Protein file not created\")\n    \n    except subprocess.TimeoutExpired:\n        results['status'] = 'timeout'\n        results['warnings'].append(\"Command timeout\")\n    except Exception as e:\n        results['status'] = 'error'\n        results['warnings'].append(f\"Exception: {str(e)[:100]}\")\n    \n    return results\n\nprint(\"✓ Extraction function defined\")",
   "metadata": {},
   "execution_count": null,
   "outputs": []
  },
  {
   "cell_type": "markdown",
   "source": "## Batch Extract All Species\n\n**Note:** This will take 30-60 minutes to process all 71 species × 4 genes = 284 extractions",
   "metadata": {}
  },
  {
   "cell_type": "code",
   "source": "# Process all species\nall_results = []\n\nprint(f\"Processing {len(scaffold_files)} species × 4 genes = {len(scaffold_files) * 4} extractions\\n\")\n\nfor scaffold_file in tqdm(scaffold_files, desc=\"Species\"):\n    species_name = scaffold_file.stem.replace('.scaffolds', '')\n    \n    for gene, info in BGC_GENES.items():\n        output_dir = BATCH_RESULTS_DIR / gene\n        result = extract_protein(\n            species_name=species_name,\n            scaffold_file=scaffold_file,\n            gene=gene,\n            reference_protein=info['reference'],\n            output_dir=output_dir\n        )\n        all_results.append(result)\n\nprint(\"\\n✓ Batch extraction complete!\")",
   "metadata": {},
   "execution_count": null,
   "outputs": []
  },
  {
   "cell_type": "markdown",
   "source": "## Batch Summary Statistics",
   "metadata": {}
  },
  {
   "cell_type": "code",
   "source": "# Create summary DataFrame\ndf_results = pd.DataFrame(all_results)\n\nprint(\"=\"*80)\nprint(\"BATCH EXTRACTION SUMMARY\")\nprint(\"=\"*80)\n\n# Overall stats\nprint(f\"\\nTotal extractions: {len(df_results)}\")\nprint(f\"Successful: {len(df_results[df_results['status'] == 'success'])}\")\nprint(f\"Failed: {len(df_results[df_results['status'] != 'success'])}\")\n\n# Stats by gene\nprint(\"\\nSuccess rate by gene:\")\nfor gene in ['PsiD', 'PsiK', 'PsiM', 'PsiH']:\n    gene_data = df_results[df_results['gene'] == gene]\n    success_count = len(gene_data[gene_data['status'] == 'success'])\n    total = len(gene_data)\n    pct = (success_count / total * 100) if total > 0 else 0\n    print(f\"  {gene}: {success_count}/{total} ({pct:.1f}%)\")\n\n# Protein length statistics\nprint(\"\\nProtein length statistics (successful extractions):\")\nsuccess_df = df_results[df_results['status'] == 'success']\nfor gene in ['PsiD', 'PsiK', 'PsiM', 'PsiH']:\n    gene_data = success_df[success_df['gene'] == gene]['protein_length']\n    if len(gene_data) > 0:\n        print(f\"  {gene}: mean={gene_data.mean():.0f} aa, min={gene_data.min()}, max={gene_data.max()}\")\n\n# Show failures\nfailed_df = df_results[df_results['status'] != 'success']\nif len(failed_df) > 0:\n    print(f\"\\nFailed extractions ({len(failed_df)}):\")\n    print(failed_df[['species', 'gene', 'status']].head(10).to_string(index=False))\n    if len(failed_df) > 10:\n        print(f\"... and {len(failed_df) - 10} more\")\n\nprint(\"\\n\" + \"=\"*80)\n\n# Save results to CSV\nresults_csv = BATCH_RESULTS_DIR / \"extraction_summary.csv\"\ndf_results.to_csv(results_csv, index=False)\nprint(f\"\\nResults saved to: {results_csv}\")",
   "metadata": {},
   "execution_count": null,
   "outputs": []
  },
  {
   "cell_type": "markdown",
   "source": "## Combine Proteins by Gene\n\nCreate combined FASTA files for each gene (all species together) - ready for phylogenetic analysis",
   "metadata": {}
  },
  {
   "cell_type": "code",
   "source": "print(\"Combining proteins by gene...\\n\")\n\nfor gene in ['PsiD', 'PsiK', 'PsiM', 'PsiH']:\n    gene_dir = BATCH_RESULTS_DIR / gene\n    combined_file = BATCH_RESULTS_DIR / f\"{gene}_all_species.faa\"\n    \n    # Collect all successful protein files\n    protein_files = sorted(gene_dir.glob(\"*_prot.fa\"))\n    \n    combined_records = []\n    for prot_file in protein_files:\n        try:\n            record = list(SeqIO.parse(prot_file, \"fasta\"))[0]\n            # Update ID to include species name\n            species_name = prot_file.stem.replace(f\"_{gene}.prot\", \"\")\n            record.id = f\"{species_name}|{gene}\"\n            record.description = f\"{gene} [{species_name}]\"\n            combined_records.append(record)\n        except:\n            pass  # Skip files that can't be read\n    \n    # Write combined file\n    SeqIO.write(combined_records, combined_file, \"fasta\")\n    print(f\"✓ {gene}: {len(combined_records)} sequences → {combined_file.name}\")\n\nprint(\"\\n\" + \"=\"*80)\nprint(\"BATCH PROCESSING COMPLETE!\")\nprint(\"=\"*80)\nprint(f\"\\nResults location: {BATCH_RESULTS_DIR}\")\nprint(\"\\nCombined FASTA files ready for downstream analysis:\")\nfor gene in ['PsiD', 'PsiK', 'PsiM', 'PsiH']:\n    combined_file = BATCH_RESULTS_DIR / f\"{gene}_all_species.faa\"\n    if combined_file.exists():\n        print(f\"  - {combined_file.name}\")\nprint(\"\\nNext steps:\")\nprint(\"  1. Multiple sequence alignment (MAFFT)\")\nprint(\"  2. Phylogenetic tree building (IQ-TREE)\")\nprint(\"  3. Ancestral sequence reconstruction (ASR)\")",
   "metadata": {},
   "execution_count": null,
   "outputs": []
  }
 ],
 "metadata": {
  "kernelspec": {
   "display_name": "Python 3 (ipykernel)",
   "language": "python",
   "name": "python3"
  },
  "language_info": {
   "codemirror_mode": {
    "name": "ipython",
    "version": 3
   },
   "file_extension": ".py",
   "mimetype": "text/x-python",
   "name": "python",
   "nbconvert_exporter": "python",
   "pygments_lexer": "ipython3",
   "version": "3.9.24"
  }
 },
 "nbformat": 4,
 "nbformat_minor": 4
}