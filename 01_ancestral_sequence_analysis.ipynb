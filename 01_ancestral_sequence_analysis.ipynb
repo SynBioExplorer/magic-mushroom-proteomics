{
 "cells": [
  {
   "cell_type": "markdown",
   "metadata": {},
   "source": [
    "# Ancestral Sequence Reconstruction - Psilocybin BGC\n",
    "\n",
    "**Project:** Analysis of psilocybin biosynthetic gene cluster (BGC) evolution in Psilocybe mushrooms\n",
    "\n",
    "**Based on:** Bradshaw et al. (2024) - Phylogenomics of the psychoactive mushroom genus Psilocybe\n",
    "\n",
    "**Objectives:**\n",
    "1. Extract and align PsiD, PsiK, PsiM, PsiH sequences from Psilocybe species\n",
    "2. Reconstruct phylogenetic trees for each gene\n",
    "3. Perform ancestral sequence reconstruction (ASR)\n",
    "4. Analyze evolutionary patterns and gene cluster organization\n",
    "\n",
    "---"
   ]
  },
  {
   "cell_type": "markdown",
   "metadata": {},
   "source": [
    "## Setup and Imports"
   ]
  },
  {
   "cell_type": "code",
   "execution_count": null,
   "metadata": {},
   "outputs": [],
   "source": [
    "# Standard libraries\n",
    "import os\n",
    "import sys\n",
    "from pathlib import Path\n",
    "import subprocess\n",
    "\n",
    "# Data manipulation\n",
    "import pandas as pd\n",
    "import numpy as np\n",
    "\n",
    "# Bioinformatics\n",
    "from Bio import SeqIO, Seq, AlignIO, Phylo\n",
    "from Bio.Align.Applications import MafftCommandline\n",
    "\n",
    "# Visualization\n",
    "import matplotlib.pyplot as plt\n",
    "import seaborn as sns\n",
    "\n",
    "# Set plotting style\n",
    "sns.set_style(\"whitegrid\")\n",
    "plt.rcParams['figure.figsize'] = (12, 8)\n",
    "\n",
    "# Set paths\n",
    "PROJECT_DIR = Path.cwd().parent\n",
    "DATA_DIR = PROJECT_DIR / \"03_Sequences_Paper\"\n",
    "RESULTS_DIR = Path.cwd() / \"results\"\n",
    "RESULTS_DIR.mkdir(exist_ok=True)\n",
    "\n",
    "print(f\"Project directory: {PROJECT_DIR}\")\n",
    "print(f\"Data directory: {DATA_DIR}\")\n",
    "print(f\"Results directory: {RESULTS_DIR}\")"
   ]
  },
  {
   "cell_type": "markdown",
   "metadata": {},
   "source": [
    "## 1. Data Exploration\n",
    "\n",
    "Let's explore the available sequence data from the Bradshaw et al. (2024) paper."
   ]
  },
  {
   "cell_type": "code",
   "execution_count": null,
   "metadata": {},
   "outputs": [],
   "source": [
    "# List available data directories\n",
    "data_subdirs = [d for d in DATA_DIR.iterdir() if d.is_dir()]\n",
    "print(\"Available data directories:\")\n",
    "for d in data_subdirs:\n",
    "    print(f\"  - {d.name}\")\n",
    "    # List first few files in each directory\n",
    "    files = list(d.glob(\"*\"))[:5]\n",
    "    for f in files:\n",
    "        print(f\"      {f.name}\")\n",
    "    if len(list(d.glob(\"*\"))) > 5:\n",
    "        print(f\"      ... and {len(list(d.glob('*'))) - 5} more files\")"
   ]
  },
  {
   "cell_type": "markdown",
   "metadata": {},
   "source": [
    "## 2. Load PsiD Protein Sequences\n",
    "\n",
    "PsiD (tryptophan decarboxylase) is one of the four core genes in the psilocybin BGC."
   ]
  },
  {
   "cell_type": "code",
   "execution_count": null,
   "metadata": {},
   "outputs": [],
   "source": [
    "# Find PsiD sequences\n",
    "psid_dir = DATA_DIR / \"Proteins_PsiD\"\n",
    "\n",
    "if psid_dir.exists():\n",
    "    psid_files = list(psid_dir.glob(\"*.fa*\"))\n",
    "    print(f\"Found {len(psid_files)} PsiD sequence files\")\n",
    "    \n",
    "    # Display first few files\n",
    "    for f in psid_files[:10]:\n",
    "        print(f\"  - {f.name}\")\n",
    "else:\n",
    "    print(f\"PsiD directory not found at {psid_dir}\")\n",
    "    print(\"Available directories:\")\n",
    "    for d in DATA_DIR.iterdir():\n",
    "        print(f\"  - {d.name}\")"
   ]
  },
  {
   "cell_type": "markdown",
   "metadata": {},
   "source": [
    "## 3. Sequence Alignment with MAFFT\n",
    "\n",
    "We'll use MAFFT for multiple sequence alignment of PsiD proteins."
   ]
  },
  {
   "cell_type": "code",
   "execution_count": null,
   "metadata": {},
   "outputs": [],
   "source": [
    "def run_mafft(input_fasta, output_fasta, algorithm=\"auto\"):\n",
    "    \"\"\"\n",
    "    Run MAFFT multiple sequence alignment.\n",
    "    \n",
    "    Parameters:\n",
    "    -----------\n",
    "    input_fasta : str or Path\n",
    "        Input unaligned FASTA file\n",
    "    output_fasta : str or Path\n",
    "        Output aligned FASTA file\n",
    "    algorithm : str\n",
    "        MAFFT algorithm: 'auto', 'linsi', 'ginsi', 'einsi'\n",
    "    \"\"\"\n",
    "    cmd = [\n",
    "        \"mafft\",\n",
    "        \"--auto\" if algorithm == \"auto\" else f\"--{algorithm}\",\n",
    "        \"--reorder\",\n",
    "        str(input_fasta)\n",
    "    ]\n",
    "    \n",
    "    print(f\"Running MAFFT: {' '.join(cmd)}\")\n",
    "    \n",
    "    with open(output_fasta, 'w') as outfile:\n",
    "        result = subprocess.run(cmd, stdout=outfile, stderr=subprocess.PIPE, text=True)\n",
    "    \n",
    "    if result.returncode == 0:\n",
    "        print(f\"✓ Alignment complete: {output_fasta}\")\n",
    "        return True\n",
    "    else:\n",
    "        print(f\"✗ MAFFT failed: {result.stderr}\")\n",
    "        return False\n",
    "\n",
    "# Example usage (uncomment when ready):\n",
    "# run_mafft(\n",
    "#     input_fasta=\"combined_PsiD.fasta\",\n",
    "#     output_fasta=RESULTS_DIR / \"PsiD_aligned.fasta\",\n",
    "#     algorithm=\"auto\"\n",
    "# )"
   ]
  },
  {
   "cell_type": "markdown",
   "metadata": {},
   "source": [
    "## 4. Phylogenetic Tree Construction with IQ-TREE\n",
    "\n",
    "IQ-TREE will be used to construct maximum-likelihood phylogenetic trees."
   ]
  },
  {
   "cell_type": "code",
   "execution_count": null,
   "metadata": {},
   "outputs": [],
   "source": [
    "def run_iqtree(alignment_file, output_prefix, bootstrap=1000, model=\"MFP\"):\n",
    "    \"\"\"\n",
    "    Run IQ-TREE for phylogenetic analysis.\n",
    "    \n",
    "    Parameters:\n",
    "    -----------\n",
    "    alignment_file : str or Path\n",
    "        Input alignment file\n",
    "    output_prefix : str or Path\n",
    "        Prefix for output files\n",
    "    bootstrap : int\n",
    "        Number of ultrafast bootstrap replicates\n",
    "    model : str\n",
    "        Substitution model (MFP = ModelFinder Plus for automatic selection)\n",
    "    \"\"\"\n",
    "    cmd = [\n",
    "        \"iqtree\",\n",
    "        \"-s\", str(alignment_file),\n",
    "        \"-pre\", str(output_prefix),\n",
    "        \"-m\", model,\n",
    "        \"-bb\", str(bootstrap),\n",
    "        \"-nt\", \"AUTO\"\n",
    "    ]\n",
    "    \n",
    "    print(f\"Running IQ-TREE: {' '.join(cmd)}\")\n",
    "    \n",
    "    result = subprocess.run(cmd, capture_output=True, text=True)\n",
    "    \n",
    "    if result.returncode == 0:\n",
    "        print(f\"✓ IQ-TREE analysis complete\")\n",
    "        print(f\"  Tree file: {output_prefix}.treefile\")\n",
    "        return True\n",
    "    else:\n",
    "        print(f\"✗ IQ-TREE failed: {result.stderr}\")\n",
    "        return False\n",
    "\n",
    "# Example usage (uncomment when ready):\n",
    "# run_iqtree(\n",
    "#     alignment_file=RESULTS_DIR / \"PsiD_aligned.fasta\",\n",
    "#     output_prefix=RESULTS_DIR / \"PsiD_tree\",\n",
    "#     bootstrap=1000\n",
    "# )"
   ]
  },
  {
   "cell_type": "markdown",
   "metadata": {},
   "source": [
    "## 5. Visualize Phylogenetic Tree"
   ]
  },
  {
   "cell_type": "code",
   "execution_count": null,
   "metadata": {},
   "outputs": [],
   "source": [
    "def visualize_tree(tree_file, title=\"Phylogenetic Tree\"):\n",
    "    \"\"\"\n",
    "    Visualize a phylogenetic tree using Biopython.\n",
    "    \n",
    "    Parameters:\n",
    "    -----------\n",
    "    tree_file : str or Path\n",
    "        Path to tree file (Newick format)\n",
    "    title : str\n",
    "        Title for the plot\n",
    "    \"\"\"\n",
    "    tree = Phylo.read(tree_file, \"newick\")\n",
    "    \n",
    "    fig, ax = plt.subplots(figsize=(15, 10))\n",
    "    Phylo.draw(tree, axes=ax, do_show=False)\n",
    "    ax.set_title(title, fontsize=16, fontweight='bold')\n",
    "    plt.tight_layout()\n",
    "    plt.show()\n",
    "    \n",
    "    return tree\n",
    "\n",
    "# Example usage (uncomment when ready):\n",
    "# tree = visualize_tree(\n",
    "#     tree_file=RESULTS_DIR / \"PsiD_tree.treefile\",\n",
    "#     title=\"PsiD Phylogenetic Tree\"\n",
    "# )"
   ]
  },
  {
   "cell_type": "markdown",
   "metadata": {},
   "source": [
    "## 6. Ancestral Sequence Reconstruction\n",
    "\n",
    "This section will implement ancestral sequence reconstruction using various methods."
   ]
  },
  {
   "cell_type": "code",
   "execution_count": null,
   "metadata": {},
   "outputs": [],
   "source": [
    "# Placeholder for ASR implementation\n",
    "# Will use tools like:\n",
    "# - PAML (codeml)\n",
    "# - IQ-TREE (with -asr option)\n",
    "# - MEGA\n",
    "\n",
    "print(\"Ancestral Sequence Reconstruction methods to be implemented...\")"
   ]
  },
  {
   "cell_type": "markdown",
   "metadata": {},
   "source": [
    "## 7. Analysis of Gene Cluster Organization\n",
    "\n",
    "Compare the two distinct BGC gene orders found in Clade I vs Clade II."
   ]
  },
  {
   "cell_type": "code",
   "execution_count": null,
   "metadata": {},
   "outputs": [],
   "source": [
    "# BGC gene orders from the paper:\n",
    "clade_I_order = [\"PsiD\", \"PsiK\", \"PsiH\", \"PsiM\"]\n",
    "clade_II_order = [\"PsiD\", \"PsiM\", \"PsiH\", \"PsiK\"]\n",
    "\n",
    "print(\"Psilocybin BGC Gene Cluster Organization:\")\n",
    "print(f\"  Clade I:  {' > '.join(clade_I_order)}\")\n",
    "print(f\"  Clade II: {' > '.join(clade_II_order)}\")\n",
    "\n",
    "# Visualization of gene orders\n",
    "fig, (ax1, ax2) = plt.subplots(2, 1, figsize=(12, 4))\n",
    "\n",
    "colors = {'PsiD': 'red', 'PsiK': 'green', 'PsiM': 'gold', 'PsiH': 'purple'}\n",
    "\n",
    "# Clade I\n",
    "for i, gene in enumerate(clade_I_order):\n",
    "    ax1.add_patch(plt.Rectangle((i, 0), 0.8, 0.5, facecolor=colors[gene], edgecolor='black', linewidth=2))\n",
    "    ax1.text(i+0.4, 0.25, gene, ha='center', va='center', fontsize=12, fontweight='bold')\n",
    "\n",
    "ax1.set_xlim(-0.5, len(clade_I_order))\n",
    "ax1.set_ylim(-0.2, 1)\n",
    "ax1.set_title('Clade I BGC Organization', fontsize=14, fontweight='bold')\n",
    "ax1.axis('off')\n",
    "\n",
    "# Clade II\n",
    "for i, gene in enumerate(clade_II_order):\n",
    "    ax2.add_patch(plt.Rectangle((i, 0), 0.8, 0.5, facecolor=colors[gene], edgecolor='black', linewidth=2))\n",
    "    ax2.text(i+0.4, 0.25, gene, ha='center', va='center', fontsize=12, fontweight='bold')\n",
    "\n",
    "ax2.set_xlim(-0.5, len(clade_II_order))\n",
    "ax2.set_ylim(-0.2, 1)\n",
    "ax2.set_title('Clade II BGC Organization', fontsize=14, fontweight='bold')\n",
    "ax2.axis('off')\n",
    "\n",
    "plt.tight_layout()\n",
    "plt.show()"
   ]
  },
  {
   "cell_type": "markdown",
   "metadata": {},
   "source": [
    "## 8. Summary and Next Steps\n",
    "\n",
    "**Completed:**\n",
    "- [ ] Data exploration\n",
    "- [ ] Sequence alignment (MAFFT)\n",
    "- [ ] Phylogenetic tree construction (IQ-TREE)\n",
    "- [ ] Tree visualization\n",
    "- [ ] BGC organization analysis\n",
    "\n",
    "**To Do:**\n",
    "- [ ] Implement ancestral sequence reconstruction\n",
    "- [ ] Analyze all four BGC genes (PsiD, PsiK, PsiM, PsiH)\n",
    "- [ ] Divergence time estimation\n",
    "- [ ] Functional analysis of reconstructed ancestral sequences\n",
    "\n",
    "---"
   ]
  },
  {
   "cell_type": "markdown",
   "metadata": {},
   "source": [
    "## References\n",
    "\n",
    "1. Bradshaw et al. (2024). Phylogenomics of the psychoactive mushroom genus Psilocybe and evolution of the psilocybin biosynthetic gene cluster. *PNAS* 121(3):e2311245121.\n",
    "\n",
    "2. Fricke et al. (2017). Enzymatic synthesis of psilocybin. *Angew. Chem. Int. Ed.* 56:12352–12355."
   ]
  }
 ],
 "metadata": {
  "kernelspec": {
   "display_name": "Python 3 (ipykernel)",
   "language": "python",
   "name": "python3"
  },
  "language_info": {
   "codemirror_mode": {
    "name": "ipython",
    "version": 3
   },
   "file_extension": ".py",
   "mimetype": "text/x-python",
   "name": "python",
   "nbconvert_exporter": "python",
   "pygments_lexer": "ipython3",
   "version": "3.9.24"
  }
 },
 "nbformat": 4,
 "nbformat_minor": 4
}
